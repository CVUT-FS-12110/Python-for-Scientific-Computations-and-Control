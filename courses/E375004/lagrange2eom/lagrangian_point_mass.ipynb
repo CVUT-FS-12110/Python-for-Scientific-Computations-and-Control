{
 "cells": [
  {
   "cell_type": "code",
   "execution_count": 1,
   "id": "a7857297",
   "metadata": {},
   "outputs": [],
   "source": [
    "# 🧠 SymPy Basics – Before We Begin\n",
    "# This section introduces symbolic math tools you'll need in the rest of the tutorial.\n",
    "\n",
    "from sympy import symbols, Function, diff, integrate, limit, sin, cos, Eq, solve\n",
    "from sympy import init_printing\n",
    "init_printing()  # Pretty LaTeX-like math rendering\n"
   ]
  },
  {
   "cell_type": "markdown",
   "id": "95c92edd",
   "metadata": {},
   "source": [
    "## 🧠 SymPy Basics – Before We Begin\n",
    "\n",
    "Before jumping into Lagrangian mechanics, let's take a moment to get familiar with SymPy, the symbolic math library in Python.\n",
    "\n",
    "We'll learn how to:\n",
    "\n",
    "- Calculate **derivatives**\n",
    "- Compute **integrals**\n",
    "- Evaluate **limits**\n",
    "- **Solve** equations\n",
    "\n"
   ]
  },
  {
   "cell_type": "markdown",
   "id": "2e37c6d6",
   "metadata": {},
   "source": [
    "### 🔹 Derivatives\n",
    "\n",
    "To compute symbolic derivatives, use `diff()`.\n",
    "\n",
    "Example: the derivative of \\( x^2 \\sin(x) \\)\n"
   ]
  },
  {
   "cell_type": "code",
   "execution_count": 2,
   "id": "c0e53bf3",
   "metadata": {},
   "outputs": [
    {
     "data": {
      "image/png": "[encoded data removed]",
      "text/latex": [
       "$\\displaystyle x^{2} \\cos{\\left(x \\right)} + 2 x \\sin{\\left(x \\right)}$"
      ],
      "text/plain": [
       " 2                    \n",
       "x ⋅cos(x) + 2⋅x⋅sin(x)"
      ]
     },
     "execution_count": 2,
     "metadata": {},
     "output_type": "execute_result"
    }
   ],
   "source": [
    "x = symbols('x')\n",
    "expr = x**2 * sin(x)\n",
    "diff(expr, x)\n"
   ]
  },
  {
   "cell_type": "markdown",
   "id": "3838505e",
   "metadata": {},
   "source": [
    "### 🔹 Integrals\n",
    "\n",
    "Use `integrate()` to compute integrals.\n",
    "\n",
    "Example: the indefinite integral of \\( x \\cos(x) \\)\n"
   ]
  },
  {
   "cell_type": "code",
   "execution_count": 3,
   "id": "590cb494",
   "metadata": {},
   "outputs": [
    {
     "data": {
      "image/png": "[encoded data removed]",
      "text/latex": [
       "$\\displaystyle x \\sin{\\left(x \\right)} + \\cos{\\left(x \\right)}$"
      ],
      "text/plain": [
       "x⋅sin(x) + cos(x)"
      ]
     },
     "execution_count": 3,
     "metadata": {},
     "output_type": "execute_result"
    }
   ],
   "source": [
    "integrate(x * cos(x), x)\n"
   ]
  },
  {
   "cell_type": "markdown",
   "id": "effdd6d8",
   "metadata": {},
   "source": [
    "### 🔹 Limits\n",
    "\n",
    "You can evaluate limits using `limit()`.\n",
    "\n",
    "Example: \\( \\lim_{x \\to 0} \\frac{\\sin(x)}{x} \\)\n"
   ]
  },
  {
   "cell_type": "code",
   "execution_count": 4,
   "id": "13383906",
   "metadata": {},
   "outputs": [
    {
     "data": {
      "image/png": "[encoded data removed]",
      "text/latex": [
       "$\\displaystyle 1$"
      ],
      "text/plain": [
       "1"
      ]
     },
     "execution_count": 4,
     "metadata": {},
     "output_type": "execute_result"
    }
   ],
   "source": [
    "limit(sin(x)/x, x, 0)\n"
   ]
  },
  {
   "cell_type": "markdown",
   "id": "ccdc4230",
   "metadata": {},
   "source": [
    "### 🔹 Solving Equations\n",
    "\n",
    "Use `Eq()` to define an equation and `solve()` to solve it.\n",
    "\n",
    "Example: Solve $ x^2 - 2 = 0 $\n",
    "\n"
   ]
  },
  {
   "cell_type": "code",
   "execution_count": 5,
   "id": "6597b8aa",
   "metadata": {},
   "outputs": [
    {
     "data": {
      "image/png": "[encoded data removed]",
      "text/latex": [
       "$\\displaystyle \\left[ - \\sqrt{2}, \\  \\sqrt{2}\\right]$"
      ],
      "text/plain": [
       "[-√2, √2]"
      ]
     },
     "execution_count": 5,
     "metadata": {},
     "output_type": "execute_result"
    }
   ],
   "source": [
    "eq = Eq(x**2 - 2, 0)\n",
    "solve(eq, x)\n"
   ]
  },
  {
   "cell_type": "markdown",
   "id": "6101328a",
   "metadata": {},
   "source": [
    "# 📓 Lagrangian Mechanics Tutorial\n",
    "## 🔹 Example 1: Point Mass under Gravity\n",
    "\n",
    "\n",
    "<img src=\"point_mass.png\" width=\"300\" />"
   ]
  },
  {
   "cell_type": "code",
   "execution_count": null,
   "id": "2602186a",
   "metadata": {},
   "outputs": [],
   "source": [
    "from sympy import symbols, Function, diff, simplify\n",
    "from sympy.physics.mechanics import dynamicsymbols\n",
    "from sympy import init_printing\n",
    "\n",
    "init_printing()  # Pretty LaTeX-like printing in notebook"
   ]
  },
  {
   "cell_type": "markdown",
   "id": "f0109ef1",
   "metadata": {},
   "source": [
    "## 🔹 1. Define Coordinates and Time\n",
    "We will consider a single point mass $m$ moving vertically under gravity.  \n",
    "Let $y(t)$ be the vertical position of the mass."
   ]
  },
  {
   "cell_type": "code",
   "execution_count": null,
   "id": "ee0e162e",
   "metadata": {},
   "outputs": [],
   "source": [
    "t = symbols('t')                      # Time\n",
    "y = Function('y')(t)                # Vertical position y(t)\n",
    "m, g = symbols('m g')              # Mass and gravitational acceleration"
   ]
  },
  {
   "cell_type": "markdown",
   "id": "9a64e076",
   "metadata": {},
   "source": [
    "## 🔹 2. Kinetic Energy $T$\n",
    "The kinetic energy of the mass is:\n",
    "\n",
    "$$\n",
    "T = \\frac{1}{2} m \\dot{y}^2\n",
    "$$"
   ]
  },
  {
   "cell_type": "code",
   "execution_count": null,
   "id": "9e88d4a3",
   "metadata": {},
   "outputs": [],
   "source": [
    "y_dot = diff(y, t)\n",
    "T = (1/2) * m * y_dot**2\n",
    "T"
   ]
  },
  {
   "cell_type": "markdown",
   "id": "46d5820e",
   "metadata": {},
   "source": [
    "## 🔹 3. Potential Energy $V$\n",
    "Assume potential energy is zero at $y = 0$.  \n",
    "Then:\n",
    "\n",
    "$$\n",
    "V = m g y\n",
    "$$"
   ]
  },
  {
   "cell_type": "code",
   "execution_count": null,
   "id": "f6debfbf",
   "metadata": {},
   "outputs": [],
   "source": [
    "V = m * g * y\n",
    "V"
   ]
  },
  {
   "cell_type": "markdown",
   "id": "e9fad303",
   "metadata": {},
   "source": [
    "## 🔹 4. Lagrangian $L = T - V$\n",
    "\n",
    "$$\n",
    "L = T - V = \\frac{1}{2} m \\dot{y}^2 - m g y\n",
    "$$"
   ]
  },
  {
   "cell_type": "code",
   "execution_count": null,
   "id": "0d0c0f52",
   "metadata": {},
   "outputs": [],
   "source": [
    "L = T - V\n",
    "L"
   ]
  },
  {
   "cell_type": "markdown",
   "id": "cb854ce7",
   "metadata": {},
   "source": [
    "## 🔹 5. Apply Euler-Lagrange Equation\n",
    "The Lagrange equation is:\n",
    "\n",
    "$$\n",
    "\\frac{d}{dt} \\left( \\frac{\\partial L}{\\partial \\dot{y}} \\right) - \\frac{\\partial L}{\\partial y} = 0\n",
    "$$"
   ]
  },
  {
   "cell_type": "code",
   "execution_count": null,
   "id": "c0973116",
   "metadata": {},
   "outputs": [],
   "source": [
    "dL_dy = diff(L, y)\n",
    "dL_dy_dot = diff(L, y_dot)\n",
    "d_dt_dL_dy_dot = diff(dL_dy_dot, t)\n",
    "lagrange_eq = simplify(d_dt_dL_dy_dot - dL_dy)\n",
    "lagrange_eq"
   ]
  },
  {
   "cell_type": "markdown",
   "id": "e71cccf5",
   "metadata": {},
   "source": [
    "## ✅ Final Result\n",
    "This should yield:\n",
    "\n",
    "$$\n",
    "m \\ddot{y} + m g = 0\n",
    "$$\n",
    "\n",
    "Or simplified:\n",
    "\n",
    "$$\n",
    "\\ddot{y} + g = 0\n",
    "$$"
   ]
  },
  {
   "cell_type": "code",
   "execution_count": null,
   "id": "f7642576",
   "metadata": {},
   "outputs": [],
   "source": [
    "from sympy import Eq, solve\n",
    "\n",
    "y_ddot = diff(y, t, t)\n",
    "eq = Eq(lagrange_eq, 0)\n",
    "sol = solve(eq, y_ddot)[0]\n",
    "sol"
   ]
  },
  {
   "cell_type": "markdown",
   "id": "6467c502",
   "metadata": {},
   "source": [
    "## 🌟 Conclusion\n",
    "We successfully derived the equation of motion for a free-falling point mass using Lagrangian mechanics and symbolic math in Python!"
   ]
  },
  {
   "cell_type": "markdown",
   "id": "a0a135a4",
   "metadata": {},
   "source": []
  }
 ],
 "metadata": {
  "kernelspec": {
   "display_name": "venv",
   "language": "python",
   "name": "python3"
  },
  "language_info": {
   "codemirror_mode": {
    "name": "ipython",
    "version": 3
   },
   "file_extension": ".py",
   "mimetype": "text/x-python",
   "name": "python",
   "nbconvert_exporter": "python",
   "pygments_lexer": "ipython3",
   "version": "3.10.11"
  }
 },
 "nbformat": 4,
 "nbformat_minor": 5
}
