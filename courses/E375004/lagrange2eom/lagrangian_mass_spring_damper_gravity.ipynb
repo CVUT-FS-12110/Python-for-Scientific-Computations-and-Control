{
 "cells": [
  {
   "cell_type": "markdown",
   "id": "95499c54",
   "metadata": {},
   "source": [
    "# 📓 Lagrangian Mechanics Tutorial\n",
    "## 🔹 Example 2: Mass on a Spring with a Damper and Gravity"
   ]
  },
  {
   "cell_type": "code",
   "execution_count": 1,
   "id": "43d5044b",
   "metadata": {},
   "outputs": [],
   "source": [
    "from sympy import symbols, Function, diff, simplify, solve, Eq, dsolve\n",
    "from sympy.physics.mechanics import dynamicsymbols\n",
    "from sympy import init_printing\n",
    "from IPython.display import display\n",
    "\n",
    "init_printing()  # Enables pretty printing in Jupyter\n"
   ]
  },
  {
   "cell_type": "markdown",
   "id": "c1a74bd6",
   "metadata": {},
   "source": [
    "## 🔹 1. Define Coordinates and Time\n",
    "We consider a point mass $m$ hanging from a spring (constant $k$) with a damper (coefficient $c$), under gravity. Let $x(t)$ be the vertical displacement.\n",
    "\n",
    " <img src=\"https://upload.wikimedia.org/wikipedia/commons/thumb/4/45/Mass_spring_damper.svg/1024px-Mass_spring_damper.svg.png\" width=\"250\">"
   ]
  },
  {
   "cell_type": "code",
   "execution_count": 2,
   "id": "671f17ef",
   "metadata": {},
   "outputs": [],
   "source": [
    "t = symbols('t')\n",
    "x = dynamicsymbols('x')  # downward displacement from unstretched spring position\n",
    "m, k, c, g = symbols('m k c g')"
   ]
  },
  {
   "cell_type": "markdown",
   "id": "bf309e99",
   "metadata": {},
   "source": [
    "## 🔹 2. Kinetic Energy $T$\n",
    "\n",
    "$$\n",
    "T = \\frac{1}{2} m \\dot{x}^2\n",
    "$$"
   ]
  },
  {
   "cell_type": "code",
   "execution_count": 3,
   "id": "7f38448f",
   "metadata": {},
   "outputs": [
    {
     "data": {
      "image/png": "[encoded data removed]",
      "text/latex": [
       "$\\displaystyle 0.5 m \\left(\\frac{d}{d t} x{\\left(t \\right)}\\right)^{2}$"
      ],
      "text/plain": [
       "                2\n",
       "      ⎛d       ⎞ \n",
       "0.5⋅m⋅⎜──(x(t))⎟ \n",
       "      ⎝dt      ⎠ "
      ]
     },
     "metadata": {},
     "output_type": "display_data"
    }
   ],
   "source": [
    "x_dot = diff(x, t)\n",
    "T = (1/2) * m * x_dot**2\n",
    "display(T)"
   ]
  },
  {
   "cell_type": "markdown",
   "id": "cd0228b3",
   "metadata": {},
   "source": [
    "## 🔹 3. Potential Energy $V$\n",
    "Includes both spring and gravity:\n",
    "\n",
    "$$\n",
    "V = \\frac{1}{2} k x^2 + m g x\n",
    "$$"
   ]
  },
  {
   "cell_type": "code",
   "execution_count": 4,
   "id": "b6ba04ad",
   "metadata": {},
   "outputs": [
    {
     "data": {
      "image/png": "[encoded data removed]",
      "text/latex": [
       "$\\displaystyle g m x{\\left(t \\right)} + 0.5 k x^{2}{\\left(t \\right)}$"
      ],
      "text/plain": [
       "                  2   \n",
       "g⋅m⋅x(t) + 0.5⋅k⋅x (t)"
      ]
     },
     "metadata": {},
     "output_type": "display_data"
    }
   ],
   "source": [
    "V = (1/2) * k * x**2 + m * g * x\n",
    "display(V)"
   ]
  },
  {
   "cell_type": "markdown",
   "id": "11dde9e7",
   "metadata": {},
   "source": [
    "## 🔹 4. Lagrangian $L = T - V$\n",
    "\n",
    "$$\n",
    "L = \\frac{1}{2} m \\dot{x}^2 - \\left( \\frac{1}{2} k x^2 + m g x \\right)\n",
    "$$"
   ]
  },
  {
   "cell_type": "code",
   "execution_count": 5,
   "id": "0b5b7408",
   "metadata": {},
   "outputs": [
    {
     "data": {
      "image/png": "[encoded data removed]",
      "text/latex": [
       "$\\displaystyle - g m x{\\left(t \\right)} - 0.5 k x^{2}{\\left(t \\right)} + 0.5 m \\left(\\frac{d}{d t} x{\\left(t \\right)}\\right)^{2}$"
      ],
      "text/plain": [
       "                                          2\n",
       "                   2            ⎛d       ⎞ \n",
       "-g⋅m⋅x(t) - 0.5⋅k⋅x (t) + 0.5⋅m⋅⎜──(x(t))⎟ \n",
       "                                ⎝dt      ⎠ "
      ]
     },
     "metadata": {},
     "output_type": "display_data"
    }
   ],
   "source": [
    "L = T - V\n",
    "display(L)"
   ]
  },
  {
   "cell_type": "markdown",
   "id": "b51476f6",
   "metadata": {},
   "source": [
    "## 🔹 5. Apply Euler-Lagrange Equation\n",
    "\n",
    "$$\n",
    "\\frac{d}{dt} \\left( \\frac{\\partial L}{\\partial \\dot{x}} \\right) - \\frac{\\partial L}{\\partial x} = Q\n",
    "$$\n",
    "\n",
    "Where $Q$ is the **non-conservative damping force**:\n",
    "\n",
    "$$\n",
    "Q = -c \\dot{x}\n",
    "$$"
   ]
  },
  {
   "cell_type": "code",
   "execution_count": 6,
   "id": "9943e19a",
   "metadata": {},
   "outputs": [
    {
     "data": {
      "image/png": "[encoded data removed]",
      "text/latex": [
       "$\\displaystyle 1.0 c \\frac{d}{d t} x{\\left(t \\right)} + 1.0 g m + 1.0 k x{\\left(t \\right)} + 1.0 m \\frac{d^{2}}{d t^{2}} x{\\left(t \\right)}$"
      ],
      "text/plain": [
       "                                                2      \n",
       "      d                                        d       \n",
       "1.0⋅c⋅──(x(t)) + 1.0⋅g⋅m + 1.0⋅k⋅x(t) + 1.0⋅m⋅───(x(t))\n",
       "      dt                                        2      \n",
       "                                              dt       "
      ]
     },
     "metadata": {},
     "output_type": "display_data"
    }
   ],
   "source": [
    "# Derivatives\n",
    "dL_dx = diff(L, x)\n",
    "dL_dx_dot = diff(L, x_dot)\n",
    "d_dt_dL_dx_dot = diff(dL_dx_dot, t)\n",
    "\n",
    "# Damping force\n",
    "Q = -c * x_dot\n",
    "\n",
    "# Lagrange equation with damping\n",
    "lagrange_eq = simplify(d_dt_dL_dx_dot - dL_dx - Q)\n",
    "display(lagrange_eq)"
   ]
  },
  {
   "cell_type": "markdown",
   "id": "9ab76527",
   "metadata": {},
   "source": [
    "## ✅ Final Result\n",
    "The resulting equation of motion:\n",
    "\n",
    "$$\n",
    "m \\ddot{x} + c \\dot{x} + k x + m g = 0\n",
    "$$\n",
    "\n",
    "which we want to express it again as: $$ \\ddot{x} = f(\\dot{x}, x, ..., t) $$"
   ]
  },
  {
   "cell_type": "code",
   "execution_count": 7,
   "id": "bfe5d740",
   "metadata": {},
   "outputs": [
    {
     "data": {
      "image/png": "[encoded data removed]",
      "text/latex": [
       "$\\displaystyle \\frac{- c \\frac{d}{d t} x{\\left(t \\right)} - g m - k x{\\left(t \\right)}}{m}$"
      ],
      "text/plain": [
       "    d                      \n",
       "- c⋅──(x(t)) - g⋅m - k⋅x(t)\n",
       "    dt                     \n",
       "───────────────────────────\n",
       "             m             "
      ]
     },
     "metadata": {},
     "output_type": "display_data"
    }
   ],
   "source": [
    "x_ddot = diff(x, t, 2)\n",
    "eq = Eq(lagrange_eq, 0)\n",
    "sol_x_ddot = solve(eq, x_ddot)[0]\n",
    "display(sol_x_ddot)"
   ]
  },
  {
   "cell_type": "markdown",
   "id": "e1e129bb",
   "metadata": {},
   "source": [
    "## 🔹 6. Solve the Differential Equation\n",
    "We now solve for $x(t)$ symbolically using _sympy.dsolve_"
   ]
  },
  {
   "cell_type": "code",
   "execution_count": 8,
   "id": "cd608060",
   "metadata": {},
   "outputs": [
    {
     "data": {
      "image/png": "[encoded data removed]",
      "text/latex": [
       "$\\displaystyle x{\\left(t \\right)} = C_{1} e^{\\frac{t \\left(- c + \\sqrt{c^{2} - 4 k m}\\right)}{2 m}} + C_{2} e^{- \\frac{t \\left(c + \\sqrt{c^{2} - 4 k m}\\right)}{2 m}} - \\frac{g m}{k}$"
      ],
      "text/plain": [
       "             ⎛        ____________⎞          ⎛       ____________⎞       \n",
       "             ⎜       ╱  2         ⎟          ⎜      ╱  2         ⎟       \n",
       "           t⋅⎝-c + ╲╱  c  - 4⋅k⋅m ⎠       -t⋅⎝c + ╲╱  c  - 4⋅k⋅m ⎠       \n",
       "           ────────────────────────       ─────────────────────────      \n",
       "                     2⋅m                             2⋅m              g⋅m\n",
       "x(t) = C₁⋅ℯ                         + C₂⋅ℯ                          - ───\n",
       "                                                                       k "
      ]
     },
     "execution_count": 8,
     "metadata": {},
     "output_type": "execute_result"
    }
   ],
   "source": [
    "ode = Eq(x_ddot, sol_x_ddot)\n",
    "sol_x = dsolve(ode, x)\n",
    "sol_x"
   ]
  },
  {
   "cell_type": "markdown",
   "id": "36f0db2e",
   "metadata": {},
   "source": [
    "Where $C_1$ and $C_2$ are initial conditions similarly as in previous example "
   ]
  },
  {
   "cell_type": "markdown",
   "id": "ba447aa3",
   "metadata": {},
   "source": [
    "## 🌟 Conclusion\n",
    "We derived and solved the equation of motion for a vertical spring-damper system under gravity using the Lagrangian method extended with non-conservative forces."
   ]
  }
 ],
 "metadata": {
  "kernelspec": {
   "display_name": "venv",
   "language": "python",
   "name": "python3"
  },
  "language_info": {
   "codemirror_mode": {
    "name": "ipython",
    "version": 3
   },
   "file_extension": ".py",
   "mimetype": "text/x-python",
   "name": "python",
   "nbconvert_exporter": "python",
   "pygments_lexer": "ipython3",
   "version": "3.11.0"
  }
 },
 "nbformat": 4,
 "nbformat_minor": 5
}
