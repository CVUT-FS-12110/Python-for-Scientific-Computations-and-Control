{
 "cells": [
  {
   "cell_type": "markdown",
   "id": "95499c54",
   "metadata": {},
   "source": [
    "# 📓 Lagrangian Mechanics Tutorial\n",
    "## 🔹 Example 2: Mass on a Spring with a Damper and Gravity"
   ]
  },
  {
   "cell_type": "code",
   "execution_count": null,
   "id": "43d5044b",
   "metadata": {},
   "outputs": [],
   "source": [
    "from sympy import symbols, Function, diff, simplify, solve, Eq, dsolve\n",
    "from sympy.physics.mechanics import dynamicsymbols\n",
    "from sympy import init_printing\n",
    "from IPython.display import display\n",
    "\n",
    "init_printing()  # Enables pretty printing in Jupyter\n"
   ]
  },
  {
   "cell_type": "markdown",
   "id": "c1a74bd6",
   "metadata": {},
   "source": [
    "## 🔹 1. Define Coordinates and Time\n",
    "We consider a point mass $m$ hanging from a spring (constant $k$) with a damper (coefficient $c$), under gravity. Let $y(t)$ be the vertical displacement downward from the spring's unstretched position.\n",
    "\n",
    " <img src=\"https://upload.wikimedia.org/wikipedia/commons/thumb/4/45/Mass_spring_damper.svg/1024px-Mass_spring_damper.svg.png\" width=\"250\">"
   ]
  },
  {
   "cell_type": "code",
   "execution_count": null,
   "id": "671f17ef",
   "metadata": {},
   "outputs": [],
   "source": [
    "t = symbols('t')\n",
    "y = dynamicsymbols('y')  # downward displacement from unstretched spring position\n",
    "m, k, c, g = symbols('m k c g')"
   ]
  },
  {
   "cell_type": "markdown",
   "id": "bf309e99",
   "metadata": {},
   "source": [
    "## 🔹 2. Kinetic Energy $T$\n",
    "\n",
    "$$\n",
    "T = \\frac{1}{2} m \\dot{y}^2\n",
    "$$"
   ]
  },
  {
   "cell_type": "code",
   "execution_count": null,
   "id": "7f38448f",
   "metadata": {},
   "outputs": [],
   "source": [
    "y_dot = diff(y, t)\n",
    "T = (1/2) * m * y_dot**2\n",
    "display(T)"
   ]
  },
  {
   "cell_type": "markdown",
   "id": "cd0228b3",
   "metadata": {},
   "source": [
    "## 🔹 3. Potential Energy $V$\n",
    "Includes both spring and gravity:\n",
    "\n",
    "$$\n",
    "V = \\frac{1}{2} k y^2 + m g y\n",
    "$$"
   ]
  },
  {
   "cell_type": "code",
   "execution_count": null,
   "id": "b6ba04ad",
   "metadata": {},
   "outputs": [],
   "source": [
    "V = (1/2) * k * y**2 + m * g * y\n",
    "display(V)"
   ]
  },
  {
   "cell_type": "markdown",
   "id": "11dde9e7",
   "metadata": {},
   "source": [
    "## 🔹 4. Lagrangian $L = T - V$\n",
    "\n",
    "$$\n",
    "L = \\frac{1}{2} m \\dot{y}^2 - \\left( \\frac{1}{2} k y^2 + m g y \\right)\n",
    "$$"
   ]
  },
  {
   "cell_type": "code",
   "execution_count": null,
   "id": "0b5b7408",
   "metadata": {},
   "outputs": [],
   "source": [
    "L = T - V\n",
    "display(L)"
   ]
  },
  {
   "cell_type": "markdown",
   "id": "b51476f6",
   "metadata": {},
   "source": [
    "## 🔹 5. Apply Euler-Lagrange Equation\n",
    "\n",
    "$$\n",
    "\\frac{d}{dt} \\left( \\frac{\\partial L}{\\partial \\dot{y}} \\right) - \\frac{\\partial L}{\\partial y} = Q\n",
    "$$\n",
    "\n",
    "Where $Q$ is the **non-conservative damping force**:\n",
    "\n",
    "$$\n",
    "Q = -c \\dot{y}\n",
    "$$"
   ]
  },
  {
   "cell_type": "code",
   "execution_count": null,
   "id": "9943e19a",
   "metadata": {},
   "outputs": [],
   "source": [
    "# Derivatives\n",
    "dL_dy = diff(L, y)\n",
    "dL_dy_dot = diff(L, y_dot)\n",
    "d_dt_dL_dy_dot = diff(dL_dy_dot, t)\n",
    "\n",
    "# Damping force\n",
    "Q = -c * y_dot\n",
    "\n",
    "# Lagrange equation with damping\n",
    "lagrange_eq = simplify(d_dt_dL_dy_dot - dL_dy - Q)\n",
    "display(lagrange_eq)"
   ]
  },
  {
   "cell_type": "markdown",
   "id": "9ab76527",
   "metadata": {},
   "source": [
    "## ✅ Final Result\n",
    "The resulting equation of motion:\n",
    "\n",
    "$$\n",
    "m \\ddot{y} + c \\dot{y} + k y + m g = 0\n",
    "$$"
   ]
  },
  {
   "cell_type": "code",
   "execution_count": null,
   "id": "bfe5d740",
   "metadata": {},
   "outputs": [],
   "source": [
    "y_ddot = diff(y, t, 2)\n",
    "eq = Eq(lagrange_eq, 0)\n",
    "sol_y_ddot = solve(eq, y_ddot)[0]\n",
    "display(sol_y_ddot)"
   ]
  },
  {
   "cell_type": "markdown",
   "id": "e1e129bb",
   "metadata": {},
   "source": [
    "## 🔹 6. Solve the Differential Equation\n",
    "We now solve for $y(t)$ symbolically."
   ]
  },
  {
   "cell_type": "code",
   "execution_count": null,
   "id": "cd608060",
   "metadata": {},
   "outputs": [],
   "source": [
    "ode = Eq(y_ddot, sol_y_ddot)\n",
    "sol_y = dsolve(ode, y)\n",
    "sol_y"
   ]
  },
  {
   "cell_type": "markdown",
   "id": "ba447aa3",
   "metadata": {},
   "source": [
    "## 🌟 Conclusion\n",
    "We derived and solved the equation of motion for a vertical spring-damper system under gravity using the Lagrangian method extended with non-conservative forces."
   ]
  }
 ],
 "metadata": {
  "language_info": {
   "name": "python"
  }
 },
 "nbformat": 4,
 "nbformat_minor": 5
}
