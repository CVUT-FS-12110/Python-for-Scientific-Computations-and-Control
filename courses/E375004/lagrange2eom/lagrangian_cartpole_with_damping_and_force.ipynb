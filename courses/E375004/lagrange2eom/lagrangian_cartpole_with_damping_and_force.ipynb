{
 "cells": [
  {
   "cell_type": "markdown",
   "id": "7dd0d6e3",
   "metadata": {},
   "source": [
    "# 📓 Lagrangian Mechanics Tutorial\n",
    "## 🔹 Example 5: Cart-Pole System with Damping and External Force"
   ]
  },
  {
   "cell_type": "code",
   "execution_count": 1,
   "id": "e2c1b22c",
   "metadata": {},
   "outputs": [],
   "source": [
    "from sympy import symbols, Function, diff, simplify, solve, Eq, dsolve, sin, cos\n",
    "from sympy.physics.mechanics import dynamicsymbols\n",
    "from sympy import init_printing\n",
    "from IPython.display import display\n",
    "\n",
    "init_printing()  # Enables pretty LaTeX-style printing in Jupyter\n"
   ]
  },
  {
   "cell_type": "markdown",
   "id": "c38e49ec",
   "metadata": {},
   "source": [
    "## 🔹 1. Define Coordinates and Time\n",
    "We model a cart-pole system where:\n",
    "- The cart moves along the x-axis with position $x(t)$\n",
    "- The pendulum swings with angle $\\theta(t)$ from vertical\n",
    "- There is damping in both $x$ and $\\theta$\n",
    "- An external force $F$ is applied to the cart\n",
    "\n",
    "\n",
    "<img src=\"https://jsteinhardt.stat.berkeley.edu/images/Cart-pendulum.png\" />\n"
   ]
  },
  {
   "cell_type": "code",
   "execution_count": 2,
   "id": "acd0d40c",
   "metadata": {},
   "outputs": [],
   "source": [
    "t = symbols('t')\n",
    "x = dynamicsymbols('x')             # cart position\n",
    "theta = dynamicsymbols('theta')     # pendulum angle from vertical\n",
    "m, M, l, g, F, cx, ctheta = symbols('m M l g F c_x c_theta')  # masses, length, gravity, force, damping"
   ]
  },
  {
   "cell_type": "markdown",
   "id": "a7048256",
   "metadata": {},
   "source": [
    "## 🔹 2. Kinetic Energy \\( T \\)\n",
    "\n",
    "The total kinetic energy consists of:\n",
    "\n",
    "- **Cart**: translational motion along the \\( x \\)-axis:\n",
    "  $$\n",
    "  T_{\\text{cart}} = \\frac{1}{2} M \\dot{x}^2\n",
    "  $$\n",
    "\n",
    "- **Pendulum**: treated as a rigid rod, has both:\n",
    "  - **Translational energy** of the center of mass (CoM):\n",
    "    $$\n",
    "    T_{\\text{pend,trans}} = \\frac{1}{2} m \\left( \\dot{x}_{\\text{cm}}^2 + \\dot{y}_{\\text{cm}}^2 \\right)\n",
    "    $$\n",
    "    where:\n",
    "    $$\n",
    "    x_{\\text{cm}} = x + \\frac{l}{2} \\sin\\theta, \\quad\n",
    "    y_{\\text{cm}} = -\\frac{l}{2} \\cos\\theta\n",
    "    $$\n",
    "\n",
    "  - **Rotational energy** about its pivot point:\n",
    "    $$\n",
    "    T_{\\text{pend,rot}} = \\frac{1}{2} I \\dot{\\theta}^2, \\quad\n",
    "    I = \\frac{1}{3} m l^2\n",
    "    $$\n",
    "\n",
    "- **Total kinetic energy**:\n",
    "  $$\n",
    "  T = T_{\\text{cart}} + T_{\\text{pend,trans}} + T_{\\text{pend,rot}}\n",
    "  $$\n"
   ]
  },
  {
   "cell_type": "code",
   "execution_count": 5,
   "id": "4fbce015",
   "metadata": {},
   "outputs": [
    {
     "data": {
      "image/png": "[encoded data removed]",
      "text/latex": [
       "$\\displaystyle 0.5 M \\left(\\frac{d}{d t} x{\\left(t \\right)}\\right)^{2} + 0.291666666666667 l^{2} m \\left(\\frac{d}{d t} \\theta{\\left(t \\right)}\\right)^{2} + 0.5 l m \\cos{\\left(\\theta{\\left(t \\right)} \\right)} \\frac{d}{d t} \\theta{\\left(t \\right)} \\frac{d}{d t} x{\\left(t \\right)} + 0.5 m \\left(\\frac{d}{d t} x{\\left(t \\right)}\\right)^{2}$"
      ],
      "text/plain": [
       "                2                                    2                        \n",
       "      ⎛d       ⎞                       2   ⎛d       ⎞                      d  \n",
       "0.5⋅M⋅⎜──(x(t))⎟  + 0.291666666666667⋅l ⋅m⋅⎜──(θ(t))⎟  + 0.5⋅l⋅m⋅cos(θ(t))⋅──(\n",
       "      ⎝dt      ⎠                           ⎝dt      ⎠                      dt \n",
       "\n",
       "                                 2\n",
       "      d                ⎛d       ⎞ \n",
       "θ(t))⋅──(x(t)) + 0.5⋅m⋅⎜──(x(t))⎟ \n",
       "      dt               ⎝dt      ⎠ "
      ]
     },
     "metadata": {},
     "output_type": "display_data"
    }
   ],
   "source": [
    "x_dot = diff(x, t)\n",
    "theta_dot = diff(theta, t)\n",
    "\n",
    "# Position of pendulum's center of mass\n",
    "x_cm = x + (l/2) * sin(theta)\n",
    "y_cm = -(l/2) * cos(theta)\n",
    "\n",
    "vx_cm = diff(x_cm, t)\n",
    "vy_cm = diff(y_cm, t)\n",
    "\n",
    "# Moment of inertia of a rod about pivot\n",
    "I = (1/3) * m * l**2\n",
    "\n",
    "# Total kinetic energy\n",
    "T = (1/2) * M * x_dot**2 + (1/2) * m * (vx_cm**2 + vy_cm**2) + (1/2) * I * theta_dot**2\n",
    "T = simplify(T)\n",
    "display(T)"
   ]
  },
  {
   "cell_type": "markdown",
   "id": "ff6d06f2",
   "metadata": {},
   "source": [
    "## 🔹 3. Potential Energy $V$\n",
    "\n",
    "Pendulum contributes gravitational potential energy."
   ]
  },
  {
   "cell_type": "code",
   "execution_count": 6,
   "id": "79c8d74f",
   "metadata": {},
   "outputs": [
    {
     "data": {
      "image/png": "[encoded data removed]",
      "text/latex": [
       "$\\displaystyle - \\frac{g l m \\cos{\\left(\\theta{\\left(t \\right)} \\right)}}{2}$"
      ],
      "text/plain": [
       "-g⋅l⋅m⋅cos(θ(t)) \n",
       "─────────────────\n",
       "        2        "
      ]
     },
     "metadata": {},
     "output_type": "display_data"
    }
   ],
   "source": [
    "V = -m * g * (l/2) * cos(theta)\n",
    "display(V)"
   ]
  },
  {
   "cell_type": "markdown",
   "id": "db0e4e4b",
   "metadata": {},
   "source": [
    "## 🔹 4. Lagrangian $L = T - V$"
   ]
  },
  {
   "cell_type": "code",
   "execution_count": 7,
   "id": "c65bdbde",
   "metadata": {},
   "outputs": [
    {
     "data": {
      "image/png": "[encoded data removed]",
      "text/latex": [
       "$\\displaystyle 0.5 M \\left(\\frac{d}{d t} x{\\left(t \\right)}\\right)^{2} + \\frac{g l m \\cos{\\left(\\theta{\\left(t \\right)} \\right)}}{2} + 0.291666666666667 l^{2} m \\left(\\frac{d}{d t} \\theta{\\left(t \\right)}\\right)^{2} + 0.5 l m \\cos{\\left(\\theta{\\left(t \\right)} \\right)} \\frac{d}{d t} \\theta{\\left(t \\right)} \\frac{d}{d t} x{\\left(t \\right)} + 0.5 m \\left(\\frac{d}{d t} x{\\left(t \\right)}\\right)^{2}$"
      ],
      "text/plain": [
       "                2                                                      2      \n",
       "      ⎛d       ⎞    g⋅l⋅m⋅cos(θ(t))                      2   ⎛d       ⎞       \n",
       "0.5⋅M⋅⎜──(x(t))⎟  + ─────────────── + 0.291666666666667⋅l ⋅m⋅⎜──(θ(t))⎟  + 0.5\n",
       "      ⎝dt      ⎠           2                                 ⎝dt      ⎠       \n",
       "\n",
       "                                                   2\n",
       "               d        d                ⎛d       ⎞ \n",
       "⋅l⋅m⋅cos(θ(t))⋅──(θ(t))⋅──(x(t)) + 0.5⋅m⋅⎜──(x(t))⎟ \n",
       "               dt       dt               ⎝dt      ⎠ "
      ]
     },
     "metadata": {},
     "output_type": "display_data"
    }
   ],
   "source": [
    "L = T - V\n",
    "display(L)"
   ]
  },
  {
   "cell_type": "markdown",
   "id": "39e715db",
   "metadata": {},
   "source": [
    "## 🔹 5. Euler-Lagrange Equations with Damping and External Force\n",
    "\n",
    "To account for **non-conservative forces** like damping and external force, we include them as **generalized forces** on the right-hand side of the Euler–Lagrange equations:\n",
    "\n",
    "$$\n",
    "\\frac{d}{dt} \\left( \\frac{\\partial L}{\\partial \\dot{q}_i} \\right) - \\frac{\\partial L}{\\partial q_i} = Q_i\n",
    "$$\n",
    "\n",
    "For the cart-pole system:\n",
    "\n",
    "- For the **cart** (coordinate $x$), we include:\n",
    "  - An external force $F$\n",
    "  - Linear damping proportional to $\\dot{x}$ with coefficient $c_x$\n",
    "\n",
    "  So the generalized force is:\n",
    "\n",
    "  $$\n",
    "  Q_x = F - c_x \\dot{x}\n",
    "  $$\n",
    "\n",
    "- For the **pendulum** (coordinate $\\theta$), we include:\n",
    "  - Rotational damping proportional to $\\dot{\\theta}$ with coefficient $c_\\theta$\n",
    "\n",
    "  So the generalized force is:\n",
    "\n",
    "  $$\n",
    "  Q_\\theta = - c_\\theta \\dot{\\theta}\n",
    "  $$\n",
    "\n",
    "We then apply these $Q_x$ and $Q_\\theta$ into the corresponding Euler–Lagrange equations to obtain the full equations of motion.\n"
   ]
  },
  {
   "cell_type": "code",
   "execution_count": null,
   "id": "1ec4150d",
   "metadata": {},
   "outputs": [
    {
     "data": {
      "image/png": "[encoded data removed]",
      "text/latex": [
       "$\\displaystyle - F + 1.0 M \\frac{d^{2}}{d t^{2}} x{\\left(t \\right)} + c_{x} \\frac{d}{d t} x{\\left(t \\right)} - 0.5 l m \\sin{\\left(\\theta{\\left(t \\right)} \\right)} \\left(\\frac{d}{d t} \\theta{\\left(t \\right)}\\right)^{2} + 0.5 l m \\cos{\\left(\\theta{\\left(t \\right)} \\right)} \\frac{d^{2}}{d t^{2}} \\theta{\\left(t \\right)} + 1.0 m \\frac{d^{2}}{d t^{2}} x{\\left(t \\right)}$"
      ],
      "text/plain": [
       "             2                                                   2            \n",
       "            d             d                            ⎛d       ⎞             \n",
       "-F + 1.0⋅M⋅───(x(t)) + cₓ⋅──(x(t)) - 0.5⋅l⋅m⋅sin(θ(t))⋅⎜──(θ(t))⎟  + 0.5⋅l⋅m⋅c\n",
       "             2            dt                           ⎝dt      ⎠             \n",
       "           dt                                                                 \n",
       "\n",
       "           2                 2      \n",
       "          d                 d       \n",
       "os(θ(t))⋅───(θ(t)) + 1.0⋅m⋅───(x(t))\n",
       "           2                 2      \n",
       "         dt                dt       "
      ]
     },
     "metadata": {},
     "output_type": "display_data"
    }
   ],
   "source": [
    "# Damping forces\n",
    "Q_x = F - cx * x_dot\n",
    "Q_theta = -ctheta * theta_dot\n",
    "\n",
    "# Equation for x\n",
    "dL_dx = diff(L, x)\n",
    "dL_dx_dot = diff(L, x_dot)\n",
    "d_dt_dL_dx_dot = diff(dL_dx_dot, t)\n",
    "EL_x = simplify(d_dt_dL_dx_dot - dL_dx - Q_x)\n",
    "display(EL_x)"
   ]
  },
  {
   "cell_type": "code",
   "execution_count": 9,
   "id": "56c4a966",
   "metadata": {},
   "outputs": [
    {
     "data": {
      "image/png": "[encoded data removed]",
      "text/latex": [
       "$\\displaystyle c_{\\theta} \\frac{d}{d t} \\theta{\\left(t \\right)} + \\frac{g l m \\sin{\\left(\\theta{\\left(t \\right)} \\right)}}{2} + 0.583333333333333 l^{2} m \\frac{d^{2}}{d t^{2}} \\theta{\\left(t \\right)} + \\frac{l m \\cos{\\left(\\theta{\\left(t \\right)} \\right)} \\frac{d^{2}}{d t^{2}} x{\\left(t \\right)}}{2}$"
      ],
      "text/plain": [
       "                                                                              \n",
       "                                                                              \n",
       "                                                                       l⋅m⋅cos\n",
       "                                                             2                \n",
       "       d          g⋅l⋅m⋅sin(θ(t))                      2    d                 \n",
       "cₜₕₑₜₐ⋅──(θ(t)) + ─────────────── + 0.583333333333333⋅l ⋅m⋅───(θ(t)) + ───────\n",
       "       dt                2                                   2                \n",
       "                                                           dt                 \n",
       "\n",
       "         2      \n",
       "        d       \n",
       "(θ(t))⋅───(x(t))\n",
       "         2      \n",
       "       dt       \n",
       "────────────────\n",
       "    2           \n",
       "                "
      ]
     },
     "metadata": {},
     "output_type": "display_data"
    }
   ],
   "source": [
    "# Equation for theta\n",
    "dL_dtheta = diff(L, theta)\n",
    "dL_dtheta_dot = diff(L, theta_dot)\n",
    "d_dt_dL_dtheta_dot = diff(dL_dtheta_dot, t)\n",
    "EL_theta = simplify(d_dt_dL_dtheta_dot - dL_dtheta - Q_theta)\n",
    "display(EL_theta)"
   ]
  },
  {
   "cell_type": "markdown",
   "id": "8047f326",
   "metadata": {},
   "source": [
    "## ✅ Final Result\n",
    "These are the full nonlinear equations of motion for the damped cart-pendulum system with an external force on the cart."
   ]
  },
  {
   "cell_type": "markdown",
   "id": "bd02003b",
   "metadata": {},
   "source": [
    "## 🌟 Conclusion\n",
    "This model now includes:\n",
    "- Gravity\n",
    "- Damping in both coordinates\n",
    "- External actuation of the cart\n",
    "\n",
    "Next step could be linearization or simulation!"
   ]
  },
  {
   "cell_type": "code",
   "execution_count": 13,
   "id": "85dcc565",
   "metadata": {},
   "outputs": [],
   "source": [
    "from sympy import solve, lambdify\n",
    "\n",
    "# Define second derivatives\n",
    "x_ddot = diff(x, t, 2)\n",
    "theta_ddot = diff(theta, t, 2)\n",
    "\n",
    "# Solve Euler–Lagrange equations for the second derivatives\n",
    "solutions = solve([EL_x, EL_theta], (x_ddot, theta_ddot), simplify=True)\n",
    "\n",
    "# Extract expressions\n",
    "x_ddot_expr = solutions[x_ddot]\n",
    "theta_ddot_expr = solutions[theta_ddot]\n",
    "\n",
    "# Prepare lambdified functions for numerical simulation\n",
    "variables = (x, x_dot, theta, theta_dot, F, m, M, l, g, cx, ctheta)\n",
    "\n",
    "x_ddot_func = lambdify(variables, x_ddot_expr, 'numpy')\n",
    "theta_ddot_func = lambdify(variables, theta_ddot_expr, 'numpy')\n",
    "\n",
    "import numpy as np\n",
    "from scipy.integrate import solve_ivp\n",
    "\n",
    "# Define the system of ODEs\n",
    "def cartpole_derivs(t, y, F_input, params):\n",
    "    x, x_dot, theta, theta_dot = y\n",
    "    m, M, l, g, cx, ctheta = params\n",
    "\n",
    "    dx2 = x_ddot_func(x, x_dot, theta, theta_dot, F_input, m, M, l, g, cx, ctheta)\n",
    "    dtheta2 = theta_ddot_func(x, x_dot, theta, theta_dot, F_input, m, M, l, g, cx, ctheta)\n",
    "\n",
    "    return [x_dot, dx2, theta_dot, dtheta2]\n",
    "\n",
    "\n"
   ]
  },
  {
   "cell_type": "code",
   "execution_count": 16,
   "id": "453ccf31",
   "metadata": {},
   "outputs": [],
   "source": [
    "# Initial state: [x, x_dot, theta, theta_dot]\n",
    "y0 = [0.0, 0.0, 0.1, 0.0]\n",
    "\n",
    "# Parameter values\n",
    "params = (0.1, 1.0, 1.0, 9.81, 0.1, 0.05)  # m, M, l, g, cx, ctheta\n",
    "F_val = 0.0  # constant input force\n",
    "\n",
    "# Time span and evaluation points\n",
    "t_span = (0, 10)\n",
    "t_eval = np.linspace(*t_span, 500)\n",
    "\n",
    "# Run the simulation\n",
    "sol = solve_ivp(cartpole_derivs, t_span, y0, t_eval=t_eval, args=(F_val, params))\n"
   ]
  },
  {
   "cell_type": "code",
   "execution_count": 17,
   "id": "9e453ca9",
   "metadata": {},
   "outputs": [
    {
     "data": {
      "image/png": "[encoded data removed]",
      "text/plain": [
       "<Figure size 640x480 with 1 Axes>"
      ]
     },
     "metadata": {},
     "output_type": "display_data"
    }
   ],
   "source": [
    "import matplotlib.pyplot as plt\n",
    "\n",
    "plt.plot(sol.t, sol.y[0], label='x (cart)')\n",
    "plt.plot(sol.t, sol.y[2], label='θ (pendulum)')\n",
    "plt.xlabel('Time [s]')\n",
    "plt.ylabel('Position / Angle')\n",
    "plt.title('Cart-Pole Simulation with Damping')\n",
    "plt.legend()\n",
    "plt.grid(True)\n",
    "plt.show()\n"
   ]
  },
  {
   "cell_type": "code",
   "execution_count": null,
   "id": "39039f74",
   "metadata": {},
   "outputs": [],
   "source": []
  },
  {
   "cell_type": "markdown",
   "id": "1d30fa61",
   "metadata": {},
   "source": [
    "## 🔹 6. Matrix Form of Equations of Motion\n",
    "\n",
    "To better understand and simulate the system, we now rewrite the equations of motion in matrix form:\n",
    "\n",
    "We define the generalized coordinates:\n",
    "\n",
    "$$\n",
    "q = \\begin{bmatrix} x \\\\\\\\ \\theta \\end{bmatrix}, \\quad\n",
    "\\dot{q} = \\begin{bmatrix} \\dot{x} \\\\\\\\ \\dot{\\theta} \\end{bmatrix}, \\quad\n",
    "\\ddot{q} = \\begin{bmatrix} \\ddot{x} \\\\\\\\ \\ddot{\\theta} \\end{bmatrix}\n",
    "$$\n",
    "\n",
    "The equations take the standard form:\n",
    "\n",
    "$$\n",
    "M(q) \\ddot{q} + C(q, \\dot{q}) + G(q) + D(\\dot{q}) = B u\n",
    "$$\n",
    "\n",
    "Where:\n",
    "\n",
    "- \\( M(q) \\) is the mass/inertia matrix,\n",
    "- \\( C(q, \\dot{q}) \\) includes Coriolis/centrifugal terms,\n",
    "- \\( G(q) \\) includes gravity forces,\n",
    "- \\( D(\\dot{q}) \\) represents damping/friction,\n",
    "- \\( B \\) maps the external input force \\( F \\) to the system.\n",
    "\n",
    "We will now derive each term symbolically using SymPy.\n"
   ]
  },
  {
   "cell_type": "code",
   "execution_count": 18,
   "id": "7e9e50a4",
   "metadata": {},
   "outputs": [
    {
     "data": {
      "text/latex": [
       "$\\displaystyle \\left[\\begin{matrix}1.0 M + 1.0 m & 0.5 l m \\cos{\\left(\\theta{\\left(t \\right)} \\right)}\\\\\\frac{l m \\cos{\\left(\\theta{\\left(t \\right)} \\right)}}{2} & 0.583333333333333 l^{2} m\\end{matrix}\\right]$"
      ],
      "text/plain": [
       "⎡1.0⋅M + 1.0⋅m    0.5⋅l⋅m⋅cos(θ(t))   ⎤\n",
       "⎢                                     ⎥\n",
       "⎢l⋅m⋅cos(θ(t))                     2  ⎥\n",
       "⎢─────────────  0.583333333333333⋅l ⋅m⎥\n",
       "⎣      2                              ⎦"
      ]
     },
     "metadata": {},
     "output_type": "display_data"
    },
    {
     "data": {
      "text/latex": [
       "$\\displaystyle \\left[\\begin{matrix}- 1.0 F + 1.0 c_{x} \\frac{d}{d t} x{\\left(t \\right)} - 0.5 l m \\sin{\\left(\\theta{\\left(t \\right)} \\right)} \\left(\\frac{d}{d t} \\theta{\\left(t \\right)}\\right)^{2}\\\\c_{\\theta} \\frac{d}{d t} \\theta{\\left(t \\right)} + \\frac{g l m \\sin{\\left(\\theta{\\left(t \\right)} \\right)}}{2}\\end{matrix}\\right]$"
      ],
      "text/plain": [
       "⎡                                                   2⎤\n",
       "⎢            d                            ⎛d       ⎞ ⎥\n",
       "⎢-F + 1.0⋅cₓ⋅──(x(t)) - 0.5⋅l⋅m⋅sin(θ(t))⋅⎜──(θ(t))⎟ ⎥\n",
       "⎢            dt                           ⎝dt      ⎠ ⎥\n",
       "⎢                                                    ⎥\n",
       "⎢                d          g⋅l⋅m⋅sin(θ(t))          ⎥\n",
       "⎢         cₜₕₑₜₐ⋅──(θ(t)) + ───────────────          ⎥\n",
       "⎣                dt                2                 ⎦"
      ]
     },
     "metadata": {},
     "output_type": "display_data"
    }
   ],
   "source": [
    "from sympy import Matrix, collect, expand, simplify\n",
    "\n",
    "# Define second derivatives for vectorized form\n",
    "x_ddot = diff(x, t, 2)\n",
    "theta_ddot = diff(theta, t, 2)\n",
    "\n",
    "# Collect terms in EoMs\n",
    "EL_x_eq = simplify(EL_x.expand())\n",
    "EL_theta_eq = simplify(EL_theta.expand())\n",
    "\n",
    "# Build symbolic vector of accelerations\n",
    "ddq = Matrix([x_ddot, theta_ddot])\n",
    "\n",
    "# Define mass matrix M(q) by collecting on accelerations\n",
    "M_mat = Matrix([\n",
    "    [EL_x_eq.coeff(x_ddot), EL_x_eq.coeff(theta_ddot)],\n",
    "    [EL_theta_eq.coeff(x_ddot), EL_theta_eq.coeff(theta_ddot)]\n",
    "])\n",
    "\n",
    "# Define right-hand sides (everything else except M * ddq)\n",
    "rhs_x = simplify(EL_x_eq - M_mat[0, 0]*x_ddot - M_mat[0, 1]*theta_ddot)\n",
    "rhs_theta = simplify(EL_theta_eq - M_mat[1, 0]*x_ddot - M_mat[1, 1]*theta_ddot)\n",
    "rhs = Matrix([rhs_x, rhs_theta])\n",
    "\n",
    "# Display matrix form\n",
    "display(M_mat)\n",
    "display(rhs)\n"
   ]
  },
  {
   "cell_type": "markdown",
   "id": "4cba9aec",
   "metadata": {},
   "source": []
  }
 ],
 "metadata": {
  "kernelspec": {
   "display_name": "venv",
   "language": "python",
   "name": "python3"
  },
  "language_info": {
   "codemirror_mode": {
    "name": "ipython",
    "version": 3
   },
   "file_extension": ".py",
   "mimetype": "text/x-python",
   "name": "python",
   "nbconvert_exporter": "python",
   "pygments_lexer": "ipython3",
   "version": "3.11.0"
  }
 },
 "nbformat": 4,
 "nbformat_minor": 5
}
