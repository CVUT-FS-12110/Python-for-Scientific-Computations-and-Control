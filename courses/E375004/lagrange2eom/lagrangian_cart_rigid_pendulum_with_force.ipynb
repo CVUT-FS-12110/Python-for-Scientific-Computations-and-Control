{
 "cells": [
  {
   "cell_type": "markdown",
   "id": "36ee814c",
   "metadata": {},
   "source": [
    "# 📓 Lagrangian Mechanics Tutorial\n",
    "## 🔹 Example 4: Cart with Rigid Pendulum (Including Rotational Inertia and External Force)"
   ]
  },
  {
   "cell_type": "code",
   "execution_count": 2,
   "id": "fb22e669",
   "metadata": {},
   "outputs": [],
   "source": [
    "from sympy import symbols, Function, diff, simplify, solve, Eq, dsolve, sin, cos\n",
    "from sympy.physics.mechanics import dynamicsymbols\n",
    "from sympy import init_printing\n",
    "from IPython.display import display\n",
    "\n",
    "init_printing()\n",
    "\n"
   ]
  },
  {
   "cell_type": "markdown",
   "id": "cbe89486",
   "metadata": {},
   "source": [
    "## 🔹 1. Define Coordinates and Time\n",
    "Let the cart move horizontally with coordinate $x(t)$ and the pendulum swing with angle $\\theta(t)$ from the vertical (downward).\n",
    "\n",
    "The pendulum is a rigid rod of length $l$ and mass $m$, pivoted at one end on the cart.\n",
    "\n",
    "<img src=\"https://jsteinhardt.stat.berkeley.edu/images/Cart-pendulum.png\" />"
   ]
  },
  {
   "cell_type": "code",
   "execution_count": 3,
   "id": "38cbebbb",
   "metadata": {},
   "outputs": [],
   "source": [
    "t = symbols('t')\n",
    "x = dynamicsymbols('x')             # Cart position\n",
    "theta = dynamicsymbols('theta')     # Pendulum angle from vertical\n",
    "\n",
    "m, M, l, g, F = symbols('m M l g F')  # pendulum mass, cart mass, length, gravity, external force\n"
   ]
  },
  {
   "cell_type": "markdown",
   "id": "08826ace",
   "metadata": {},
   "source": [
    "## 🔹 2. Kinetic Energy $T$\n",
    "The cart moves horizontally. The pendulum contributes both translational kinetic energy (via its center of mass) and rotational kinetic energy:\n",
    "\n",
    "- CoM of pendulum: located at $l/2$ from pivot\n",
    "- Moment of inertia of uniform rod about one end: $I = \\frac{1}{3} m l^2$"
   ]
  },
  {
   "cell_type": "code",
   "execution_count": 4,
   "id": "ddafa0ec",
   "metadata": {},
   "outputs": [
    {
     "data": {
      "image/png": "[encoded data removed]",
      "text/latex": [
       "$\\displaystyle 0.5 M \\left(\\frac{d}{d t} x{\\left(t \\right)}\\right)^{2} + 0.291666666666667 l^{2} m \\left(\\frac{d}{d t} \\theta{\\left(t \\right)}\\right)^{2} + 0.5 l m \\cos{\\left(\\theta{\\left(t \\right)} \\right)} \\frac{d}{d t} \\theta{\\left(t \\right)} \\frac{d}{d t} x{\\left(t \\right)} + 0.5 m \\left(\\frac{d}{d t} x{\\left(t \\right)}\\right)^{2}$"
      ],
      "text/plain": [
       "                2                                    2                         ↪\n",
       "      ⎛d       ⎞                       2   ⎛d       ⎞                      d   ↪\n",
       "0.5⋅M⋅⎜──(x(t))⎟  + 0.291666666666667⋅l ⋅m⋅⎜──(θ(t))⎟  + 0.5⋅l⋅m⋅cos(θ(t))⋅──( ↪\n",
       "      ⎝dt      ⎠                           ⎝dt      ⎠                      dt  ↪\n",
       "\n",
       "↪                                  2\n",
       "↪       d                ⎛d       ⎞ \n",
       "↪ θ(t))⋅──(x(t)) + 0.5⋅m⋅⎜──(x(t))⎟ \n",
       "↪       dt               ⎝dt      ⎠ "
      ]
     },
     "metadata": {},
     "output_type": "display_data"
    }
   ],
   "source": [
    "x_dot = diff(x, t)\n",
    "theta_dot = diff(theta, t)\n",
    "\n",
    "# Position of pendulum's center of mass\n",
    "x_cm = x + (l/2) * sin(theta)\n",
    "y_cm = -(l/2) * cos(theta)\n",
    "\n",
    "vx_cm = diff(x_cm, t)\n",
    "vy_cm = diff(y_cm, t)\n",
    "\n",
    "# Moment of inertia of rod about pivot\n",
    "I = (1/3) * m * l**2\n",
    "\n",
    "# Total kinetic energy: cart + pendulum (translation + rotation)\n",
    "T = (1/2) * M * x_dot**2 + (1/2) * m * (vx_cm**2 + vy_cm**2) + (1/2) * I * theta_dot**2\n",
    "T = simplify(T)\n",
    "display(T)"
   ]
  },
  {
   "cell_type": "markdown",
   "id": "4d43a6cd",
   "metadata": {},
   "source": [
    "## 🔹 3. Potential Energy $V$\n",
    "\n",
    "$$\n",
    "V = -m g \\frac{l}{2} \\cos\\theta\n",
    "$$"
   ]
  },
  {
   "cell_type": "code",
   "execution_count": 5,
   "id": "adf9f4f9",
   "metadata": {},
   "outputs": [
    {
     "data": {
      "image/png": "[encoded data removed]",
      "text/latex": [
       "$\\displaystyle - \\frac{g l m \\cos{\\left(\\theta{\\left(t \\right)} \\right)}}{2}$"
      ],
      "text/plain": [
       "-g⋅l⋅m⋅cos(θ(t)) \n",
       "─────────────────\n",
       "        2        "
      ]
     },
     "metadata": {},
     "output_type": "display_data"
    }
   ],
   "source": [
    "V = -m * g * (l/2) * cos(theta)\n",
    "display(V)"
   ]
  },
  {
   "cell_type": "markdown",
   "id": "c2ad729b",
   "metadata": {},
   "source": [
    "## 🔹 4. Lagrangian $L = T - V$"
   ]
  },
  {
   "cell_type": "code",
   "execution_count": 6,
   "id": "40683f3f",
   "metadata": {},
   "outputs": [
    {
     "data": {
      "image/png": "[encoded data removed]",
      "text/latex": [
       "$\\displaystyle 0.5 M \\left(\\frac{d}{d t} x{\\left(t \\right)}\\right)^{2} + \\frac{g l m \\cos{\\left(\\theta{\\left(t \\right)} \\right)}}{2} + 0.291666666666667 l^{2} m \\left(\\frac{d}{d t} \\theta{\\left(t \\right)}\\right)^{2} + 0.5 l m \\cos{\\left(\\theta{\\left(t \\right)} \\right)} \\frac{d}{d t} \\theta{\\left(t \\right)} \\frac{d}{d t} x{\\left(t \\right)} + 0.5 m \\left(\\frac{d}{d t} x{\\left(t \\right)}\\right)^{2}$"
      ],
      "text/plain": [
       "                2                                                      2       ↪\n",
       "      ⎛d       ⎞    g⋅l⋅m⋅cos(θ(t))                      2   ⎛d       ⎞        ↪\n",
       "0.5⋅M⋅⎜──(x(t))⎟  + ─────────────── + 0.291666666666667⋅l ⋅m⋅⎜──(θ(t))⎟  + 0.5 ↪\n",
       "      ⎝dt      ⎠           2                                 ⎝dt      ⎠        ↪\n",
       "\n",
       "↪                                                    2\n",
       "↪                d        d                ⎛d       ⎞ \n",
       "↪ ⋅l⋅m⋅cos(θ(t))⋅──(θ(t))⋅──(x(t)) + 0.5⋅m⋅⎜──(x(t))⎟ \n",
       "↪                dt       dt               ⎝dt      ⎠ "
      ]
     },
     "metadata": {},
     "output_type": "display_data"
    }
   ],
   "source": [
    "L = T - V\n",
    "display(L)"
   ]
  },
  {
   "cell_type": "markdown",
   "id": "1afd0d2f",
   "metadata": {},
   "source": [
    "## 🔹 5. Euler-Lagrange Equations\n",
    "For $x(t)$ (with external force $F$):\n",
    "\n",
    "$$\n",
    "\\frac{d}{dt} \\left( \\frac{\\partial L}{\\partial \\dot{x}} \\right) - \\frac{\\partial L}{\\partial x} = F\n",
    "$$\n",
    "\n",
    "For $\\theta(t)$:\n",
    "\n",
    "$$\n",
    "\\frac{d}{dt} \\left( \\frac{\\partial L}{\\partial \\dot{\\theta}} \\right) - \\frac{\\partial L}{\\partial \\theta} = 0\n",
    "$$"
   ]
  },
  {
   "cell_type": "code",
   "execution_count": 7,
   "id": "aaf0d9ae",
   "metadata": {},
   "outputs": [
    {
     "data": {
      "image/png": "[encoded data removed]",
      "text/latex": [
       "$\\displaystyle - F + 1.0 M \\frac{d^{2}}{d t^{2}} x{\\left(t \\right)} - 0.5 l m \\sin{\\left(\\theta{\\left(t \\right)} \\right)} \\left(\\frac{d}{d t} \\theta{\\left(t \\right)}\\right)^{2} + 0.5 l m \\cos{\\left(\\theta{\\left(t \\right)} \\right)} \\frac{d^{2}}{d t^{2}} \\theta{\\left(t \\right)} + 1.0 m \\frac{d^{2}}{d t^{2}} x{\\left(t \\right)}$"
      ],
      "text/plain": [
       "            2                                      2                      2    ↪\n",
       "           d                             ⎛d       ⎞                      d     ↪\n",
       "-F + 1.0⋅M⋅───(x(t)) - 0.5⋅l⋅m⋅sin(θ(t))⋅⎜──(θ(t))⎟  + 0.5⋅l⋅m⋅cos(θ(t))⋅───(θ ↪\n",
       "             2                           ⎝dt      ⎠                        2   ↪\n",
       "           dt                                                            dt    ↪\n",
       "\n",
       "↪               2       \n",
       "↪              d        \n",
       "↪ (t)) + 1.0⋅m⋅───(x(t))\n",
       "↪                2      \n",
       "↪              dt       "
      ]
     },
     "metadata": {},
     "output_type": "display_data"
    }
   ],
   "source": [
    "# Equation for x\n",
    "dL_dx = diff(L, x)\n",
    "dL_dx_dot = diff(L, x_dot)\n",
    "d_dt_dL_dx_dot = diff(dL_dx_dot, t)\n",
    "EL_x = simplify(d_dt_dL_dx_dot - dL_dx - F)\n",
    "display(EL_x)"
   ]
  },
  {
   "cell_type": "code",
   "execution_count": 8,
   "id": "883a4d1c",
   "metadata": {},
   "outputs": [
    {
     "data": {
      "image/png": "[encoded data removed]",
      "text/latex": [
       "$\\displaystyle \\frac{l m \\left(g \\sin{\\left(\\theta{\\left(t \\right)} \\right)} + 1.16666666666667 l \\frac{d^{2}}{d t^{2}} \\theta{\\left(t \\right)} + 1.0 \\cos{\\left(\\theta{\\left(t \\right)} \\right)} \\frac{d^{2}}{d t^{2}} x{\\left(t \\right)}\\right)}{2}$"
      ],
      "text/plain": [
       "    ⎛                                  2                         2       ⎞\n",
       "    ⎜                                 d                         d        ⎟\n",
       "l⋅m⋅⎜g⋅sin(θ(t)) + 1.16666666666667⋅l⋅───(θ(t)) + 1.0⋅cos(θ(t))⋅───(x(t))⎟\n",
       "    ⎜                                   2                         2      ⎟\n",
       "    ⎝                                 dt                        dt       ⎠\n",
       "──────────────────────────────────────────────────────────────────────────\n",
       "                                    2                                     "
      ]
     },
     "metadata": {},
     "output_type": "display_data"
    }
   ],
   "source": [
    "# Equation for theta\n",
    "dL_dtheta = diff(L, theta)\n",
    "dL_dtheta_dot = diff(L, theta_dot)\n",
    "d_dt_dL_dtheta_dot = diff(dL_dtheta_dot, t)\n",
    "EL_theta = simplify(d_dt_dL_dtheta_dot - dL_dtheta)\n",
    "display(EL_theta)"
   ]
  },
  {
   "cell_type": "markdown",
   "id": "ede343c8",
   "metadata": {},
   "source": [
    "## ✅ Final Result\n",
    "These are the full nonlinear coupled equations for the cart and rigid pendulum, including the pendulum's rotational inertia."
   ]
  },
  {
   "cell_type": "markdown",
   "id": "d1f2a036",
   "metadata": {},
   "source": [
    "## 🌟 Conclusion\n",
    "We now have a fully accurate symbolic model of a cart-pendulum system using Lagrangian mechanics — including the effect of rotational inertia of the pendulum and external driving force."
   ]
  },
  {
   "cell_type": "markdown",
   "id": "f603451d",
   "metadata": {},
   "source": [
    "\n"
   ]
  }
 ],
 "metadata": {
  "kernelspec": {
   "display_name": "venv",
   "language": "python",
   "name": "python3"
  },
  "language_info": {
   "codemirror_mode": {
    "name": "ipython",
    "version": 3
   },
   "file_extension": ".py",
   "mimetype": "text/x-python",
   "name": "python",
   "nbconvert_exporter": "python",
   "pygments_lexer": "ipython3",
   "version": "3.10.11"
  }
 },
 "nbformat": 4,
 "nbformat_minor": 5
}
