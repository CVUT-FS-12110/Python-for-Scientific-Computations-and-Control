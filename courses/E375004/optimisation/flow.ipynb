{
 "metadata": {
  "language_info": {
   "codemirror_mode": {
    "name": "ipython",
    "version": 3
   },
   "file_extension": ".py",
   "mimetype": "text/x-python",
   "name": "python",
   "nbconvert_exporter": "python",
   "pygments_lexer": "ipython3",
   "version": 3
  },
  "orig_nbformat": 2,
  "kernelspec": {
   "name": "python_defaultSpec_1596632988459",
   "display_name": "Python 3.6.8 64-bit ('.venv': venv)"
  }
 },
 "nbformat": 4,
 "nbformat_minor": 2,
 "cells": [
  {
   "cell_type": "markdown",
   "metadata": {},
   "source": [
    "# Maximizing flow through network\n",
    "\n",
    "In this example, our task will be to maximize flow through defined network, which is perfekt example of linear problem.\n",
    "\n",
    "We have a network (represented as directed graph). Graph has **Source** - source of a medium (it can be for example gas, water or electricity), **Sink** and some other nodes in between. All edges between source and sink has defined **maximal capacity** (numbers on the edges).\n",
    "\n",
    "![Directed graph - flow](data/flow_graph.drawio.svg)\n",
    "\n",
    "What is the maximum of medium, we can transmit through this network?\n",
    "\n",
    "Lets label edges and nodes:\n",
    "\n",
    "![Directed graph - flow](data/flow_graph2.drawio.svg)\n",
    "\n",
    "And use linear program to solve this problem."
   ]
  },
  {
   "cell_type": "code",
   "execution_count": 20,
   "metadata": {},
   "outputs": [],
   "source": [
    "import cvxpy as cp\n",
    "import numpy as np\n",
    "import matplotlib.pyplot as plt"
   ]
  },
  {
   "cell_type": "code",
   "execution_count": 21,
   "metadata": {},
   "outputs": [],
   "source": [
    "# Empty list of constraints\n",
    "constraints = []\n",
    "# variables, for each edge one variable\n",
    "edge = cp.Variable(15)\n",
    "# maximal capacity for each edge\n",
    "maximal_capacity = np.array([13.0, 14, 10, 4, 10, 7, 6, 8, 5, 10, 2, 10, 7, 11, 8])"
   ]
  },
  {
   "cell_type": "code",
   "execution_count": 22,
   "metadata": {},
   "outputs": [],
   "source": [
    "# negative flow does not make sence in this case\n",
    "constraints.append(edge >= 0)\n",
    "# capacity constraints (flow can not exceed capacity of edge)\n",
    "constraints.append(edge <= maximal_capacity)\n",
    "# flow constraints (what flows into node has to be the same as what flows out of node)\n",
    "constraints.extend([\n",
    "    edge[0] == edge[4],\n",
    "    edge[1] == edge[5] + edge[6],\n",
    "    edge[2] == edge[7],\n",
    "    edge[3] == edge[8],\n",
    "    edge[4] + edge[5] == edge[9] + edge[11],\n",
    "    edge[9] == edge[10] + edge[12],\n",
    "    edge[6] + edge[7] + edge[10] == edge[13],\n",
    "    edge[11] == edge[14],\n",
    "])\n",
    "# cost function is sum of all edges ending in sink\n",
    "cost = edge[8] + edge[12] + edge[13] + edge[14]\n",
    "# objective is maximize\n",
    "objective = cp.Maximize(cost)\n",
    "# define LP problem\n",
    "problem = cp.Problem(objective, constraints)"
   ]
  },
  {
   "cell_type": "code",
   "execution_count": 23,
   "metadata": {
    "tags": []
   },
   "outputs": [
    {
     "output_type": "stream",
     "name": "stdout",
     "text": "\nECOS 2.0.7 - (C) embotech GmbH, Zurich Switzerland, 2012-15. Web: www.embotech.com/ECOS\n\nIt     pcost       dcost      gap   pres   dres    k/t    mu     step   sigma     IR    |   BT\n 0  -1.794e+01  -1.742e+02  +2e+02  7e-04  4e-09  1e+00  5e+00    ---    ---    1  1  - |  -  - \n 1  -2.167e+01  -4.230e+01  +2e+01  9e-05  5e-08  1e-01  7e-01  0.8712  4e-03   0  0  0 |  0  0\n 2  -2.954e+01  -3.605e+01  +7e+00  3e-05  1e-07  6e-02  2e-01  0.7109  4e-02   0  0  0 |  0  0\n 3  -2.973e+01  -3.066e+01  +9e-01  4e-06  2e-08  3e-02  3e-02  0.9890  1e-01   0  0  0 |  0  0\n 4  -3.000e+01  -3.001e+01  +1e-02  4e-08  4e-09  3e-04  4e-04  0.9885  1e-04   0  0  0 |  0  0\n 5  -3.000e+01  -3.000e+01  +1e-04  5e-10  8e-11  4e-06  4e-06  0.9890  1e-04   1  0  0 |  0  0\n 6  -3.000e+01  -3.000e+01  +1e-06  5e-12  2e-12  4e-08  4e-08  0.9890  1e-04   1  0  0 |  0  0\n 7  -3.000e+01  -3.000e+01  +1e-08  6e-14  5e-13  5e-10  5e-10  0.9890  1e-04   1  0  0 |  0  0\n\nOPTIMAL (within feastol=5.5e-13, reltol=4.9e-10, abstol=1.5e-08).\nRuntime: 0.002841 seconds.\n\n"
    },
    {
     "output_type": "execute_result",
     "data": {
      "text/plain": "29.99999999621742"
     },
     "metadata": {},
     "execution_count": 23
    }
   ],
   "source": [
    "# solve LP problem with ECOS solver\n",
    "problem.solve(verbose=True, solver=cp.ECOS)"
   ]
  },
  {
   "cell_type": "code",
   "execution_count": 24,
   "metadata": {
    "tags": []
   },
   "outputs": [
    {
     "output_type": "stream",
     "name": "stdout",
     "text": "Maximized volume of medium: 29.99999999621742\nFlow in each edge:\nedge 0 - capacity 9.036 / 13.0\nedge 1 - capacity 10.542 / 14.0\nedge 2 - capacity 6.422 / 10.0\nedge 3 - capacity 4.0 / 4.0\nedge 4 - capacity 9.036 / 10.0\nedge 5 - capacity 6.215 / 7.0\nedge 6 - capacity 4.326 / 6.0\nedge 7 - capacity 6.422 / 8.0\nedge 8 - capacity 4.0 / 5.0\nedge 9 - capacity 7.251 / 10.0\nedge 10 - capacity 0.251 / 2.0\nedge 11 - capacity 8.0 / 10.0\nedge 12 - capacity 7.0 / 7.0\nedge 13 - capacity 11.0 / 11.0\nedge 14 - capacity 8.0 / 8.0\n"
    }
   ],
   "source": [
    "# print results\n",
    "print(f\"Maximized volume of medium: {problem.value}\")\n",
    "print(\"Flow in each edge:\")\n",
    "for i in range(len(maximal_capacity)):\n",
    "    print(\n",
    "        f\"edge {i} - capacity\"\n",
    "        + f\" {np.around(edge[i].value, decimals=3)}\"\n",
    "        + f\" / {maximal_capacity[i]}\"\n",
    "    )"
   ]
  },
  {
   "cell_type": "code",
   "execution_count": null,
   "metadata": {},
   "outputs": [],
   "source": []
  }
 ]
}