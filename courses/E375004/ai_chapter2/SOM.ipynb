{
 "cells": [
  {
   "cell_type": "markdown",
   "metadata": {},
   "source": [
    "# Self-orginizing maps"
   ]
  },
  {
   "cell_type": "markdown",
   "metadata": {},
   "source": [
    "Self-orginizing map (SOM) is a type of neural network which is trained using unsupervised learning algorithms. One of the basic abilities of SOM is to project high-dimensional data to lower dimension (1D, 2D, 3D obviously). SOM can be considered as a general cluster analysis tool."
   ]
  },
  {
   "cell_type": "markdown",
   "metadata": {},
   "source": [
    "Scheme of 2D SOM:\n",
    "\n",
    "![SOM](https://miro.medium.com/max/655/1*QG7afWQKjY3IpezhNQMzBg.png)\n",
    "(Source of the scheme - https://miro.medium.com/max/655/1*QG7afWQKjY3IpezhNQMzBg.png)\n",
    "\n",
    "2D SOM consists of neurons in a plane, each neuron has *n* number of weights, where *n* equals to input data dimension. \n",
    "\n",
    "Positions of neurons are determined by any kind of distance metrics. For our pupose the Euclidean distance is sufficient.\n",
    "\n",
    "Euclidean distance between two neurons with weights vector $\\boldsymbol{w_1}$ and $\\boldsymbol{w_2}$:\n",
    "\n",
    "$$||\\boldsymbol{w_1}-\\boldsymbol{w_2}||= \\sqrt{\\sum_{j=1}^{p}(w_{1j}-w_{2j})^2}$$\n",
    "\n"
   ]
  },
  {
   "cell_type": "markdown",
   "metadata": {},
   "source": [
    "## Learning algorithm\n"
   ]
  },
  {
   "cell_type": "markdown",
   "metadata": {},
   "source": [
    "![SOMlearn](https://upload.wikimedia.org/wikipedia/commons/3/35/TrainSOM.gif)(Source of the gif - https://upload.wikimedia.org/wikipedia/commons/3/35/TrainSOM.gif)\n"
   ]
  },
  {
   "cell_type": "markdown",
   "metadata": {},
   "source": [
    "1. The weights $\\boldsymbol{w(0)}$ have random values in initialization step. \n",
    "2. Random observation $\\boldsymbol{x}(k)$ is chosen from input data\n",
    "3. Calculate the distance (e.g. Euclidean) between chosen observation and all neuron weights\n",
    "4. Find which neuron is the closest to chosen observation. This is our winning neuron $v = arg min ||\\boldsymbol{x}(k) - \\boldsymbol{w}||$\n",
    "5. Update winning neuron weights $\\boldsymbol{w_v}$: $$\\boldsymbol{w_v}(k+1) = \\boldsymbol{w_v}(k) + \\alpha(k) [\\boldsymbol{x}(k) - \\boldsymbol{w_v}(k)]$$ where $\\alpha(k)$ is a learning parameter which should be high at the beginning and low at the end of learning algorithm. We want to make bigger steps at the beginning of learning and then finer and finer: $$ \\alpha(k) = \\alpha(0) \\exp\\left({- \\frac{k}{\\lambda_\\alpha}}\\right),$$\n",
    "6. However it is important to update also the neighbour neurons $\\boldsymbol{w_n}(k)$ of the winning neuron. This is crucial for finding similar clusters of neurons (this is the basic formula of learning algorithm): $$\\boldsymbol{w_n}(k+1) = \\boldsymbol{w_n}(k) + \\alpha(k)\\eta(v,k,n) [\\boldsymbol{x}(k) - \\boldsymbol{w_v}(k)]$$ The update is similar to winning neuron update but it has additional neighbourhood parameter $\\eta(v,k,n)$, which determines how much are the neighbours influenced by the winning neuron. The closest neighbours are influenced the most and the influence is gettig weaker with bigger distance according to: $$\\eta = exp\\left( -\\frac{||n-v||^2}{2 \\sigma(k)^2}  \\right)$$ which is a gaussian function where $||n-v||$ is distance between winning neuron and the neighbour and $\\sigma(k)$ is a parameter which determines how wide is the neighbourhood area. $\\sigma(k)$ should be also high at the beginning and low at the end of the algorithm: $$ \\sigma(k) = \\sigma(0) \\exp\\left({- \\frac{k}{\\lambda_\\sigma}}\\right),$$\n",
    "7. Go to step 2. and repeat \n",
    "\n"
   ]
  },
  {
   "cell_type": "markdown",
   "metadata": {},
   "source": [
    "## Simple 2D SOM example"
   ]
  },
  {
   "cell_type": "code",
   "execution_count": 1,
   "metadata": {
    "collapsed": true
   },
   "outputs": [],
   "source": [
    "import matplotlib\n",
    "import numpy as np\n",
    "import matplotlib.pyplot as plt\n",
    "%matplotlib inline  "
   ]
  },
  {
   "cell_type": "markdown",
   "metadata": {},
   "source": [
    "Define a function for 2D SOM creation. SOM has some number of neurons determined by number of rows and columns in SOM plane and is also determined by number of weights of each neuron"
   ]
  },
  {
   "cell_type": "code",
   "execution_count": 2,
   "metadata": {},
   "outputs": [],
   "source": [
    "def new_SOM(nRows, nCols, nWeights):\n",
    "    som = np.random.rand(nRows, nCols, nWeights) #random initialization\n",
    "    return som"
   ]
  },
  {
   "cell_type": "markdown",
   "metadata": {},
   "source": [
    "Define a function which finds the winning neuron and returns its position and distance between the winner and the observation from input data"
   ]
  },
  {
   "cell_type": "code",
   "execution_count": 3,
   "metadata": {
    "collapsed": true
   },
   "outputs": [],
   "source": [
    "def find_winner(som, x):\n",
    "    #initialization\n",
    "    dist_win = np.inf\n",
    "    row_win = np.nan\n",
    "    col_win = np.nan\n",
    "    nRowsSOM = som.shape[0]\n",
    "    nColsSOM = som.shape[1]\n",
    "    \n",
    "    #go through the som\n",
    "    for row in range(nRowsSOM):\n",
    "        for col in range(nColsSOM):\n",
    "            #calculate euclidean distance between neuron and input data\n",
    "            currentCentroidDistance = np.sqrt(sum((som[row, col, :]-x)**2))\n",
    "            #find the closest one\n",
    "            if currentCentroidDistance < dist_win:\n",
    "                dist_win = currentCentroidDistance\n",
    "                row_win = row\n",
    "                col_win = col\n",
    "                \n",
    "    return row_win, col_win, dist_win"
   ]
  },
  {
   "cell_type": "markdown",
   "metadata": {},
   "source": [
    "Define a function for Euclidean distance between neurons"
   ]
  },
  {
   "cell_type": "code",
   "execution_count": 4,
   "metadata": {
    "collapsed": true
   },
   "outputs": [],
   "source": [
    "def distance_in_map(row1, col1, row2, col2):\n",
    "    return np.sqrt((row1-row2)**2+(col1-col2)**2)"
   ]
  },
  {
   "cell_type": "markdown",
   "metadata": {},
   "source": [
    "Finally the learning algorithm. Inputs are our SOM, input datax, iteration index and parameters of learning: \n",
    "* sigma0 is initial size of neighbourhood\n",
    "* alpha0 is initial learning parameter\n",
    "* lambdaSigma determines how quickly will neighbourhood influence decrease during the algorithm\n",
    "* lambaAlpha determines how quickly will learning parameter decrease during the algorithm"
   ]
  },
  {
   "cell_type": "code",
   "execution_count": 5,
   "metadata": {},
   "outputs": [],
   "source": [
    "def training(som, x, iteration, sigma0, alpha0, lambdaSigma, lambdaAlpha):\n",
    "    row_win, col_win, dist_win = find_winner(som, x)\n",
    "    nRowsSOM = som.shape[0]\n",
    "    nColsSOM = som.shape[1]\n",
    "    #alpha parameter is getting lower during the algorithm\n",
    "    alphaIteration = alpha0 * np.exp(-iteration/float(lambdaAlpha)) \n",
    "    #Sigma parameter is getting lower during the algorithm\n",
    "    sigmaIteration = sigma0 * np.exp(-iteration/float(lambdaSigma))\n",
    "    \n",
    "    #Go through rows and columns\n",
    "    for row in range(nRowsSOM):\n",
    "        for col in range(nColsSOM):\n",
    "            #this is the main formula as in step 6.\n",
    "            deltaWeights = (x - som[row, col, :]) * \\\n",
    "            alphaIteration * np.exp(-distance_in_map(row, col, row_win, col_win)**2 / float(sigmaIteration)**2)\n",
    "            som[row, col, :] = som[row, col, :] + deltaWeights\n",
    "    return som\n",
    "    "
   ]
  },
  {
   "cell_type": "markdown",
   "metadata": {},
   "source": [
    "## Let's apply the SOM!"
   ]
  },
  {
   "cell_type": "markdown",
   "metadata": {},
   "source": [
    "We would like to distinguish color clusters. Input data will have 3 dimensions (RGB values)"
   ]
  },
  {
   "cell_type": "code",
   "execution_count": 6,
   "metadata": {},
   "outputs": [],
   "source": [
    "colors = [[1,0,0], [0,1,0], [0,0,1]] #three basic colors\n",
    "\n",
    "data = []\n",
    "#create a noisy RGB input data\n",
    "for i in range (150): \n",
    "    #choose one of the colors and add noise\n",
    "    data.append(colors[np.random.randint(0,3)]+np.random.rand(3)/5.)\n",
    "    #color value should be in range <0;1>\n",
    "    data[-1] = np.clip(data[-1],0.0,1.0)"
   ]
  },
  {
   "cell_type": "markdown",
   "metadata": {},
   "source": [
    "Now create a SOM and plot it as an image. You will see random pixels"
   ]
  },
  {
   "cell_type": "code",
   "execution_count": 7,
   "metadata": {},
   "outputs": [
    {
     "data": {
      "image/png": "[encoded data removed]",
      "text/plain": [
       "<matplotlib.figure.Figure at 0x7f14e43d9748>"
      ]
     },
     "metadata": {},
     "output_type": "display_data"
    }
   ],
   "source": [
    "som = new_SOM(10,10,3)\n",
    "plt.imshow(som)\n",
    "plt.show()"
   ]
  },
  {
   "cell_type": "markdown",
   "metadata": {},
   "source": [
    "Try 10 learning iterations. SOM weights will get closer to input data and will cluster similar pixels"
   ]
  },
  {
   "cell_type": "code",
   "execution_count": 8,
   "metadata": {},
   "outputs": [
    {
     "data": {
      "image/png": "[encoded data removed]",
      "text/plain": [
       "<matplotlib.figure.Figure at 0x7f14e43d91d0>"
      ]
     },
     "metadata": {},
     "output_type": "display_data"
    }
   ],
   "source": [
    "#You can try to play with the parameters and test the learning behaviour\n",
    "sigma0 = 10\n",
    "alpha0 = 0.5\n",
    "lambdaSigma = 30\n",
    "lambdaAlpha = 20\n",
    "\n",
    "for i in range(10):\n",
    "    som = training(som,  data[i], i+1, sigma0, alpha0, lambdaSigma, lambdaAlpha)\n",
    "\n",
    "plt.imshow(som)\n",
    "plt.show()"
   ]
  },
  {
   "cell_type": "markdown",
   "metadata": {},
   "source": [
    "More and more interations"
   ]
  },
  {
   "cell_type": "code",
   "execution_count": 9,
   "metadata": {},
   "outputs": [
    {
     "data": {
      "image/png": "[encoded data removed]",
      "text/plain": [
       "<matplotlib.figure.Figure at 0x7f14e2317208>"
      ]
     },
     "metadata": {},
     "output_type": "display_data"
    }
   ],
   "source": [
    "for i in range(40):\n",
    "    som = training(som,  data[i], i+1, sigma0, alpha0, lambdaSigma, lambdaAlpha)\n",
    "\n",
    "plt.imshow(som)\n",
    "plt.show()"
   ]
  },
  {
   "cell_type": "code",
   "execution_count": 10,
   "metadata": {},
   "outputs": [
    {
     "data": {
      "image/png": "[encoded data removed]",
      "text/plain": [
       "<matplotlib.figure.Figure at 0x7f14e22d7c18>"
      ]
     },
     "metadata": {},
     "output_type": "display_data"
    }
   ],
   "source": [
    "for i in range(100):\n",
    "    som = training(som,  data[i], i+1, sigma0, alpha0, lambdaSigma, lambdaAlpha)\n",
    "\n",
    "plt.imshow(som)\n",
    "plt.show()"
   ]
  },
  {
   "cell_type": "markdown",
   "metadata": {},
   "source": [
    "We made a visualization of neuron weights using RGB. \n",
    "We will plot the winning neurons now."
   ]
  },
  {
   "cell_type": "code",
   "execution_count": 11,
   "metadata": {
    "collapsed": true
   },
   "outputs": [
    {
     "data": {
      "image/png": "[encoded data removed]",
      "text/plain": [
       "<matplotlib.figure.Figure at 0x7f14e22979b0>"
      ]
     },
     "metadata": {},
     "output_type": "display_data"
    }
   ],
   "source": [
    "plt.figure()\n",
    "#for each color (RGB) find the winner\n",
    "for colour in [[1,0,0],[0,1,0],[0,0,1]]:\n",
    "    X = []\n",
    "    Y = []\n",
    "    for i in range(10):\n",
    "        #find the winner from noisy data\n",
    "        row, col, d = find_winner(som, np.array(colour)+np.random.rand(3)/5.)\n",
    "        X.append(col)\n",
    "        Y.append(row)\n",
    "    plt.plot(Y,X,\"x\", label=str(colour))\n",
    "plt.legend()\n",
    "plt.show()"
   ]
  },
  {
   "cell_type": "code",
   "execution_count": null,
   "metadata": {},
   "outputs": [],
   "source": []
  }
 ],
 "metadata": {
  "kernelspec": {
   "display_name": "Python 3",
   "language": "python",
   "name": "python3"
  },
  "language_info": {
   "codemirror_mode": {
    "name": "ipython",
    "version": 3
   },
   "file_extension": ".py",
   "mimetype": "text/x-python",
   "name": "python",
   "nbconvert_exporter": "python",
   "pygments_lexer": "ipython3",
   "version": "3.8.8"
  }
 },
 "nbformat": 4,
 "nbformat_minor": 2
}
