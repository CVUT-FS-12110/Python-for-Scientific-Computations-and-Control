{
 "cells": [
  {
   "cell_type": "markdown",
   "id": "dd678bd8-c938-444a-8164-54793bccb764",
   "metadata": {},
   "source": [
    "# Working with files\n",
    "\n",
    "To open a file we use function `open()`. We need to provide a **path** and **mode**.\n",
    "\n",
    "As modes we can use following options:\n",
    "- \"r\" - Read - Default value. Opens a file for reading, error if the file does not exist\n",
    "- \"a\" - Append - Opens a file for appending, creates the file if it does not exist\n",
    "- \"w\" - Write - Opens a file for writing, creates the file if it does not exist\n",
    "- \"x\" - Create - Creates the specified file, returns an error if the file exist\n",
    "\n",
    "And file type options:\n",
    "- \"t\" - Text - Default value. Text mode\n",
    "- \"b\" - Binary - Binary mode (e.g. images)\n",
    "\n",
    "These options might be combined together. For example to read a text file we can use \"rt\", and to write to binary file we can use \"wb\". \n",
    "\n",
    "Ok so let's start with creation of basic text file and initialization of variable to represent the path to it. The file will be filled with these lines:\n",
    "\n",
    "```\n",
    "line 1\n",
    "line 2\n",
    "line 3\n",
    "line 4\n",
    "```"
   ]
  },
  {
   "cell_type": "code",
   "execution_count": 37,
   "id": "26f97fb3-763b-4634-be5f-7c6c0a373540",
   "metadata": {
    "tags": []
   },
   "outputs": [],
   "source": [
    "path = \"./example.txt\""
   ]
  },
  {
   "cell_type": "markdown",
   "id": "3655a578-8513-48c9-a18e-7a808b13bfcf",
   "metadata": {},
   "source": [
    "We can create object which will handle our access to te object"
   ]
  },
  {
   "cell_type": "code",
   "execution_count": 38,
   "id": "ada9311b-7b59-4f95-8c13-138b2bc3b94e",
   "metadata": {
    "tags": []
   },
   "outputs": [
    {
     "name": "stdout",
     "output_type": "stream",
     "text": [
      "<_io.TextIOWrapper name='./example.txt' mode='r' encoding='cp1252'>\n"
     ]
    }
   ],
   "source": [
    "file = open(path, \"r\")\n",
    "print(file)"
   ]
  },
  {
   "cell_type": "markdown",
   "id": "3dae9824-6fbf-4321-89b6-dc81b4b9cb2c",
   "metadata": {},
   "source": [
    "## File reading\n",
    "\n",
    "We can read out and print the file"
   ]
  },
  {
   "cell_type": "code",
   "execution_count": 48,
   "id": "f2e56872-2b06-499b-94fe-5a9c0538b655",
   "metadata": {
    "tags": []
   },
   "outputs": [
    {
     "name": "stdout",
     "output_type": "stream",
     "text": [
      "line 1\n",
      "line 2\n",
      "line 3\n",
      "line 4\n"
     ]
    }
   ],
   "source": [
    "file = open(path, \"r\")\n",
    "print(file.read())"
   ]
  },
  {
   "cell_type": "markdown",
   "id": "3185b35d-8906-4641-8dd7-543cc727e25f",
   "metadata": {
    "tags": []
   },
   "source": [
    "We can read it line by line"
   ]
  },
  {
   "cell_type": "code",
   "execution_count": 49,
   "id": "394aa0a3-e54e-46d7-aeec-7f026b2e57d0",
   "metadata": {
    "tags": []
   },
   "outputs": [
    {
     "name": "stdout",
     "output_type": "stream",
     "text": [
      "line 1\n",
      "\n",
      "line 2\n",
      "\n",
      "line 3\n",
      "\n",
      "line 4\n"
     ]
    }
   ],
   "source": [
    "file = open(path, \"r\")\n",
    "print(file.readline())\n",
    "print(file.readline())\n",
    "print(file.readline())\n",
    "print(file.readline())"
   ]
  },
  {
   "cell_type": "markdown",
   "id": "84259446-3ba4-43e8-a8e4-e13c5d63f25f",
   "metadata": {},
   "source": [
    "Or with for loop"
   ]
  },
  {
   "cell_type": "code",
   "execution_count": 51,
   "id": "f0199d0e-348a-425b-903f-7ae9e6d6b175",
   "metadata": {
    "tags": []
   },
   "outputs": [
    {
     "name": "stdout",
     "output_type": "stream",
     "text": [
      "line 1\n",
      "\n",
      "line 2\n",
      "\n",
      "line 3\n",
      "\n",
      "line 4\n"
     ]
    }
   ],
   "source": [
    "file = open(path, \"r\")\n",
    "for line in file:\n",
    "    print(line)"
   ]
  },
  {
   "cell_type": "markdown",
   "id": "351ee122-6a65-4e55-9ef1-95405d38cc6d",
   "metadata": {
    "tags": []
   },
   "source": [
    "After our work is finished we need to close file"
   ]
  },
  {
   "cell_type": "code",
   "execution_count": 52,
   "id": "ab8b0043-7d47-4e1f-a153-b09011851bd6",
   "metadata": {
    "tags": []
   },
   "outputs": [
    {
     "name": "stdout",
     "output_type": "stream",
     "text": [
      "line 1\n",
      "\n",
      "line 2\n",
      "\n",
      "line 3\n",
      "\n",
      "line 4\n"
     ]
    }
   ],
   "source": [
    "file = open(path, \"r\")\n",
    "for line in file:\n",
    "    print(line)\n",
    "file.close()"
   ]
  },
  {
   "cell_type": "markdown",
   "id": "b901f543-5456-4674-abe4-080b7971016d",
   "metadata": {},
   "source": [
    "Also note what is saved when we send the output of readline to variable instaed of print"
   ]
  },
  {
   "cell_type": "code",
   "execution_count": 50,
   "id": "013cb753-fd14-4f97-8e1b-fdb12cc8c098",
   "metadata": {
    "tags": []
   },
   "outputs": [
    {
     "data": {
      "text/plain": [
       "'line 1\\n'"
      ]
     },
     "execution_count": 50,
     "metadata": {},
     "output_type": "execute_result"
    }
   ],
   "source": [
    "file = open(path, \"r\")\n",
    "var = file.readline()\n",
    "var"
   ]
  },
  {
   "cell_type": "markdown",
   "id": "2a0b6bee-7571-48ae-b779-7a7042a72e1f",
   "metadata": {
    "tags": []
   },
   "source": [
    "## File writing\n",
    "\n",
    "We can write to file with mode \"w\""
   ]
  },
  {
   "cell_type": "code",
   "execution_count": 115,
   "id": "75fd048f-88fa-4249-a2f8-d43cb0cdef06",
   "metadata": {
    "tags": []
   },
   "outputs": [
    {
     "name": "stdout",
     "output_type": "stream",
     "text": [
      "Hello World!\n",
      "\n",
      "This is my amazing file\n"
     ]
    }
   ],
   "source": [
    "text = \"Hello World!\\nThis is my amazing file\"\n",
    "\n",
    "file = open(path, \"w\")\n",
    "file.write(text)\n",
    "file.close()\n",
    "\n",
    "file = open(path, \"r\")\n",
    "for line in file:\n",
    "    print(line)"
   ]
  },
  {
   "cell_type": "markdown",
   "id": "e74bbfe5-e9b6-4a22-9411-40892de44f78",
   "metadata": {},
   "source": [
    "What happened here is that write mode have overwritten the original text. If we would like not to delete what is in file already we would need to use other mode.\n",
    "\n",
    "## File appending\n",
    "\n",
    "If we wont to append something to the file end we can use option \"a\""
   ]
  },
  {
   "cell_type": "code",
   "execution_count": 116,
   "id": "5d27dfbf-3fa1-492c-b49b-746788560458",
   "metadata": {
    "tags": []
   },
   "outputs": [
    {
     "name": "stdout",
     "output_type": "stream",
     "text": [
      "Hello World!\n",
      "\n",
      "This is my amazing fileHello World!\n",
      "\n",
      "This is my amazing file\n"
     ]
    }
   ],
   "source": [
    "text_to_append = \"A new appended line.\"\n",
    "\n",
    "file = open(path, \"a\")\n",
    "file.write(text)\n",
    "file.close()\n",
    "\n",
    "file = open(path, \"r\")\n",
    "for line in file:\n",
    "    print(line)"
   ]
  },
  {
   "cell_type": "markdown",
   "id": "bdc7bccb-70c0-4f6a-afb5-68535ce6f65b",
   "metadata": {},
   "source": [
    "# Context manager\n",
    "\n",
    "Ok above we tried cases where everything went good. But there might be some problems. In that case our program crashes while it has opened file and thus the file wont be ever closed because we never get to `.close()` call. And because the file is used in some zombie object we cannot work properly with it. We can solve this with `finally` statement of `try-except` block:"
   ]
  },
  {
   "cell_type": "code",
   "execution_count": 121,
   "id": "4ccb727f-881b-4db3-ad8d-6bb1a924e3ef",
   "metadata": {
    "tags": []
   },
   "outputs": [
    {
     "name": "stdout",
     "output_type": "stream",
     "text": [
      "Hello World!\n",
      "This is my amazing fileHello World!\n",
      "This is my amazing file\n"
     ]
    }
   ],
   "source": [
    "try:\n",
    "    file = open(path, \"r\")\n",
    "    print(file.read())\n",
    "    # print(missing_variable) # this is error made on purpose\n",
    "finally:\n",
    "    file.close()"
   ]
  },
  {
   "cell_type": "markdown",
   "id": "85f0e8e2-f0b7-467a-9b5c-138f1a178bef",
   "metadata": {
    "tags": []
   },
   "source": [
    "Or we can use `context manager` which is simple way to do the same"
   ]
  },
  {
   "cell_type": "code",
   "execution_count": 120,
   "id": "3e430bd8-0aac-4854-9bb4-20ac6258e8d4",
   "metadata": {
    "tags": []
   },
   "outputs": [
    {
     "name": "stdout",
     "output_type": "stream",
     "text": [
      "Hello World!\n",
      "This is my amazing fileHello World!\n",
      "This is my amazing file\n"
     ]
    }
   ],
   "source": [
    "with open(path, \"r\") as file:\n",
    "    print(file.read())\n",
    "    # print(missing_variable) # this is error made on purpose"
   ]
  }
 ],
 "metadata": {
  "kernelspec": {
   "display_name": "Python 3 (ipykernel)",
   "language": "python",
   "name": "python3"
  },
  "language_info": {
   "codemirror_mode": {
    "name": "ipython",
    "version": 3
   },
   "file_extension": ".py",
   "mimetype": "text/x-python",
   "name": "python",
   "nbconvert_exporter": "python",
   "pygments_lexer": "ipython3",
   "version": "3.10.5"
  }
 },
 "nbformat": 4,
 "nbformat_minor": 5
}
