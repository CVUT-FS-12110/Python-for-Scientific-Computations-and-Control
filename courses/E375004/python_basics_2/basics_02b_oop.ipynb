{
 "cells": [
  {
   "cell_type": "markdown",
   "id": "5508b6ea-685e-4c4c-b0fd-baed51ac6a2a",
   "metadata": {},
   "source": [
    "# 02b - Python basics - Classes and Objects\n",
    "\n",
    "Classes and objects are both expressions connected to object oriented programming paradigm which is based on the concept of \"objects\", which can contain data and code: data in the form of fields (often known as **attributes** or properties), and code, in the form of procedures (often known as **methods**).\n",
    "\n",
    "So what is class and what is object:\n",
    "\n",
    "* **Class** is something like a template or prescription for how the object should look like.\n",
    "* **Object** is instance of class (it is product of the class prescription)\n",
    "\n",
    "So lets with basic example of definition of class with one method:"
   ]
  },
  {
   "cell_type": "code",
   "execution_count": 15,
   "id": "835a01b5-131a-483f-9f9a-9a61dd79c35b",
   "metadata": {},
   "outputs": [],
   "source": [
    "class MyClass:\n",
    "    my_atribute = 5\n",
    "        \n",
    "    def my_method(self):\n",
    "        print('Method of a class')"
   ]
  },
  {
   "cell_type": "markdown",
   "id": "725096b3-d13e-402a-94bc-95a7e74d59e3",
   "metadata": {},
   "source": [
    "As you can see the class definition doesn't run any code inside the class as it is only a template for future objects. It is similar to the definition of function (it also doesn't run enything by itself). To call that method we need to first create an **instance** of that class, the **object**. We can create an object by \"making a call on the class\" (add ```()``` behind the name) and assigning it to some variable. Once we have an object we can access **atributes** and **methods** of that object with dot ```.``` notation. See example."
   ]
  },
  {
   "cell_type": "code",
   "execution_count": 18,
   "id": "0e06dffa-2899-494b-b4ea-8b1b6e6475fa",
   "metadata": {},
   "outputs": [
    {
     "name": "stdout",
     "output_type": "stream",
     "text": [
      "The value of my_atribute is 5\n",
      "Method of a class\n"
     ]
    }
   ],
   "source": [
    "class MyClass:\n",
    "    my_atribute = 5\n",
    "        \n",
    "    def my_method(self):\n",
    "        print('Method of a class')\n",
    "\n",
    "        \n",
    "object_of_my_class = MyClass()  # creating an instance of class MyClass\n",
    "\n",
    "print(f'The value of my_atribute is {object_of_my_class.my_atribute}')  # get value of atribute an print it\n",
    "\n",
    "object_of_my_class.my_method()  # calling object method"
   ]
  },
  {
   "cell_type": "markdown",
   "id": "60fc454a-c797-45fb-bc52-2cf3899196e4",
   "metadata": {},
   "source": [
    "With dot notation you can also change values of atributes inside the object"
   ]
  },
  {
   "cell_type": "code",
   "execution_count": 19,
   "id": "e444f8be-e0f5-433b-abf3-ec922ee857a3",
   "metadata": {},
   "outputs": [
    {
     "name": "stdout",
     "output_type": "stream",
     "text": [
      "The value of my_atribute is 5\n",
      "The value of my_atribute is 10\n"
     ]
    }
   ],
   "source": [
    "class MyClass:\n",
    "    my_atribute = 5\n",
    "\n",
    "    \n",
    "object_of_my_class = MyClass()\n",
    "\n",
    "print(f'The value of my_atribute is {object_of_my_class.my_atribute}')\n",
    "\n",
    "object_of_my_class.my_atribute = 10  # assign new value to the atribute\n",
    "\n",
    "print(f'The value of my_atribute is {object_of_my_class.my_atribute}')  # get value of atribute an print it"
   ]
  },
  {
   "cell_type": "markdown",
   "id": "0da71f2d-d40f-4743-b89f-879026a6f4ae",
   "metadata": {},
   "source": [
    "## ```self``` - accessing object methods and atributes from inside\n",
    "\n",
    "In case want to change some atributes or access method from inside of the object we need to get that object so we can put the ```.``` after it. From outside we use the name of the object. From inside we use keyword ```self```. Inside the object, ```self``` represent the same as the object name outside. ```self``` must be also defined at the header (as a first parameter) of every method from where we want to access the object atributes and methods. Lets make new method which will be multiplying the atribute by given number."
   ]
  },
  {
   "cell_type": "code",
   "execution_count": 20,
   "id": "9b8a6834-8043-47b1-8d74-552cf934f8f9",
   "metadata": {},
   "outputs": [
    {
     "name": "stdout",
     "output_type": "stream",
     "text": [
      "The value of my_atribute is 5\n",
      "The value of my_atribute is 10\n"
     ]
    }
   ],
   "source": [
    "class MyClass:\n",
    "    my_atribute = 5\n",
    "    \n",
    "    def multiply(self, num): # self in the header of method allows us to access the atribute\n",
    "        self.my_atribute = num * self.my_atribute  # usage ofself to access the atribute\n",
    "        \n",
    "\n",
    "object_of_my_class = MyClass()\n",
    "\n",
    "print(f'The value of my_atribute is {object_of_my_class.my_atribute}')\n",
    "\n",
    "object_of_my_class.multiply(2)  # calling the method from the outside\n",
    "\n",
    "print(f'The value of my_atribute is {object_of_my_class.my_atribute}')"
   ]
  },
  {
   "cell_type": "markdown",
   "id": "f4dc1b6f-f9dc-4d35-9be0-a5b4c65b384b",
   "metadata": {},
   "source": [
    "## Contructor - ```__init__```\n",
    "\n",
    "Constructor is one of so called magic methods (more on that later) which is used to \"construct\" (create) objects. It is the \"thing\" that happens when you put ```()``` after the name of the class. This magic behind just calls the constructor method which initialize the object and returns that object so we can assign it to variable. In Python we define constructor as ```__init__``` method inside the body of class. It is always there even if we don't define it ourselfs (default implementation is used in background). The main reason to have constructor is to be able to set basic values for our object when we are creating it so we don't need to update it imidietly after. So lets update example from above with an constructor:"
   ]
  },
  {
   "cell_type": "code",
   "execution_count": 21,
   "id": "efa86ecf-4589-4529-8766-abdcd58f3978",
   "metadata": {},
   "outputs": [
    {
     "name": "stdout",
     "output_type": "stream",
     "text": [
      "The value of my_atribute is 3\n",
      "The value of my_atribute is 6\n"
     ]
    }
   ],
   "source": [
    "class MyClass:\n",
    "    my_atribute = 5\n",
    "    \n",
    "    def __init__(self, value_for_my_atribute):  # constructor definition, expectation of one parametr to be passed\n",
    "        self.my_atribute = value_for_my_atribute  # assignment of passed argument into the atribute\n",
    "        \n",
    "    def multiply(self, num):\n",
    "        self.my_atribute = num * self.my_atribute\n",
    "\n",
    "        \n",
    "object_of_my_class = MyClass(3)\n",
    "\n",
    "print(f'The value of my_atribute is {object_of_my_class.my_atribute}')\n",
    "\n",
    "object_of_my_class.multiply(2)\n",
    "\n",
    "print(f'The value of my_atribute is {object_of_my_class.my_atribute}')"
   ]
  },
  {
   "cell_type": "markdown",
   "id": "adc524d4-c1ce-4999-a736-d8444a3824fa",
   "metadata": {},
   "source": [
    "## Inheritance\n",
    "\n",
    "Inheritance in oop allows us to \"pass\" methods and atributes of the parent class to the child class. It means that we can define one base class and then make its children classes with the same base properties. \n",
    "* **Parent** class is the class being inherited from\n",
    "* **Child** class is the class that inherits from another class\n",
    "\n",
    "We can specify from which class we want to inherit within the definition of child class. It is done by adding the name of parent class inside of ```()``` after the name of child class ( ```class ChildClass(ParentClass):``` ).\n",
    "\n",
    "See the example"
   ]
  },
  {
   "cell_type": "code",
   "execution_count": 22,
   "id": "14e05af3-4238-421e-b918-30cf24e2bcec",
   "metadata": {},
   "outputs": [
    {
     "name": "stdout",
     "output_type": "stream",
     "text": [
      "Method of a class\n",
      "Method of a class\n"
     ]
    }
   ],
   "source": [
    "# Parent class\n",
    "class ParentClass:\n",
    "    my_atribute = 5\n",
    "        \n",
    "    def my_method(self):\n",
    "        print('Method of a class')\n",
    "\n",
    "        \n",
    "# Child class, empty implementation\n",
    "class ChildClass(ParentClass):\n",
    "    pass\n",
    "\n",
    "\n",
    "x = ParentClass()\n",
    "x.my_method()\n",
    "\n",
    "x = ChildClass()\n",
    "x.my_method()"
   ]
  },
  {
   "cell_type": "markdown",
   "id": "339b0f47-516c-43dc-a186-01b3b9707aa8",
   "metadata": {},
   "source": [
    "Now we have child class that does exactly the same as it's parent. But we can do more than that. We can add new stuff to the child class thus make it more specific child of it's parent. Let's make an example of parent Person class and enhanced Student child class. Person will have constructor which will allow us to set it's name. Student will be inherited from person but he will have added atribute to represent his current courses and also he gets the method which will print out the list of his courses."
   ]
  },
  {
   "cell_type": "code",
   "execution_count": 23,
   "id": "34e33c9d-2b27-4d2f-8e6d-6d8e5f6540f3",
   "metadata": {},
   "outputs": [
    {
     "name": "stdout",
     "output_type": "stream",
     "text": [
      "Student Alice's courses:\n",
      "Python\n",
      "Mathematics\n"
     ]
    }
   ],
   "source": [
    "class Person():\n",
    "    \n",
    "    def __init__(self, name):\n",
    "          self.name = name\n",
    "            \n",
    "class Student(Person):\n",
    "    \n",
    "    current_courses = ['Python', 'Mathematics']  # set default courses for every student\n",
    "        \n",
    "    def print_courses(self): # method for printing out student courses\n",
    "        print(f'Student {self.name}\\'s courses:')\n",
    "        for course in self.current_courses:\n",
    "            print(course)\n",
    "  \n",
    "\n",
    "student = Student('Alice')  \n",
    "student.print_courses()"
   ]
  },
  {
   "cell_type": "markdown",
   "id": "aa806587-5e4a-430d-872c-3e8245382f86",
   "metadata": {},
   "source": [
    "### Parent constructor - ```super().__init__()```\n",
    "\n",
    "When we want to create an constructor for our child class we need to integrate parent's consturctor into it. Without it our child class wouldn't have properties initialized in parent's constructor so it would be impossible to access them.\n",
    "\n",
    "Simply you cant think about it as we need to create instance of parent class first (with parent's constructor) and then add some child class specific stuff to it (with child constructor). To call parent's constructor we use ```super()``` and than append ```__init__()``` to it and in general we put this statement at the top of child constructor body. You also need to pass parent class related input parameters to the parent's constructor. See the following example "
   ]
  },
  {
   "cell_type": "code",
   "execution_count": 24,
   "id": "7362ea0b-077d-4577-a277-dfc882e8c1e8",
   "metadata": {},
   "outputs": [
    {
     "name": "stdout",
     "output_type": "stream",
     "text": [
      "Student Alice's courses:\n",
      "Python\n",
      "Mathematics\n",
      "\n"
     ]
    },
    {
     "ename": "TypeError",
     "evalue": "__init__() takes 2 positional arguments but 3 were given",
     "output_type": "error",
     "traceback": [
      "\u001b[1;31m---------------------------------------------------------------------------\u001b[0m",
      "\u001b[1;31mTypeError\u001b[0m                                 Traceback (most recent call last)",
      "Input \u001b[1;32mIn [24]\u001b[0m, in \u001b[0;36m<module>\u001b[1;34m\u001b[0m\n\u001b[0;32m     25\u001b[0m \u001b[38;5;28mprint\u001b[39m()\n\u001b[0;32m     27\u001b[0m \u001b[38;5;66;03m# Person class doesn't have atributes or methods of Student so we are not able to use them on Parent's instances\u001b[39;00m\n\u001b[1;32m---> 28\u001b[0m person \u001b[38;5;241m=\u001b[39m \u001b[43mPerson\u001b[49m\u001b[43m(\u001b[49m\u001b[38;5;124;43m'\u001b[39;49m\u001b[38;5;124;43mBob\u001b[39;49m\u001b[38;5;124;43m'\u001b[39;49m\u001b[43m,\u001b[49m\u001b[43m \u001b[49m\u001b[43m[\u001b[49m\u001b[38;5;124;43m'\u001b[39;49m\u001b[38;5;124;43mPython\u001b[39;49m\u001b[38;5;124;43m'\u001b[39;49m\u001b[43m,\u001b[49m\u001b[43m \u001b[49m\u001b[38;5;124;43m'\u001b[39;49m\u001b[38;5;124;43mMathematics\u001b[39;49m\u001b[38;5;124;43m'\u001b[39;49m\u001b[43m]\u001b[49m\u001b[43m)\u001b[49m\n\u001b[0;32m     29\u001b[0m person\u001b[38;5;241m.\u001b[39mprint_courses()\n",
      "\u001b[1;31mTypeError\u001b[0m: __init__() takes 2 positional arguments but 3 were given"
     ]
    }
   ],
   "source": [
    "class Person():\n",
    "    \n",
    "    def __init__(self, name):\n",
    "          self.name = name\n",
    "    \n",
    "    \n",
    "class Student(Person):\n",
    "    \n",
    "    current_courses = []\n",
    "    \n",
    "    def __init__(self, name, courses):\n",
    "        super().__init__(name)  # calling constructor of parent class Person, passing name parameter to it (inherited property)\n",
    "        self.current_courses = courses  # setting the atribute current_courses (child class specific property)\n",
    "        \n",
    "    def print_courses(self):\n",
    "        print(f'Student {self.name}\\'s courses:')\n",
    "        for course in self.current_courses:\n",
    "            print(course)\n",
    "           \n",
    "        \n",
    "# thanks to Student specific constructor we can set courses for every Student instance during it's initialization\n",
    "student = Student('Alice', ['Python', 'Mathematics'])\n",
    "student.print_courses()\n",
    "\n",
    "print()\n",
    "\n",
    "# Person class doesn't have atributes or methods of Student so we are not able to use them on Parent's instances\n",
    "person = Person('Bob', ['Python', 'Mathematics'])\n",
    "person.print_courses()"
   ]
  },
  {
   "cell_type": "markdown",
   "id": "86aa4195-9875-49ca-b49e-e215279c0293",
   "metadata": {},
   "source": [
    "You can see that while Student can work with its courses, Person cannot but both classes has access to person's name. In general child classes have atributes and methods of the parent classes but parent classes don't have properties of their children."
   ]
  },
  {
   "cell_type": "markdown",
   "id": "a267d8e5-e9db-44fd-a206-d435dd144376",
   "metadata": {},
   "source": [
    "## Polymorphism\n",
    "\n",
    "Polymorphism is an object-oriented programming concept that refers to the ability of a variable, function or object to take on multiple forms. It allows programmers to work more in general approach. We will focus on dynamic polymorphism of inherited objects. In this case polymorphism allows child classes to use methods with same name but different implementation than parent or other possible children. Let's start with simple example of inheritance (no polymorphism here yet)"
   ]
  },
  {
   "cell_type": "code",
   "execution_count": 25,
   "id": "9e8175eb-55e3-4651-b1f5-22e51e0feb71",
   "metadata": {},
   "outputs": [
    {
     "name": "stdout",
     "output_type": "stream",
     "text": [
      "My name is Alice. I am just a generic person\n",
      "My name is Bob. I am just a generic person\n",
      "My name is Carlos. I am just a generic person\n"
     ]
    }
   ],
   "source": [
    "class Person():\n",
    "    \n",
    "    def __init__(self, name):\n",
    "          self.name = name\n",
    "            \n",
    "    def personal_introduction(self):\n",
    "        print(f'My name is {self.name}. I am just a generic person')\n",
    "         \n",
    "            \n",
    "class Teacher(Person):\n",
    "    pass\n",
    "    \n",
    "    \n",
    "class Student(Person):\n",
    "    pass\n",
    "\n",
    "\n",
    "person = Person('Alice')\n",
    "person.personal_introduction()\n",
    "\n",
    "teacher = Teacher('Bob')\n",
    "teacher.personal_introduction()\n",
    "\n",
    "student = Student('Carlos')\n",
    "student.personal_introduction()"
   ]
  },
  {
   "cell_type": "markdown",
   "id": "54dff854-d728-4384-b37d-3146610224d7",
   "metadata": {},
   "source": [
    "As we expected, children inherited parent's method and the output for all of them was same (except their name). But we can the some changes for the children and create their own implementation of method ```personal_introduction()```. When we call these methods on their instances, we can see that each object used it's own method. "
   ]
  },
  {
   "cell_type": "code",
   "execution_count": 26,
   "id": "e48e09a4-7614-45b9-b0df-bd689d7350fb",
   "metadata": {},
   "outputs": [
    {
     "name": "stdout",
     "output_type": "stream",
     "text": [
      "My name is Alice. I am just generic person\n",
      "My name is Bob. I am teacher\n",
      "My name is Carlos. I am student\n"
     ]
    }
   ],
   "source": [
    "class Person():\n",
    "    \n",
    "    def __init__(self, name):\n",
    "          self.name = name\n",
    "            \n",
    "    def personal_introduction(self):\n",
    "        print(f'My name is {self.name}. I am just generic person')\n",
    "           \n",
    "            \n",
    "class Teacher(Person):\n",
    "    def personal_introduction(self):\n",
    "        print(f'My name is {self.name}. I am teacher')\n",
    "    \n",
    "    \n",
    "class Student(Person):\n",
    "    def personal_introduction(self):\n",
    "        print(f'My name is {self.name}. I am student')\n",
    "\n",
    "        \n",
    "person = Person('Alice')\n",
    "person.personal_introduction()\n",
    "\n",
    "teacher = Teacher('Bob')\n",
    "teacher.personal_introduction()\n",
    "\n",
    "student = Student('Carlos')\n",
    "student.personal_introduction()"
   ]
  },
  {
   "cell_type": "markdown",
   "id": "91e430d0-c6db-4041-96e8-5297f954876f",
   "metadata": {},
   "source": [
    "And now, why is it good for? Thanks to the fact that all children classes inherits from their parents, we know that every one of these children will have an implementation of ```personal_introduction()``` method. Some of them will use the parent's implementation and some of them will have their own, but in the end all of them will be able to call that method. For practical usage it means we can put all Person like objects to a container (school register, seat distribution in a bus, etc.), iterate over them and call that method on each one of them. Thanks to polymorphism we will get some kind of expected result on every call."
   ]
  },
  {
   "cell_type": "code",
   "execution_count": 12,
   "id": "0fab954c-75dc-48d5-bd16-11950618d829",
   "metadata": {},
   "outputs": [
    {
     "name": "stdout",
     "output_type": "stream",
     "text": [
      "My name is Alice. I am teacher\n",
      "My name is Bob. I am student\n",
      "My name is Carlos. I am master student\n",
      "My name is Derek. I am just generic person\n"
     ]
    }
   ],
   "source": [
    "class Person():\n",
    "    \n",
    "    def __init__(self, name):\n",
    "          self.name = name\n",
    "            \n",
    "    def personal_introduction(self):\n",
    "        print(f'My name is {self.name}. I am just generic person')\n",
    "         \n",
    "            \n",
    "class Teacher(Person):\n",
    "    def personal_introduction(self):\n",
    "        print(f'My name is {self.name}. I am teacher')\n",
    "    \n",
    "    \n",
    "class Student(Person):\n",
    "    def personal_introduction(self):\n",
    "        print(f'My name is {self.name}. I am student')\n",
    "        \n",
    "        \n",
    "class MasterStudent(Student):\n",
    "    def personal_introduction(self):\n",
    "        print(f'My name is {self.name}. I am master student')\n",
    "        \n",
    "        \n",
    "class Stranger(Person):  \n",
    "    # stranger doesn't override parent's method with own implementation so he will use implementation of Person (parent class)\n",
    "    pass\n",
    "\n",
    "        \n",
    "# Teacher, Student, MasterStudent overrides parent method with own implementation    \n",
    "teacher = Teacher('Alice')\n",
    "student1 = Student('Bob')\n",
    "student2 = MasterStudent('Carlos')\n",
    "# Stranger uses parent's implementation, no override\n",
    "stranger = Stranger('Derek')  \n",
    "school_register = [teacher, student1, student2, stranger]\n",
    "\n",
    "for person in school_register:\n",
    "    person.personal_introduction()"
   ]
  },
  {
   "cell_type": "markdown",
   "id": "d6de500f-d9bf-45ab-a5f4-c65a46e238ba",
   "metadata": {},
   "source": [
    "The main advantage of polymorphism is that it allows us to think and program more in the general rather than do it in the specific. As a real life examples we can take the school register of all students, teachers and other associates. Both teachers and students have access to KOS system but each of them have different privileges and constraints. Teacher can fill in grades for students and students may sign to exam terms. Other example could be a system for vehicle parking slots where the general Vehicle is inherited into Car, Bus, Truck and so on. As a voluntary home exercise think about other possible situations where polymorphism might be beneficial and how would you implemented it."
   ]
  },
  {
   "cell_type": "markdown",
   "id": "2ad01020-351c-41eb-b623-2e7e7aafe3d1",
   "metadata": {},
   "source": [
    "## Magic methods"
   ]
  },
  {
   "cell_type": "markdown",
   "id": "4423bad5-abd6-4b6a-aa24-c2f8f03ae770",
   "metadata": {
    "tags": []
   },
   "source": [
    "Magic methods are special methods of classes which offers some advanced functionality. They have two prefix and two suffix underscores ```__``` so you can easily recognize them. You also already know one of them and it is ```__init__```. Other examples might be ```__repr__```, ```__add__```, ```__len__```, etc. These methods allow us to change a behavior of our objects in some specific cases. For example as we know method ```__init__``` is called when we create new instance of class. It is called automatically and it has default implementation, but thanks to this magic method we can alter the default behaviour and define our own. We will try other three methods listed here in simple examples.\n",
    "\n",
    "### Magic method ```__repr__```\n",
    "\n",
    "Method ```__repr__``` serve is called when we use function ```print()``` on any object. It's default implementation shows us the string with location of our object in memory. It is fine but it isn't exatly user friendly representation of the object."
   ]
  },
  {
   "cell_type": "code",
   "execution_count": 46,
   "id": "963f7c53-e37d-430d-9624-4e15907ebec7",
   "metadata": {},
   "outputs": [
    {
     "name": "stdout",
     "output_type": "stream",
     "text": [
      "<__main__.Example object at 0x000002C81A53BD30>\n"
     ]
    }
   ],
   "source": [
    "class Example:\n",
    "    pass\n",
    "\n",
    "\n",
    "example = Example()\n",
    "print(example)"
   ]
  },
  {
   "cell_type": "markdown",
   "id": "6e7d46ae-c743-47e6-b804-081c5b14fd0e",
   "metadata": {},
   "source": [
    "If we want to modify the print representation of our object we just define ```__repr__``` method."
   ]
  },
  {
   "cell_type": "code",
   "execution_count": 47,
   "id": "c7f3a7b0-61c6-47fe-aa9b-85b705484b11",
   "metadata": {},
   "outputs": [
    {
     "name": "stdout",
     "output_type": "stream",
     "text": [
      "I am instance of class Example\n"
     ]
    }
   ],
   "source": [
    "class Example:\n",
    "\n",
    "    def __repr__(self):\n",
    "        return 'I am instance of class Example'\n",
    "    \n",
    "    \n",
    "example = Example()\n",
    "print(example)"
   ]
  },
  {
   "cell_type": "markdown",
   "id": "52c8a44c-0f20-4429-8aeb-5e967b8a4bfa",
   "metadata": {},
   "source": [
    "### Magic method ```__add__()```\n",
    "\n",
    "Method ```__add__``` is used for overloading of operator ```+```. This is reason why we can add two string together with. This method is called once the operator ```+``` is used on the object. Let's make an example with our own implementation of complex number."
   ]
  },
  {
   "cell_type": "code",
   "execution_count": 48,
   "id": "6f2e0501-94ca-4894-b5ab-082e08a59bd5",
   "metadata": {},
   "outputs": [
    {
     "ename": "TypeError",
     "evalue": "unsupported operand type(s) for +: 'MyComplex' and 'MyComplex'",
     "output_type": "error",
     "traceback": [
      "\u001b[1;31m---------------------------------------------------------------------------\u001b[0m",
      "\u001b[1;31mTypeError\u001b[0m                                 Traceback (most recent call last)",
      "Input \u001b[1;32mIn [48]\u001b[0m, in \u001b[0;36m<module>\u001b[1;34m\u001b[0m\n\u001b[0;32m      7\u001b[0m c1 \u001b[38;5;241m=\u001b[39m MyComplex(\u001b[38;5;241m1\u001b[39m, \u001b[38;5;241m2\u001b[39m)\n\u001b[0;32m      8\u001b[0m c2 \u001b[38;5;241m=\u001b[39m MyComplex(\u001b[38;5;241m3\u001b[39m, \u001b[38;5;241m4\u001b[39m)\n\u001b[1;32m---> 10\u001b[0m \u001b[38;5;28mprint\u001b[39m(\u001b[43mc1\u001b[49m\u001b[38;5;241;43m+\u001b[39;49m\u001b[43mc2\u001b[49m)\n",
      "\u001b[1;31mTypeError\u001b[0m: unsupported operand type(s) for +: 'MyComplex' and 'MyComplex'"
     ]
    }
   ],
   "source": [
    "class MyComplex():\n",
    "    \n",
    "    def __init__(self, re, im):\n",
    "        self.re = re\n",
    "        self.im = im\n",
    "\n",
    "c1 = MyComplex(1, 2)\n",
    "c2 = MyComplex(3, 4)\n",
    "\n",
    "print(c1+c2)"
   ]
  },
  {
   "cell_type": "markdown",
   "id": "a6d88008-001a-47a6-8a46-5ed77c8f1a28",
   "metadata": {},
   "source": [
    "```__add__``` doesn't have default implementation for user created object so we need to define it."
   ]
  },
  {
   "cell_type": "code",
   "execution_count": 49,
   "id": "83b2b05b-e78b-46df-ae55-1cc860fd6941",
   "metadata": {},
   "outputs": [
    {
     "name": "stdout",
     "output_type": "stream",
     "text": [
      "(4+6j)\n",
      "(4+6j)\n"
     ]
    }
   ],
   "source": [
    "class MyComplex():\n",
    "    \n",
    "    def __init__(self, re, im):\n",
    "        self.re = re\n",
    "        self.im = im\n",
    "    \n",
    "    def __add__(self, other):\n",
    "        return (self.re + other.re) + (self.im + other.im)*1j\n",
    "        \n",
    "\n",
    "c1 = MyComplex(1, 2)\n",
    "c2 = MyComplex(3, 4)\n",
    "\n",
    "print(c1 + c2)  # notation with operator\n",
    "print(c1.__add__(c2))  # notation with method"
   ]
  },
  {
   "cell_type": "markdown",
   "id": "a172a691-b4ec-41f3-b7e4-5a0471f39e2e",
   "metadata": {},
   "source": [
    "### Magic method ```__len__()```\n",
    "\n",
    "Method ```__len__()``` is called when we use function ```len()``` on object. For example if we use it on list, it tells us number of elements in the ```list``` and if we use it on ```String```, it returns number of chars in the string. We will create our specific implementation. We will have object containing atribute ```list``` of strings. And we want the result of ```len()``` to be sum of chars in all string in the list."
   ]
  },
  {
   "cell_type": "code",
   "execution_count": 50,
   "id": "b0f24c86-9e3b-458e-a15b-9d5fc5bf6095",
   "metadata": {},
   "outputs": [
    {
     "name": "stdout",
     "output_type": "stream",
     "text": [
      "12\n"
     ]
    }
   ],
   "source": [
    "class MyStringList():\n",
    "    \n",
    "    def __init__(self, lst):\n",
    "        self.string_list = lst\n",
    "        \n",
    "    def __len__(self):\n",
    "        char_sum = 0\n",
    "        for elem in self.string_list:\n",
    "            char_sum += len(elem)\n",
    "        return char_sum\n",
    "    \n",
    "\n",
    "lst = ['Hello', ' ', 'world', '!']    \n",
    "my_string_list = MyStringList(lst)\n",
    "print(len(my_string_list))"
   ]
  },
  {
   "cell_type": "markdown",
   "id": "499f92dd-5538-4c3d-aa5c-6c30de434140",
   "metadata": {
    "tags": []
   },
   "source": [
    "## Encapsulation - private, protected and public\n",
    "\n",
    "Because in Python there is nothing really private or protected we use one prefix underscore for internal purpose variables (```_inernalVar```, naming convention)"
   ]
  }
 ],
 "metadata": {
  "kernelspec": {
   "display_name": "Python 3 (ipykernel)",
   "language": "python",
   "name": "python3"
  },
  "language_info": {
   "codemirror_mode": {
    "name": "ipython",
    "version": 3
   },
   "file_extension": ".py",
   "mimetype": "text/x-python",
   "name": "python",
   "nbconvert_exporter": "python",
   "pygments_lexer": "ipython3",
   "version": "3.9.7"
  }
 },
 "nbformat": 4,
 "nbformat_minor": 5
}
