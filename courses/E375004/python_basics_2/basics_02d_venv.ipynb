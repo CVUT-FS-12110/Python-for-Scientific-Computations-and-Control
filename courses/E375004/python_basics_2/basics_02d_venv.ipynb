{
 "cells": [
  {
   "cell_type": "markdown",
   "id": "fed224b3",
   "metadata": {},
   "source": [
    "## Virtual environment - intro ##\n"
   ]
  },
  {
   "cell_type": "markdown",
   "id": "77015c05",
   "metadata": {},
   "source": [
    "First navigate to a folder, where you want to create new virtual environment\n",
    "\n",
    "<img src=\"img/oop_venv_01.png\" alt=\"drawing\" width=\"600\"/>\n",
    "\n",
    "Then type:\n",
    "\n",
    "<code>python -m venv my_venv</code>"
   ]
  },
  {
   "cell_type": "markdown",
   "id": "2479ff40",
   "metadata": {},
   "source": [
    "This command created a new virtual environment with the name \"my_venv\""
   ]
  },
  {
   "cell_type": "markdown",
   "id": "65095e1d",
   "metadata": {},
   "source": [
    "<img src=\"img/oop_venv_02.png\" alt=\"drawing\" width=\"600\"/>"
   ]
  },
  {
   "cell_type": "markdown",
   "id": "83033e4a",
   "metadata": {},
   "source": [
    "### Activate virtual environment"
   ]
  },
  {
   "cell_type": "markdown",
   "id": "eddbfaee",
   "metadata": {},
   "source": [
    "Type:\n",
    "\n",
    "<code>.\\my_venv\\Scripts\\activate</code>\n",
    "\n",
    "<img src=\"img/oop_venv_03.png\" alt=\"drawing\" width=\"600\"/>"
   ]
  },
  {
   "cell_type": "markdown",
   "id": "493ddd0a",
   "metadata": {},
   "source": [
    "### Package installer for Python - pip "
   ]
  },
  {
   "cell_type": "markdown",
   "id": "497c5864",
   "metadata": {},
   "source": [
    "You can manage packages using pip\n",
    "\n",
    "Type this for checkikng installed packages: \n",
    "<code>pip list</code>\n",
    "<img src=\"img/oop_venv_04.png\" alt=\"drawing\" width=\"800\"/>"
   ]
  },
  {
   "cell_type": "markdown",
   "id": "039c95bf",
   "metadata": {},
   "source": [
    "### Install new package"
   ]
  },
  {
   "cell_type": "markdown",
   "id": "39d2d223",
   "metadata": {},
   "source": [
    "We will install package: pytest\n",
    "\n",
    "<code>pip install pytest</code>\n",
    "<img src=\"img/oop_venv_05.png\" alt=\"drawing\" width=\"800\"/>"
   ]
  },
  {
   "cell_type": "markdown",
   "id": "2c58514d",
   "metadata": {},
   "source": [
    "## Save dependecies in requirements.txt file"
   ]
  },
  {
   "cell_type": "markdown",
   "id": "2a826a9f",
   "metadata": {},
   "source": [
    "We will save the installed dependecies:\n",
    "\n",
    "<code> pip freeze > requirements.txt</code>\n",
    "<img src=\"img/oop_venv_06.png\" alt=\"drawing\" width=\"300\"/>"
   ]
  },
  {
   "cell_type": "markdown",
   "id": "f3d4b41e",
   "metadata": {},
   "source": [
    "## Install requirements from file"
   ]
  },
  {
   "cell_type": "markdown",
   "id": "b98a0a31",
   "metadata": {},
   "source": [
    "When we set up new environment on a different computer, we can install dependecies from requirements.txt file:\n",
    "\n",
    "<code> pip install -r requirements.txt</code>"
   ]
  },
  {
   "cell_type": "markdown",
   "id": "983accf3",
   "metadata": {},
   "source": [
    "## Deactivate virtual environment"
   ]
  },
  {
   "cell_type": "markdown",
   "id": "0e99e2eb",
   "metadata": {},
   "source": [
    "For deactivating current virtual environment just type:\n",
    "\n",
    "<code> deactivate</code>"
   ]
  },
  {
   "cell_type": "code",
   "execution_count": null,
   "id": "3f556902",
   "metadata": {},
   "outputs": [],
   "source": []
  }
 ],
 "metadata": {
  "kernelspec": {
   "display_name": "Python 3 (ipykernel)",
   "language": "python",
   "name": "python3"
  },
  "language_info": {
   "codemirror_mode": {
    "name": "ipython",
    "version": 3
   },
   "file_extension": ".py",
   "mimetype": "text/x-python",
   "name": "python",
   "nbconvert_exporter": "python",
   "pygments_lexer": "ipython3",
   "version": "3.8.10"
  }
 },
 "nbformat": 4,
 "nbformat_minor": 5
}
