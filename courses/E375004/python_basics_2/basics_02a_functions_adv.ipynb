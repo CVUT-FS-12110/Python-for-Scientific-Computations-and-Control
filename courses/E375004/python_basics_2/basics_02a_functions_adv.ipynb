{
 "cells": [
  {
   "cell_type": "markdown",
   "id": "95f62c1b-b6dd-405b-b626-5a22d4b4c7b6",
   "metadata": {},
   "source": [
    "# 02 - Python basics - advanced functions\n",
    "\n",
    "In this lecture we will have a look to some advanced stuff regarding functions and after that we will move to classes and object oriented programming.\n",
    "\n",
    "## Functions - number of arguments\n",
    "\n",
    "From last lesson you know that you can define the function with some parameters which you can later pass to it when you call the function. But what happens when you pass different number of arguments then you have defined in the header of function?\n"
   ]
  },
  {
   "cell_type": "code",
   "execution_count": 1,
   "id": "334c5ccb-e6e4-4a0d-a5ba-3db4fbcfbe7a",
   "metadata": {},
   "outputs": [
    {
     "ename": "TypeError",
     "evalue": "foo() missing 1 required positional argument: 'arg2'",
     "output_type": "error",
     "traceback": [
      "\u001b[1;31m---------------------------------------------------------------------------\u001b[0m",
      "\u001b[1;31mTypeError\u001b[0m                                 Traceback (most recent call last)",
      "Input \u001b[1;32mIn [1]\u001b[0m, in \u001b[0;36m<module>\u001b[1;34m\u001b[0m\n\u001b[0;32m      1\u001b[0m \u001b[38;5;28;01mdef\u001b[39;00m \u001b[38;5;21mfoo\u001b[39m(arg1, arg2):\n\u001b[0;32m      2\u001b[0m     \u001b[38;5;28mprint\u001b[39m(arg1 \u001b[38;5;241m+\u001b[39m arg2)\n\u001b[1;32m----> 4\u001b[0m \u001b[43mfoo\u001b[49m\u001b[43m(\u001b[49m\u001b[38;5;241;43m5\u001b[39;49m\u001b[43m)\u001b[49m\n",
      "\u001b[1;31mTypeError\u001b[0m: foo() missing 1 required positional argument: 'arg2'"
     ]
    }
   ],
   "source": [
    "def foo(arg1, arg2):\n",
    "    print(arg1 + arg2)\n",
    "    \n",
    "foo(5)"
   ]
  },
  {
   "cell_type": "code",
   "execution_count": 18,
   "id": "d2cff563-39f8-4ec3-95d8-82969a34ec8f",
   "metadata": {},
   "outputs": [
    {
     "ename": "TypeError",
     "evalue": "foo() takes 2 positional arguments but 3 were given",
     "output_type": "error",
     "traceback": [
      "\u001b[1;31m---------------------------------------------------------------------------\u001b[0m",
      "\u001b[1;31mTypeError\u001b[0m                                 Traceback (most recent call last)",
      "Input \u001b[1;32mIn [18]\u001b[0m, in \u001b[0;36m<module>\u001b[1;34m\u001b[0m\n\u001b[0;32m      1\u001b[0m \u001b[38;5;28;01mdef\u001b[39;00m \u001b[38;5;21mfoo\u001b[39m(arg1, arg2):\n\u001b[0;32m      2\u001b[0m     \u001b[38;5;28mprint\u001b[39m(arg1 \u001b[38;5;241m+\u001b[39m arg2)\n\u001b[1;32m----> 4\u001b[0m \u001b[43mfoo\u001b[49m\u001b[43m(\u001b[49m\u001b[38;5;241;43m5\u001b[39;49m\u001b[43m,\u001b[49m\u001b[43m \u001b[49m\u001b[38;5;241;43m4\u001b[39;49m\u001b[43m,\u001b[49m\u001b[43m \u001b[49m\u001b[38;5;241;43m3\u001b[39;49m\u001b[43m)\u001b[49m\n",
      "\u001b[1;31mTypeError\u001b[0m: foo() takes 2 positional arguments but 3 were given"
     ]
    }
   ],
   "source": [
    "def foo(arg1, arg2):\n",
    "    print(arg1 + arg2)\n",
    "    \n",
    "foo(5, 4, 3)"
   ]
  },
  {
   "cell_type": "markdown",
   "id": "0751b7a0-c0f6-42a2-8129-71191f66b0ea",
   "metadata": {},
   "source": [
    "### Arbitrary arguments\n",
    "\n",
    "As expected, too few or too much arguments will break the function. If you don't know how many arguments will be passed to your function you can use **Arbitrary arguments**, ```*args```. By adding ```*``` before the name of argument you will get a tuple of passed arguments once the function is called. We can demonstrate this with a function which multiplies all incoming numbers."
   ]
  },
  {
   "cell_type": "code",
   "execution_count": 19,
   "id": "e0683fbe-4e76-46d6-8f31-5c38595bda5e",
   "metadata": {},
   "outputs": [
    {
     "name": "stdout",
     "output_type": "stream",
     "text": [
      "6\n",
      "24\n",
      "120\n"
     ]
    }
   ],
   "source": [
    "def foo(*nums):\n",
    "    num_sum = 1\n",
    "    for num in nums:\n",
    "        num_sum *= num\n",
    "    print(num_sum)\n",
    "    \n",
    "foo(1,2,3)\n",
    "foo(1,2,3,4)\n",
    "foo(1,2,3,4,5)"
   ]
  },
  {
   "cell_type": "markdown",
   "id": "b2b14adb-1f1f-4654-9839-4db390971032",
   "metadata": {},
   "source": [
    "You can combine this with other arguments but there are some rules. First you must pass the positional arguments to the function. Othervise ```*args``` wouldn't know where it should end."
   ]
  },
  {
   "cell_type": "code",
   "execution_count": 48,
   "id": "ce5c6755-45be-4aee-9e1f-db5f319eaef6",
   "metadata": {},
   "outputs": [
    {
     "name": "stdout",
     "output_type": "stream",
     "text": [
      "0\n",
      "24\n",
      "48\n"
     ]
    }
   ],
   "source": [
    "def foo_correct(base_val, *nums): # this way we can specificaly define first value\n",
    "    num_sum = base_val\n",
    "    for num in nums:\n",
    "        num_sum *= num\n",
    "    print(num_sum)\n",
    "\n",
    "foo_correct(0, 2, 3, 4)\n",
    "foo_correct(1, 2, 3, 4)\n",
    "foo_correct(2, 2, 3, 4)"
   ]
  },
  {
   "cell_type": "code",
   "execution_count": 28,
   "id": "29f1a4b3-b7bb-46b8-940b-25cec4ac9317",
   "metadata": {},
   "outputs": [
    {
     "ename": "TypeError",
     "evalue": "foo_wrong() missing 1 required keyword-only argument: 'base_val'",
     "output_type": "error",
     "traceback": [
      "\u001b[1;31m---------------------------------------------------------------------------\u001b[0m",
      "\u001b[1;31mTypeError\u001b[0m                                 Traceback (most recent call last)",
      "Input \u001b[1;32mIn [28]\u001b[0m, in \u001b[0;36m<module>\u001b[1;34m\u001b[0m\n\u001b[0;32m      4\u001b[0m         num_sum \u001b[38;5;241m*\u001b[39m\u001b[38;5;241m=\u001b[39m num\n\u001b[0;32m      5\u001b[0m     \u001b[38;5;28mprint\u001b[39m(num_sum)\n\u001b[1;32m----> 7\u001b[0m \u001b[43mfoo_wrong\u001b[49m\u001b[43m(\u001b[49m\u001b[38;5;241;43m0\u001b[39;49m\u001b[43m,\u001b[49m\u001b[43m \u001b[49m\u001b[38;5;241;43m2\u001b[39;49m\u001b[43m,\u001b[49m\u001b[43m \u001b[49m\u001b[38;5;241;43m3\u001b[39;49m\u001b[43m,\u001b[49m\u001b[43m \u001b[49m\u001b[38;5;241;43m4\u001b[39;49m\u001b[43m)\u001b[49m\n\u001b[0;32m      8\u001b[0m foo_wrong(\u001b[38;5;241m1\u001b[39m, \u001b[38;5;241m2\u001b[39m, \u001b[38;5;241m3\u001b[39m, \u001b[38;5;241m4\u001b[39m)\n\u001b[0;32m      9\u001b[0m foo_wrong(\u001b[38;5;241m2\u001b[39m, \u001b[38;5;241m2\u001b[39m, \u001b[38;5;241m3\u001b[39m, \u001b[38;5;241m4\u001b[39m)\n",
      "\u001b[1;31mTypeError\u001b[0m: foo_wrong() missing 1 required keyword-only argument: 'base_val'"
     ]
    }
   ],
   "source": [
    "def foo_wrong(*nums, base_val): # this is wrong because *nums \"eats\" all passed arguments and for the base_val there remains none\n",
    "    num_sum = base_val\n",
    "    for num in nums:\n",
    "        num_sum *= num\n",
    "    print(num_sum)\n",
    "    \n",
    "foo_wrong(0, 2, 3, 4)\n",
    "foo_wrong(1, 2, 3, 4)\n",
    "foo_wrong(2, 2, 3, 4)"
   ]
  },
  {
   "cell_type": "markdown",
   "id": "23b86020-5b99-4c70-bb74-93337d351a8f",
   "metadata": {},
   "source": [
    "### Keyword arguments\n",
    "\n",
    "Solution for the error above is usage of keyword argument. The definition of function will stay the same but in the function call we will specify the value for the argument with operator ```=```."
   ]
  },
  {
   "cell_type": "code",
   "execution_count": 30,
   "id": "0debeacc-5197-4972-8837-28a94be4aefd",
   "metadata": {},
   "outputs": [
    {
     "name": "stdout",
     "output_type": "stream",
     "text": [
      "0\n",
      "24\n",
      "48\n"
     ]
    }
   ],
   "source": [
    "def foo_wrong(*nums, base_val): # this way the *nums \"eats\" arguments only until it finds the keyword argument\n",
    "    num_sum = base_val\n",
    "    for num in nums:\n",
    "        num_sum *= num\n",
    "    print(num_sum)\n",
    "    \n",
    "foo_wrong(0, 2, 3, base_val=4)\n",
    "foo_wrong(1, 2, 3, base_val=4)\n",
    "foo_wrong(2, 2, 3, base_val=4)"
   ]
  },
  {
   "cell_type": "markdown",
   "id": "9ec20cfb-67da-467b-b7c4-04d4961baa02",
   "metadata": {},
   "source": [
    "On top of that when we have more than one keyword argument we can swap their respective order as we wish."
   ]
  },
  {
   "cell_type": "code",
   "execution_count": 36,
   "id": "bc80223a-7da0-45c9-924a-5cd17e7303ea",
   "metadata": {},
   "outputs": [
    {
     "name": "stdout",
     "output_type": "stream",
     "text": [
      "CTU is located in Prague\n",
      "CTU is located in Prague\n",
      "CTU is located in Prague\n",
      "Prague is located in CTU\n"
     ]
    }
   ],
   "source": [
    "def university_location(university_name, university_location):\n",
    "    print(f'{university_name} is located in {university_location}')\n",
    "    \n",
    "university_location(university_name='CTU', university_location='Prague') # these 3 options are equivalent\n",
    "university_location(university_location='Prague', university_name='CTU')\n",
    "university_location('CTU', 'Prague')\n",
    "\n",
    "# while this option is incorrect \n",
    "university_location('Prague', 'CTU') # bacause we swaped the order of positional arguments passed to the function"
   ]
  },
  {
   "cell_type": "markdown",
   "id": "00fd2875-472b-4a23-8b90-528501bc4ef4",
   "metadata": {},
   "source": [
    "### Arbitrary Keyword Arguments\n",
    "\n",
    "Another adition to our pool of arguments are **Arbitrary Keyword Arguments**, ```**kwargs```. Similarly to Arbitrary positional arguments ```**kwargs``` are used for variable number of keyword arguments. ```**kwargs``` works as dictionary of incoming variable-value pairs. We need to use the name of variable as a **key** for ```**kwargs``` dictionary"
   ]
  },
  {
   "cell_type": "code",
   "execution_count": 52,
   "id": "f5b8b40a-7fc7-4553-b857-f102e011539c",
   "metadata": {},
   "outputs": [
    {
     "name": "stdout",
     "output_type": "stream",
     "text": [
      "Capital city of Czech republic is Prague\n"
     ]
    }
   ],
   "source": [
    "def capital_city(**kwargs):\n",
    "    print(f'Capital city of Czech republic is {kwargs[\"city\"]}') # using string of the varible's name \n",
    "                                                    # ^^^^^^ WARNING: you have to use other type of quotes ('' or \"\") if you are putting string value into formatted string\n",
    "    \n",
    "capital_city(greeting='Hello world!', city='Prague', fav_num=7, random_stuff='whatever')"
   ]
  },
  {
   "cell_type": "markdown",
   "id": "0efc2bb2-ee22-4df8-95a9-5433f3c95419",
   "metadata": {},
   "source": [
    "Remeber that you need to pass first the positional arguments (the basic ones), followed by ```*args```, then basic keyword arguments and after that ```**kwargs```. You can also pass in your own dictionary or other containers with variables you want to use inside of the function."
   ]
  },
  {
   "cell_type": "code",
   "execution_count": 51,
   "id": "e666003b-68e1-42d4-9df4-80a9e681ee09",
   "metadata": {},
   "outputs": [
    {
     "name": "stdout",
     "output_type": "stream",
     "text": [
      "Capital city of Czech republic is Prague\n"
     ]
    }
   ],
   "source": [
    "def capital_city(my_args):\n",
    "    print(f'Capital city of Czech republic is {my_args[\"city\"]}')\n",
    "\n",
    "my_args = {\n",
    "    'greeting' : 'Hello world!',\n",
    "    'city' : 'Prague',\n",
    "    'fav_num' : 7,\n",
    "    'random_stuff' : 'whatever'\n",
    "}\n",
    "capital_city(my_args)"
   ]
  },
  {
   "cell_type": "markdown",
   "id": "3f1e95fa-25c3-4644-bf35-dfb652ddcb8c",
   "metadata": {},
   "source": [
    "### Default value\n",
    "\n",
    "Last important thing about arguments which we will mention here **default value**. You can set the default value for a variable which is used if no value for that variable is passed. The assignment ```=``` operator is used for that but this time it is used in the header of function."
   ]
  },
  {
   "cell_type": "code",
   "execution_count": 58,
   "id": "6026eaa4-965f-4f19-b152-0a5d01306260",
   "metadata": {},
   "outputs": [
    {
     "ename": "SyntaxError",
     "evalue": "non-default argument follows default argument (4056747656.py, line 1)",
     "output_type": "error",
     "traceback": [
      "\u001b[1;36m  Input \u001b[1;32mIn [58]\u001b[1;36m\u001b[0m\n\u001b[1;33m    def default_val_demonstration(val=0, val2):\u001b[0m\n\u001b[1;37m                                             ^\u001b[0m\n\u001b[1;31mSyntaxError\u001b[0m\u001b[1;31m:\u001b[0m non-default argument follows default argument\n"
     ]
    }
   ],
   "source": [
    "def default_val_demonstration(val=0):\n",
    "    print(f'The value is: {val}')\n",
    "    \n",
    "default_val_demonstration(1) # it works as a normal argument when we pass a value\n",
    "default_val_demonstration() # but when we dont the default value is used instead"
   ]
  },
  {
   "cell_type": "markdown",
   "id": "2c1cfddd-734e-4550-9a89-97cf484b6319",
   "metadata": {},
   "source": [
    "This behaviour may be used together with other arguments but there is again some restriction on the order of arguments. For demonstration we will use the simple adding function."
   ]
  },
  {
   "cell_type": "code",
   "execution_count": 64,
   "id": "7c402075-9681-43a3-a72c-b7406610adcf",
   "metadata": {},
   "outputs": [
    {
     "name": "stdout",
     "output_type": "stream",
     "text": [
      "7\n"
     ]
    }
   ],
   "source": [
    "def foo(arg1, arg2=2):\n",
    "    print(arg1 + arg2)\n",
    "    \n",
    "foo(5)"
   ]
  },
  {
   "cell_type": "code",
   "execution_count": 65,
   "id": "96f78d76-4297-421e-a5d3-e9a04cf11118",
   "metadata": {},
   "outputs": [
    {
     "ename": "SyntaxError",
     "evalue": "non-default argument follows default argument (876702479.py, line 1)",
     "output_type": "error",
     "traceback": [
      "\u001b[1;36m  Input \u001b[1;32mIn [65]\u001b[1;36m\u001b[0m\n\u001b[1;33m    def foo(arg1=2, arg2):\u001b[0m\n\u001b[1;37m                        ^\u001b[0m\n\u001b[1;31mSyntaxError\u001b[0m\u001b[1;31m:\u001b[0m non-default argument follows default argument\n"
     ]
    }
   ],
   "source": [
    "def foo(arg1=2, arg2):\n",
    "    print(arg1 + arg2)\n",
    "    \n",
    "foo(5)"
   ]
  },
  {
   "cell_type": "markdown",
   "id": "e4f700f0-7c6d-4a97-8023-18487df6d26e",
   "metadata": {},
   "source": [
    "So as the error says, you have to use non-default arguments first. You can also combine the default arguments with other type of arguments mentioned above, but we will skip that here. If you are intrested in it fell free to explore it more deeply on your own."
   ]
  },
  {
   "cell_type": "markdown",
   "id": "0f3a1254-ea65-457c-be23-9fc31d79c284",
   "metadata": {},
   "source": [
    "## Lambda function\n",
    "\n",
    "Lambda function is bringing concept of anonymous function. Instead of defining whole header and body of some function we can write it inline."
   ]
  },
  {
   "cell_type": "code",
   "execution_count": 66,
   "id": "990cdf69-50c7-4315-a7e6-dfd4b7ce504a",
   "metadata": {},
   "outputs": [
    {
     "name": "stdout",
     "output_type": "stream",
     "text": [
      "6\n"
     ]
    }
   ],
   "source": [
    "x = lambda a, b : a * b\n",
    "\n",
    "print(x(2, 3))"
   ]
  },
  {
   "cell_type": "markdown",
   "id": "89539049-cb97-4ba3-89c1-0f711801e5fb",
   "metadata": {},
   "source": [
    "... instead of ..."
   ]
  },
  {
   "cell_type": "code",
   "execution_count": 2,
   "id": "19c4a0c9-a567-417d-aa2d-7c798472c0fd",
   "metadata": {},
   "outputs": [
    {
     "name": "stdout",
     "output_type": "stream",
     "text": [
      "6\n"
     ]
    }
   ],
   "source": [
    "def x(a, b):\n",
    "    return a * b\n",
    "\n",
    "print(x(2, 3))"
   ]
  },
  {
   "cell_type": "markdown",
   "id": "627d7099-5a3b-4d0b-bcfd-25ce86f32a3c",
   "metadata": {},
   "source": [
    "## Generators\n",
    "\n",
    "Python provides a generator to create your own iterator function. It does not return a single value, instead, it returns an iterator object with a sequence of values. In a generator function, a ```yield``` statement is used rather than a ```return``` statement. ```yield``` returns the value the same way as ```return``` but the difference is that if the function is called once again after that it continues from the ```yield``` statement. In other words ```yield``` is something like: \"give me the value and wait here until i come again\""
   ]
  },
  {
   "cell_type": "code",
   "execution_count": 84,
   "id": "59768080-068f-4004-9e5b-d17c15679c7e",
   "metadata": {},
   "outputs": [
    {
     "name": "stdout",
     "output_type": "stream",
     "text": [
      "1\n",
      "2\n",
      "4\n",
      "8\n"
     ]
    }
   ],
   "source": [
    "def generator_foo(max_val):\n",
    "    val = 1\n",
    "    while val < max_val:\n",
    "        yield val # value is yielded (\"returned\") but with next call function continues on the next line\n",
    "        val *= 2 # here <---------------------------------------------------------------------------/\n",
    "        \n",
    "gen = generator_foo(2**8)\n",
    "print(next(gen)) # with next() function we can get next value with each call\n",
    "print(next(gen))\n",
    "print(next(gen))\n",
    "print(next(gen))"
   ]
  },
  {
   "cell_type": "code",
   "execution_count": 83,
   "id": "71e52497-361a-44c6-83af-21c24c92ad9d",
   "metadata": {},
   "outputs": [
    {
     "name": "stdout",
     "output_type": "stream",
     "text": [
      "1\n",
      "2\n",
      "4\n",
      "8\n",
      "16\n",
      "32\n",
      "64\n",
      "128\n",
      "256\n"
     ]
    }
   ],
   "source": [
    "def generator_foo(max_val):\n",
    "    val = 1\n",
    "    while val <= max_val:\n",
    "        yield val\n",
    "        val *= 2\n",
    "        \n",
    "gen = generator_foo(2**8)\n",
    "for val in gen: # iterating the loop over iterator generated by generator :-)\n",
    "    print(val)"
   ]
  },
  {
   "cell_type": "markdown",
   "id": "a8d915d6-80ca-484a-8235-cb3d185a5644",
   "metadata": {},
   "source": [
    "## Fucntion inside function\n",
    "\n",
    "It is possible to define function inside another function. These functions are only defined inside the scope of the parent function so they cant be called from outside. "
   ]
  },
  {
   "cell_type": "code",
   "execution_count": 20,
   "id": "0fd21273-88e6-495a-8489-9d584b1e2329",
   "metadata": {},
   "outputs": [
    {
     "name": "stdout",
     "output_type": "stream",
     "text": [
      "Parent function\n",
      "\n"
     ]
    },
    {
     "ename": "NameError",
     "evalue": "name 'weekday' is not defined",
     "output_type": "error",
     "traceback": [
      "\u001b[1;31m---------------------------------------------------------------------------\u001b[0m",
      "\u001b[1;31mNameError\u001b[0m                                 Traceback (most recent call last)",
      "Input \u001b[1;32mIn [20]\u001b[0m, in \u001b[0;36m<module>\u001b[1;34m\u001b[0m\n\u001b[0;32m     10\u001b[0m foo()\n\u001b[0;32m     11\u001b[0m \u001b[38;5;28mprint\u001b[39m() \u001b[38;5;66;03m# print empty line to separate outputs\u001b[39;00m\n\u001b[1;32m---> 12\u001b[0m \u001b[43mweekday\u001b[49m()\n",
      "\u001b[1;31mNameError\u001b[0m: name 'weekday' is not defined"
     ]
    }
   ],
   "source": [
    "def foo():  \n",
    "    def weekday():\n",
    "        print('It is a weeekday so I go to work')\n",
    "    \n",
    "    def weekend():\n",
    "        print('It is a weeekend so I can go to a trip')\n",
    "    \n",
    "    print('Parent function')\n",
    "    \n",
    "foo() # function only executes it direct commands, not  defined inner function\n",
    "print() # print empty line to separate outputs\n",
    "\n",
    "weekday() # inner function can't be called just like this"
   ]
  },
  {
   "cell_type": "markdown",
   "id": "0ff317f6-3929-4b23-8074-8bd2b14059e3",
   "metadata": {},
   "source": [
    "These inner function are also not called by default. You need to call them inside the body of parent function."
   ]
  },
  {
   "cell_type": "code",
   "execution_count": 17,
   "id": "3e51cb82-e495-460b-b266-de0e53d88123",
   "metadata": {},
   "outputs": [
    {
     "name": "stdout",
     "output_type": "stream",
     "text": [
      "Parent function input: 1\n",
      "It is a weeekday so I go to work\n",
      "\n",
      "Parent function input: 5\n",
      "It is a friday so I go to party after work\n",
      "\n",
      "Parent function input: 7\n",
      "It is a weeekend so I can go to a trip\n"
     ]
    }
   ],
   "source": [
    "def foo(day_of_the_week):  \n",
    "    def weekday():\n",
    "        print('It is a weeekday so I go to work')\n",
    "    \n",
    "    def friday():\n",
    "        print('It is a friday so I go to party after work')\n",
    "    \n",
    "    def weekend():\n",
    "        print('It is a weeekend so I can go to a trip')\n",
    "    \n",
    "    print(f'Parent function input: {day_of_the_week}')\n",
    "    \n",
    "    if day_of_the_week < 5: # according to given parametr we can decide which inner function will be executed\n",
    "        weekday()\n",
    "    elif day_of_the_week == 5:\n",
    "        friday()\n",
    "    else:\n",
    "        weekend()\n",
    "    \n",
    "foo(1)\n",
    "print() \n",
    "foo(5)\n",
    "print() \n",
    "foo(7)"
   ]
  },
  {
   "cell_type": "markdown",
   "id": "4ef82c20-a3cd-4330-b24f-377708392f07",
   "metadata": {},
   "source": [
    "Or you can return the inner function and then call it from outside."
   ]
  },
  {
   "cell_type": "code",
   "execution_count": 21,
   "id": "2b72ad60-c6c2-498c-9128-c080458778c5",
   "metadata": {},
   "outputs": [
    {
     "name": "stdout",
     "output_type": "stream",
     "text": [
      "Parent function input: 1\n",
      "Parent function input: 5\n",
      "Parent function input: 7\n",
      "\n",
      "It is a weeekday so I go to work\n",
      "It is a friday so I go to party after work\n",
      "It is a weeekend so I can go to a trip\n"
     ]
    }
   ],
   "source": [
    "def foo(day_of_the_week):  \n",
    "    def weekday():\n",
    "        print('It is a weeekday so I go to work')\n",
    "    \n",
    "    def friday():\n",
    "        print('It is a friday so I go to party after work')\n",
    "    \n",
    "    def weekend():\n",
    "        print('It is a weeekend so I can go to a trip')\n",
    "    \n",
    "    print(f'Parent function input: {day_of_the_week}')\n",
    "    \n",
    "    if day_of_the_week < 5:  # according to given parametr we can decide which inner function will be returned\n",
    "        return weekday  # we return function without the (), otherwise we would call it and then we would returned the return value of that function\n",
    "    elif day_of_the_week == 5:\n",
    "        return friday\n",
    "    else:\n",
    "        return weekend\n",
    "    \n",
    "monday = foo(1) # now the inner function is assigned to monday variable\n",
    "friday = foo(5)\n",
    "sunday = foo(7)\n",
    "\n",
    "print() \n",
    "\n",
    "# return of the function does not call it, we need to call that variable we assigned function to\n",
    "# so to get result of foo(1) we need to call monday()\n",
    "monday() # with calling of tha monday() we finally get the execution of inner function\n",
    "# and so on\n",
    "friday()\n",
    "sunday()"
   ]
  },
  {
   "cell_type": "markdown",
   "id": "9baa8365-8b15-4f44-9d3c-ebe2de9ac07a",
   "metadata": {},
   "source": [
    "## Decorators\n",
    "\n",
    "With the knowledge of inner functions we can create  decorators (wrapper functions). Decorators are supposed to somehow enhance the bahaviour of the function which will be wrapped inside them. We can create simple decorator and pass some function into that"
   ]
  },
  {
   "cell_type": "code",
   "execution_count": 25,
   "id": "f2e5b42b-cce7-4929-8913-7b959ea700c5",
   "metadata": {},
   "outputs": [
    {
     "name": "stdout",
     "output_type": "stream",
     "text": [
      "I am function which will be decorated\n",
      "\n",
      "Here starts the decorated function: basic_foo\n",
      "I am function which will be decorated\n",
      "Here ends the decorated function: basic_foo\n"
     ]
    }
   ],
   "source": [
    "def decorator_foo(func):  # decorator function with argument for a function\n",
    "    def wrapper_foo(*args, **kwargs): # inner function which will wrap the fucntion passed inside, *args and **kwargs are there to allow us to pass arguments with the function\n",
    "        \"\"\"A wrapper function\"\"\"\n",
    "        # Extend some capabilities of func\n",
    "        print(f'Here starts the decorated function: {func.__name__}') # we define some extended functionality for the wrapped function\n",
    "        func()  # and then we call it\n",
    "        print(f'Here ends the decorated function: {func.__name__}')\n",
    "    return wrapper_foo  # the inner function is returned so we need to put it in some variable\n",
    "\n",
    "\n",
    "def basic_foo():\n",
    "    print('I am function which will be decorated')\n",
    "\n",
    "basic_foo() # calling a function without decorator\n",
    "print()\n",
    "    \n",
    "wrapped_foo = decorator_foo(basic_foo)  # passing our base function inside decorator where it is wrapped and enchanced with new functionality\n",
    "wrapped_foo() # calling the decorated function"
   ]
  },
  {
   "cell_type": "markdown",
   "id": "d6f67426-8eaa-4896-a4b5-4b1e23200a59",
   "metadata": {},
   "source": [
    "With some syntactic sugar we can do the same by puting the name of decorator on top of function header with  ```@``` symbol. See the example"
   ]
  },
  {
   "cell_type": "code",
   "execution_count": 31,
   "id": "8fd52143-530d-439f-b4fe-5c2b8605c445",
   "metadata": {},
   "outputs": [
    {
     "name": "stdout",
     "output_type": "stream",
     "text": [
      "Here starts the decorated function: basic_foo\n",
      "I am function which will be decorated. Passed argument is: 5\n",
      "Here ends the decorated function: basic_foo\n"
     ]
    }
   ],
   "source": [
    "def decorator_foo(func):  # decorator function with argument for a function\n",
    "    def wrapper_foo(*args, **kwargs): # inner function which will wrap the fucntion passed inside, *args and **kwargs are there to allow us to pass arguments with the function\n",
    "        \"\"\"A wrapper function\"\"\"\n",
    "        # Extend some capabilities of func\n",
    "        print(f'Here starts the decorated function: {func.__name__}') # we define some extended functionality for the wrapped function\n",
    "        func(*args, **kwargs)  # and then we call it, also with arguments\n",
    "        print(f'Here ends the decorated function: {func.__name__}')\n",
    "    return wrapper_foo  # the inner function is returned so we need to put it in some variable\n",
    "\n",
    "@decorator_foo  # this statement makes same step as we have done with wrapped_foo = decorator_foo(basic_foo) and allows us to call already decorated function by its name\n",
    "def basic_foo(passed_arg):\n",
    "    print(f'I am function which will be decorated. Passed argument is: {passed_arg}')\n",
    "\n",
    "basic_foo(5)"
   ]
  }
 ],
 "metadata": {
  "kernelspec": {
   "display_name": "Python 3 (ipykernel)",
   "language": "python",
   "name": "python3"
  },
  "language_info": {
   "codemirror_mode": {
    "name": "ipython",
    "version": 3
   },
   "file_extension": ".py",
   "mimetype": "text/x-python",
   "name": "python",
   "nbconvert_exporter": "python",
   "pygments_lexer": "ipython3",
   "version": "3.9.7"
  }
 },
 "nbformat": 4,
 "nbformat_minor": 5
}
