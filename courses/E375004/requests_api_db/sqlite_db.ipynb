{
 "cells": [
  {
   "cell_type": "markdown",
   "id": "e9755e24-d3e1-429f-939f-0416791ec8d5",
   "metadata": {},
   "source": [
    "# SQLite - simple database\n",
    "\n",
    "SQLite is a lightweight, disk-based database that doesn't require a separate server process and allows accessing the database using a nonstandard variant of the SQL query language. It is commonly used in applications where a full-featured SQL database engine is overkill. Python has built-in support for SQLite through the sqlite3 module.\n",
    "\n",
    "### Importing the sqlite3 Module\n",
    "\n",
    "First, you need to import the sqlite3 module, which comes bundled with Python."
   ]
  },
  {
   "cell_type": "code",
   "execution_count": 1,
   "id": "c6fc4c61-e344-4996-b5e3-1b49eb626938",
   "metadata": {
    "tags": []
   },
   "outputs": [],
   "source": [
    "import sqlite3"
   ]
  },
  {
   "cell_type": "markdown",
   "id": "06068548-cf0a-4e42-9c4d-323cd106c530",
   "metadata": {},
   "source": [
    "### Connecting to a Database\n",
    "\n",
    "You can connect to an SQLite database using sqlite3.connect(). If the database file does not exist, it will be created."
   ]
  },
  {
   "cell_type": "code",
   "execution_count": 2,
   "id": "1a1f712b-533e-47c3-85ed-df3dd457b5b2",
   "metadata": {
    "tags": []
   },
   "outputs": [],
   "source": [
    "conn = sqlite3.connect('sqlite_example.db')"
   ]
  },
  {
   "cell_type": "markdown",
   "id": "dbbea8ea-7b17-4193-9ae1-a690b595c4c2",
   "metadata": {},
   "source": [
    "### Creating a Cursor Object\n",
    "\n",
    "A cursor object is used to interact with the database. You can create one using the cursor() method of the connection object."
   ]
  },
  {
   "cell_type": "code",
   "execution_count": 3,
   "id": "e9005e14-140a-4f65-bb89-e7f15b40da9f",
   "metadata": {
    "tags": []
   },
   "outputs": [],
   "source": [
    "c = conn.cursor()"
   ]
  },
  {
   "cell_type": "markdown",
   "id": "46db717e-7227-423b-b8cd-32ee02b6e474",
   "metadata": {},
   "source": [
    "### Creating a Table\n",
    "\n",
    "You can create a table using an SQL CREATE TABLE statement executed via the cursor's execute() method."
   ]
  },
  {
   "cell_type": "code",
   "execution_count": 4,
   "id": "c8ee08c5-11a2-4752-8b53-ada0b9b95328",
   "metadata": {
    "tags": []
   },
   "outputs": [
    {
     "data": {
      "text/plain": [
       "<sqlite3.Cursor at 0x26ebd179c40>"
      ]
     },
     "execution_count": 4,
     "metadata": {},
     "output_type": "execute_result"
    }
   ],
   "source": [
    "c.execute('''\n",
    "          CREATE TABLE IF NOT EXISTS users\n",
    "          (id INTEGER PRIMARY KEY, name TEXT, age INTEGER)\n",
    "          ''')"
   ]
  },
  {
   "cell_type": "markdown",
   "id": "63721f8e-12a3-4a7f-8056-102baa56b86d",
   "metadata": {},
   "source": [
    "### Inserting Data\n",
    "\n",
    "To insert data into a table, you can use the INSERT INTO SQL statement."
   ]
  },
  {
   "cell_type": "code",
   "execution_count": 5,
   "id": "b9f76f49-4442-46fc-9dd8-d21241c2fdcd",
   "metadata": {
    "tags": []
   },
   "outputs": [
    {
     "data": {
      "text/plain": [
       "<sqlite3.Cursor at 0x26ebd179c40>"
      ]
     },
     "execution_count": 5,
     "metadata": {},
     "output_type": "execute_result"
    }
   ],
   "source": [
    "c.execute('''\n",
    "          INSERT INTO users (name, age)\n",
    "          VALUES (?, ?)\n",
    "          ''', ('Alice', 30))"
   ]
  },
  {
   "cell_type": "markdown",
   "id": "6378d8da-428f-49ab-ab47-5ba02c54885d",
   "metadata": {},
   "source": [
    "You can insert multiple rows using executemany()."
   ]
  },
  {
   "cell_type": "code",
   "execution_count": 6,
   "id": "a956b3ea-7180-448d-afca-3137eaf0e8e5",
   "metadata": {
    "tags": []
   },
   "outputs": [
    {
     "data": {
      "text/plain": [
       "<sqlite3.Cursor at 0x26ebd179c40>"
      ]
     },
     "execution_count": 6,
     "metadata": {},
     "output_type": "execute_result"
    }
   ],
   "source": [
    "users = [('Bob', 22), ('Charlie', 25), ('Diana', 27)]\n",
    "c.executemany('''\n",
    "              INSERT INTO users (name, age)\n",
    "              VALUES (?, ?)\n",
    "              ''', users)"
   ]
  },
  {
   "cell_type": "markdown",
   "id": "259ba6e1-d34b-4026-9f60-16351ff3357f",
   "metadata": {},
   "source": [
    "### Querying Data\n",
    "\n",
    "To query data, use the SELECT statement. The fetchall() method retrieves all rows from the result of the query."
   ]
  },
  {
   "cell_type": "code",
   "execution_count": 7,
   "id": "0b943f10-7d12-4333-acfb-4f8384cd1cd8",
   "metadata": {
    "tags": []
   },
   "outputs": [
    {
     "name": "stdout",
     "output_type": "stream",
     "text": [
      "(3, 'Charlie', 25)\n",
      "(4, 'Diana', 27)\n",
      "(7, 'Charlie', 25)\n",
      "(8, 'Diana', 27)\n",
      "(10, 'Bob', 22)\n",
      "(11, 'Charlie', 25)\n",
      "(12, 'Diana', 27)\n",
      "(13, 'Alice', 30)\n",
      "(14, 'Bob', 22)\n",
      "(15, 'Charlie', 25)\n",
      "(16, 'Diana', 27)\n"
     ]
    }
   ],
   "source": [
    "c.execute('SELECT * FROM users')\n",
    "rows = c.fetchall()\n",
    "\n",
    "for row in rows:\n",
    "    print(row)"
   ]
  },
  {
   "cell_type": "markdown",
   "id": "08e9d0af-d38b-4a94-b8dd-0c130aa6017e",
   "metadata": {},
   "source": [
    "You can also use fetchone() to retrieve one row at a time or fetchmany(size) to retrieve a specified number of rows.\n",
    "\n",
    "### Updating Data\n",
    "\n",
    "To update data in a table, use the UPDATE statement."
   ]
  },
  {
   "cell_type": "code",
   "execution_count": 8,
   "id": "8fccbac2-ea1b-4585-be41-7cac37e3d086",
   "metadata": {
    "tags": []
   },
   "outputs": [
    {
     "data": {
      "text/plain": [
       "<sqlite3.Cursor at 0x26ebd179c40>"
      ]
     },
     "execution_count": 8,
     "metadata": {},
     "output_type": "execute_result"
    }
   ],
   "source": [
    "c.execute('''\n",
    "          UPDATE users\n",
    "          SET age = ?\n",
    "          WHERE name = ?\n",
    "          ''', (31, 'Alice'))\n"
   ]
  },
  {
   "cell_type": "markdown",
   "id": "f7b4e3dd-91af-4400-9033-f43df2dd3c20",
   "metadata": {},
   "source": [
    "### Deleting Data\n",
    "\n",
    "To delete data from a table, use the DELETE statement."
   ]
  },
  {
   "cell_type": "code",
   "execution_count": 9,
   "id": "2ea85224-53a3-4a20-ba4e-43bda93165be",
   "metadata": {
    "tags": []
   },
   "outputs": [
    {
     "data": {
      "text/plain": [
       "<sqlite3.Cursor at 0x26ebd179c40>"
      ]
     },
     "execution_count": 9,
     "metadata": {},
     "output_type": "execute_result"
    }
   ],
   "source": [
    "c.execute('''\n",
    "          DELETE FROM users\n",
    "          WHERE name = ?\n",
    "          ''', ('Bob',))"
   ]
  },
  {
   "cell_type": "markdown",
   "id": "b66a43c2-183d-4862-aa70-907024e6a6b2",
   "metadata": {},
   "source": [
    "Check onm the changes"
   ]
  },
  {
   "cell_type": "code",
   "execution_count": 10,
   "id": "bd0bd24c-cea6-495d-a73d-7412b59749c7",
   "metadata": {
    "tags": []
   },
   "outputs": [
    {
     "name": "stdout",
     "output_type": "stream",
     "text": [
      "(3, 'Charlie', 25)\n",
      "(4, 'Diana', 27)\n",
      "(7, 'Charlie', 25)\n",
      "(8, 'Diana', 27)\n",
      "(11, 'Charlie', 25)\n",
      "(12, 'Diana', 27)\n",
      "(13, 'Alice', 31)\n",
      "(15, 'Charlie', 25)\n",
      "(16, 'Diana', 27)\n"
     ]
    }
   ],
   "source": [
    "c.execute('SELECT * FROM users')\n",
    "rows = c.fetchall()\n",
    "\n",
    "for row in rows:\n",
    "    print(row)"
   ]
  },
  {
   "cell_type": "markdown",
   "id": "214b4eba-fc13-44f9-816f-1eb2fcb382a5",
   "metadata": {},
   "source": [
    "### Committing Changes\n",
    "\n",
    "After making changes (inserts, updates, deletes) to the database, you need to commit the transaction using the commit() method."
   ]
  },
  {
   "cell_type": "code",
   "execution_count": 11,
   "id": "6380dd16-2160-4a3b-9f0d-feae2c0c344f",
   "metadata": {
    "tags": []
   },
   "outputs": [],
   "source": [
    "conn.commit()"
   ]
  },
  {
   "cell_type": "markdown",
   "id": "65060423-8e37-4f12-a59b-7d750133a9d0",
   "metadata": {},
   "source": [
    "### Closing the Connection\n",
    "\n",
    "Finally, when you are done with the database, you should close the connection."
   ]
  },
  {
   "cell_type": "code",
   "execution_count": 12,
   "id": "96c5b042-9eae-4ec0-9275-fdcd4dc1a04b",
   "metadata": {
    "tags": []
   },
   "outputs": [],
   "source": [
    "conn.close()"
   ]
  },
  {
   "cell_type": "markdown",
   "id": "9dce67b0-343c-4687-81db-bb5519a3edc0",
   "metadata": {},
   "source": [
    "## Complete example"
   ]
  },
  {
   "cell_type": "code",
   "execution_count": 13,
   "id": "73b4125b-898e-43e3-9fd1-ea93a56d3d71",
   "metadata": {
    "tags": []
   },
   "outputs": [
    {
     "name": "stdout",
     "output_type": "stream",
     "text": [
      "(3, 'Charlie', 25)\n",
      "(4, 'Diana', 27)\n",
      "(7, 'Charlie', 25)\n",
      "(8, 'Diana', 27)\n",
      "(11, 'Charlie', 25)\n",
      "(12, 'Diana', 27)\n",
      "(13, 'Alice', 31)\n",
      "(15, 'Charlie', 25)\n",
      "(16, 'Diana', 27)\n",
      "(17, 'Alice', 30)\n",
      "(18, 'Bob', 22)\n",
      "(19, 'Charlie', 25)\n",
      "(20, 'Diana', 27)\n"
     ]
    }
   ],
   "source": [
    "import sqlite3\n",
    "\n",
    "# Connect to the database (or create it)\n",
    "conn = sqlite3.connect('sqlite_example.db')\n",
    "c = conn.cursor()\n",
    "\n",
    "# Create a table\n",
    "c.execute('''\n",
    "          CREATE TABLE IF NOT EXISTS users\n",
    "          (id INTEGER PRIMARY KEY, name TEXT, age INTEGER)\n",
    "          ''')\n",
    "\n",
    "# Insert some data\n",
    "c.execute('''\n",
    "          INSERT INTO users (name, age)\n",
    "          VALUES (?, ?)\n",
    "          ''', ('Alice', 30))\n",
    "\n",
    "users = [('Bob', 22), ('Charlie', 25), ('Diana', 27)]\n",
    "c.executemany('''\n",
    "              INSERT INTO users (name, age)\n",
    "              VALUES (?, ?)\n",
    "              ''', users)\n",
    "\n",
    "# Query the data\n",
    "c.execute('SELECT * FROM users')\n",
    "rows = c.fetchall()\n",
    "for row in rows:\n",
    "    print(row)\n",
    "\n",
    "# Update data\n",
    "c.execute('''\n",
    "          UPDATE users\n",
    "          SET age = ?\n",
    "          WHERE name = ?\n",
    "          ''', (31, 'Alice'))\n",
    "\n",
    "# Delete data\n",
    "c.execute('''\n",
    "          DELETE FROM users\n",
    "          WHERE name = ?\n",
    "          ''', ('Alice',))\n",
    "\n",
    "# Commit the changes and close the connection\n",
    "conn.commit()\n",
    "conn.close()\n"
   ]
  }
 ],
 "metadata": {
  "kernelspec": {
   "display_name": "Python 3 (ipykernel)",
   "language": "python",
   "name": "python3"
  },
  "language_info": {
   "codemirror_mode": {
    "name": "ipython",
    "version": 3
   },
   "file_extension": ".py",
   "mimetype": "text/x-python",
   "name": "python",
   "nbconvert_exporter": "python",
   "pygments_lexer": "ipython3",
   "version": "3.10.5"
  }
 },
 "nbformat": 4,
 "nbformat_minor": 5
}
