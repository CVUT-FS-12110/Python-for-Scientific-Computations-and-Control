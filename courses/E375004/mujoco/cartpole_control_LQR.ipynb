{
  "nbformat": 4,
  "nbformat_minor": 0,
  "metadata": {
    "colab": {
      "provenance": []
    },
    "kernelspec": {
      "name": "python3",
      "display_name": "Python 3"
    },
    "language_info": {
      "name": "python"
    }
  },
  "cells": [
    {
      "cell_type": "code",
      "execution_count": null,
      "metadata": {
        "id": "JWDi03ttYuBL"
      },
      "outputs": [],
      "source": [
        "!pip install mujoco\n",
        "!pip install -q mediapy\n",
        "\n",
        "%env MUJOCO_GL=egl"
      ]
    },
    {
      "cell_type": "code",
      "source": [
        "import mujoco\n",
        "import mediapy as media\n",
        "import numpy as np\n",
        "\n",
        "from scipy.linalg import solve_discrete_are"
      ],
      "metadata": {
        "id": "XL9IvUuGoNsm"
      },
      "execution_count": 2,
      "outputs": []
    },
    {
      "cell_type": "code",
      "source": [
        "xml = \"\"\"\n",
        "<mujoco>\n",
        "  <worldbody>\n",
        "    <light diffuse=\".5 .5 .5\" pos=\"0 0 3\" dir=\"0 0 -1\"/>\n",
        "    <body>\n",
        "      <joint name=\"prism\" type=\"slide\" axis=\"1 0 0\"/>\n",
        "      <geom type=\"box\" size=\".4 .2 .1\" rgba=\"0 1 0 1\"/>\n",
        "      <body>\n",
        "        <joint type=\"hinge\" axis=\"0 1 0\"/>\n",
        "        <geom type=\"cylinder\" size=\".05\" fromto=\"0 0 0 0 0 1\" rgba=\"0 0 1 1\"/>\n",
        "      </body>\n",
        "    </body>\n",
        "  </worldbody>\n",
        "\n",
        "  <actuator>\n",
        "    <motor joint=\"prism\"/>\n",
        "  </actuator>\n",
        "</mujoco>\n",
        "\"\"\""
      ],
      "metadata": {
        "id": "H101SdheeEGC"
      },
      "execution_count": 3,
      "outputs": []
    },
    {
      "cell_type": "code",
      "source": [
        "# initialization\n",
        "model = mujoco.MjModel.from_xml_string(xml)\n",
        "data = mujoco.MjData(model)\n",
        "\n",
        "## rendering\n",
        "framerate = 30\n",
        "renderer = mujoco.Renderer(model, height=360, width=640)\n",
        "camera = mujoco.MjvCamera()\n",
        "camera.distance = 5\n",
        "\n",
        "# LQR\n",
        "Q = np.eye(4)\n",
        "R = 1e-4 * np.eye(1)\n",
        "\n",
        "A = np.empty((4,4))\n",
        "B = np.empty((4,1))\n",
        "\n",
        "mujoco.mjd_transitionFD(model, data, 1e-6, 1, A, B, None, None)\n",
        "\n",
        "P = solve_discrete_are(A, B, Q, R)\n",
        "K = np.linalg.solve(B.T @ P @ B + R, B.T @ P @ A)\n",
        "\n",
        "# Simulation\n",
        "data.qpos = np.array([1, 0])\n",
        "\n",
        "frames = []\n",
        "while data.time < 10:\n",
        "  x = np.concatenate((data.qpos, data.qvel, data.act))\n",
        "  data.ctrl = - K @ x\n",
        "  data.qfrc_applied = np.random.uniform(-20,20,2)\n",
        "  mujoco.mj_step(model, data)\n",
        "\n",
        "  if len(frames) < data.time * framerate:\n",
        "    renderer.update_scene(data, camera)\n",
        "    pixels = renderer.render()\n",
        "    frames.append(pixels)\n",
        "\n",
        "media.show_video(frames, fps=framerate)"
      ],
      "metadata": {
        "id": "h03LEPwffx1s"
      },
      "execution_count": null,
      "outputs": []
    }
  ]
}