{
  "nbformat": 4,
  "nbformat_minor": 0,
  "metadata": {
    "colab": {
      "provenance": []
    },
    "kernelspec": {
      "name": "python3",
      "display_name": "Python 3"
    },
    "language_info": {
      "name": "python"
    }
  },
  "cells": [
    {
      "cell_type": "code",
      "execution_count": null,
      "metadata": {
        "id": "JWDi03ttYuBL"
      },
      "outputs": [],
      "source": [
        "!pip install mujoco\n",
        "!pip install -q mediapy\n",
        "\n",
        "%env MUJOCO_GL=egl"
      ]
    },
    {
      "cell_type": "code",
      "source": [
        "import mujoco\n",
        "import mediapy as media\n",
        "import numpy as np\n",
        "\n",
        "import cvxpy as cp"
      ],
      "metadata": {
        "id": "XL9IvUuGoNsm"
      },
      "execution_count": null,
      "outputs": []
    },
    {
      "cell_type": "code",
      "source": [
        "xml = \"\"\"\n",
        "<mujoco>\n",
        "  <option timestep=\"0.01\"/>\n",
        "  <worldbody>\n",
        "    <light diffuse=\".5 .5 .5\" pos=\"0 0 3\" dir=\"0 0 -1\"/>\n",
        "    <body>\n",
        "      <joint name=\"prism\" type=\"slide\" axis=\"1 0 0\"/>\n",
        "      <geom type=\"box\" size=\".4 .2 .1\" rgba=\"0 1 0 1\"/>\n",
        "      <body>\n",
        "        <joint type=\"hinge\" axis=\"0 1 0\"/>\n",
        "        <geom type=\"cylinder\" size=\".05\" fromto=\"0 0 0 0 0 1\" rgba=\"0 0 1 1\"/>\n",
        "      </body>\n",
        "    </body>\n",
        "  </worldbody>\n",
        "\n",
        "  <actuator>\n",
        "    <motor joint=\"prism\"/>\n",
        "  </actuator>\n",
        "</mujoco>\n",
        "\"\"\""
      ],
      "metadata": {
        "id": "H101SdheeEGC"
      },
      "execution_count": null,
      "outputs": []
    },
    {
      "cell_type": "code",
      "source": [
        "# initialization\n",
        "model = mujoco.MjModel.from_xml_string(xml)\n",
        "data = mujoco.MjData(model)\n",
        "\n",
        "## rendering\n",
        "framerate = 30\n",
        "renderer = mujoco.Renderer(model, height=360, width=640)\n",
        "camera = mujoco.MjvCamera()\n",
        "camera.distance = 5\n",
        "\n",
        "# MPC\n",
        "nx = model.nq + model.nv + model.na\n",
        "nu = model.nu\n",
        "\n",
        "N = 100\n",
        "Q = 1e2 * np.eye(nx)\n",
        "R = 1e-4 * np.eye(nu)\n",
        "\n",
        "A = np.empty((nx, nx))\n",
        "B = np.empty((nx, nu))\n",
        "\n",
        "mujoco.mjd_transitionFD(model, data, 1e-6, 1, A, B, None, None)\n",
        "\n",
        "x = cp.Variable((nx, N+1))\n",
        "u = cp.Variable((nu, N))\n",
        "\n",
        "x_init = cp.Parameter(nx)\n",
        "\n",
        "state_cost = sum([cp.quad_form(x[:, i], Q) for i in range(N + 1)])\n",
        "input_cost = sum([cp.quad_form(u[:, i], R) for i in range(N)])\n",
        "\n",
        "objective = cp.Minimize(state_cost + input_cost)\n",
        "constraints = [\n",
        "    x[:, 0] == x_init,\n",
        "    x[:, 1:N] == A @ x[:, 0 : N - 1] + B @ u[:, 0 : N - 1],\n",
        "]\n",
        "\n",
        "problem = cp.Problem(objective, constraints)\n",
        "\n",
        "# Simulation\n",
        "data.qpos = np.array([1, np.pi/8])\n",
        "\n",
        "frames = []\n",
        "while data.time < 20:\n",
        "  x = np.concatenate((data.qpos, data.qvel, data.act))\n",
        "  x_init.value = x\n",
        "  problem.solve()\n",
        "  data.ctrl = u.value[:,0]\n",
        "  data.qfrc_applied = np.random.uniform(-20,20,2)\n",
        "  mujoco.mj_step(model, data)\n",
        "\n",
        "  if len(frames) < data.time * framerate:\n",
        "    renderer.update_scene(data, camera)\n",
        "    pixels = renderer.render()\n",
        "    frames.append(pixels)\n",
        "\n",
        "media.show_video(frames, fps=framerate)"
      ],
      "metadata": {
        "id": "h03LEPwffx1s"
      },
      "execution_count": null,
      "outputs": []
    }
  ]
}