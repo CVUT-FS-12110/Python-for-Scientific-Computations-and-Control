{
 "cells": [
  {
   "cell_type": "markdown",
   "id": "b1f65254-9e1f-47fa-a5a6-5b58a21b899a",
   "metadata": {},
   "source": [
    "## What is Poetry?\n",
    "\n",
    "Poetry is a Python package and dependency manager. It allows you to define, install, and manage dependencies for your Python projects in a simple and efficient way.\n",
    "\n",
    "Unlike other Python package managers, such as pip or easy_install, Poetry is designed to be user-friendly and to simplify the process of managing dependencies.\n"
   ]
  },
  {
   "cell_type": "markdown",
   "id": "b3b8afd3-4fcf-42cb-8dcc-4ccf6b9d79be",
   "metadata": {},
   "source": [
    "## Creating a new project\n",
    "\n",
    "To create a new Python project with Poetry, you can use the new command. This will create a new directory with a basic project structure, including a pyproject.toml file.\n",
    "\n",
    "```bash\n",
    "poetry new myproject\n",
    "```\n",
    "\n",
    "The pyproject.toml file is where you define the dependencies for your project.\n"
   ]
  },
  {
   "cell_type": "markdown",
   "id": "b12a1db7-45d8-4d7f-bd1e-c52e87beea41",
   "metadata": {},
   "source": [
    "## Adding dependencies\n",
    "\n",
    "To add a new dependency to your project, use the add command. This will add the dependency to your pyproject.toml file and install the package.\n",
    "\n",
    "```bash\n",
    "poetry add requests\n",
    "```\n",
    "\n",
    "Poetry will automatically resolve any dependencies that are required by the package you're adding, and add them to your pyproject.toml file as well.\n",
    "\n",
    "You can also specify a specific version of the package, or install it from a specific repository or source. For example:\n",
    "\n",
    "```bash\n",
    "poetry add requests==2.26.0\n",
    "poetry add requests --index-url=https://my-private-repo.com\n",
    "```\n"
   ]
  },
  {
   "cell_type": "markdown",
   "id": "afe084d3-bd3c-45a0-ab69-c60d96f3d590",
   "metadata": {},
   "source": [
    "## Installing dependencies\n",
    "\n",
    "To install all of the dependencies for your project, simply run:\n",
    "\n",
    "```bash\n",
    "poetry install\n",
    "```\n",
    "\n",
    "This will install all of the packages listed in your pyproject.toml file, along with their dependencies.\n",
    "\n",
    "Poetry will automatically create a virtual environment for your project and install the packages within that environment. This ensures that your project's dependencies are isolated from your system Python installation and from other projects.\n"
   ]
  },
  {
   "cell_type": "markdown",
   "id": "1a81ef2e-3dbe-4950-8078-a875b3fdffd6",
   "metadata": {},
   "source": [
    "## poetry.lock file\n",
    "\n",
    "The Python Poetry lock file (poetry.lock) lists the exact versions of all the dependencies installed in a project, including sub-dependencies. It ensures that all developers and machines working on a project are using the same dependency versions, avoiding conflicts and ensuring consistency. It is generated and updated by Poetry when you run `poetry install`, `poetry add`, `poetry update` or some other commands and should be committed to version control along with the pyproject.toml file. You can also create or update it directly by command:\n",
    "``` bash\n",
    "poetry lock\n",
    "```\n",
    "to just simply create/update the file or\n",
    "``` bash\n",
    "poetry lock --no-update\n",
    "```\n",
    " to not update any dependencies that are already in the poetry.lock."
   ]
  },
  {
   "cell_type": "markdown",
   "id": "5cd84b4b-cfb2-4519-ae09-7011d783dd0e",
   "metadata": {},
   "source": [
    "## Removing dependencies\n",
    "\n",
    "If you need to remove a dependency from your project, use the remove command:\n",
    "\n",
    "```bash\n",
    "poetry remove requests\n",
    "```\n",
    "\n",
    "This will remove the package from your pyproject.toml file and uninstall it from your virtual environment.\n"
   ]
  },
  {
   "cell_type": "markdown",
   "id": "79e3d0d8-72b8-4854-9dc6-c38c12bf9803",
   "metadata": {},
   "source": [
    "## Updating dependencies\n",
    "\n",
    "To update all of your project's dependencies to their latest versions, run:\n",
    "\n",
    "```bash\n",
    "poetry update\n",
    "```\n",
    "\n",
    "This will update all of the packages listed in your pyproject.toml file to their latest versions.\n"
   ]
  },
  {
   "cell_type": "markdown",
   "id": "478d8333-1fbb-47ce-8c41-70f7358ef9ee",
   "metadata": {},
   "source": [
    "## Inspecting dependencies\n",
    "\n",
    "Following commands might be helpful when inspecting the state of your project.poetry init is a command in the Python Poetry package manager that initializes a new Python project and creates a basic pyproject.toml file.\n",
    "\n",
    "`poetry show --help` is a command in the Python Poetry package manager that displays the available options and subcommands for the show command. It provides a brief description of each subcommand and its options, as well as information on how to use them.\n",
    "\n",
    "`poetry show --tree` is a subcommand of poetry show that displays the dependency tree of the installed packages in a visual format. It shows each package and its dependencies, including their versions and where they were installed from."
   ]
  },
  {
   "cell_type": "markdown",
   "id": "c83960d3-7234-4bef-b45c-497c26228a07",
   "metadata": {},
   "source": [
    "## Adding poetry to existing project\n",
    "\n",
    "`poetry init` is a command in the Python Poetry package manager that initializes a new Python project and creates a basic pyproject.toml file.\n",
    "\n",
    "When you run `poetry init`, it prompts you to enter information about your project, such as its name, version, author, and dependencies. Once you provide this information, it generates a pyproject.toml file that describes your project's metadata and dependencies.\n",
    "\n",
    "Example:\n",
    "\n",
    "```bash\n",
    "$ poetry init\n",
    "This command will guide you through creating your pyproject.toml config.\n",
    "\n",
    "Package name [myproject]:\n",
    "Version [0.1.0]:\n",
    "Description []:\n",
    "Author [John Doe <john@example.com>, n to skip]:\n",
    "License []:\n",
    "Compatible Python versions [^3.9]:\n",
    "Would you like to define your main dependencies interactively? (yes/no) [yes]\n",
    "...\n",
    "```\n",
    "\n",
    "When you run `poetry init`, it will prompt you to enter values for each field in the pyproject.toml file. You can either provide a value for each field or accept the default value by pressing Enter.\n",
    "\n",
    "Once you have provided all the required information, Poetry will create a new pyproject.toml file that describes your project's metadata and dependencies.\n",
    "\n",
    "In summary, poetry init is a command that initializes a new Python project and generates a pyproject.toml file that describes your project's metadata and dependencies."
   ]
  },
  {
   "cell_type": "markdown",
   "id": "82e4aec4-55c0-4094-ad8c-19e8886dc0a8",
   "metadata": {},
   "source": [
    "## Publishing your project publish\n",
    "\n",
    "To build and publish your projects to repositories such as `PyPI` you can use command `poetry build` and `poetry publish`. For that you need to either use the credentials for respective server or its API token.\n",
    "\n",
    "If you would be publishing to `PyPI` with API token setup, you can use the command `poetry publish` without any other specification. You can also preceed this command `poetry version prerelease` or `poetry version patch` to bump versions.\n",
    "\n",
    "### Preparing the token for `PyPI`\n",
    "\n",
    "Once you obtain API token from [PYPI-token](https://pypi.org/manage/account/token/) you have to save it to poetry config:\n",
    "\n",
    "* store token using `poetry config pypi-token.pypi pypi-XXXXXXXX`\n",
    "\n",
    "After that you can run `poetry publish` and everything works automaticaly from there.\n",
    "\n",
    "### Setting up for non default repository\n",
    "\n",
    "In the case of other repository you need to specify few more things but general flow is almost the same. Let's demonstrate this on `TestPyPI`, which is just safe playground before you deploy to production `PyPI`. Steps are as follows:\n",
    "\n",
    "* add repository to poetry config `poetry config repositories.test-pypi https://test.pypi.org/legacy/`\n",
    "* get token from https://test.pypi.org/manage/account/token/\n",
    "* store token using `poetry config pypi-token.test-pypi  pypi-YYYYYYYY`\n",
    "\n",
    "Note: `test-pypi` is the name of the repository\n",
    "\n",
    "After this run command:\n",
    "\n",
    "    poetry publish -r test-pypi\n",
    "    \n",
    "The parameter after `-r` is the name of selected repository\n",
    "\n",
    "\n",
    "**Note:** You can follow up original guides from sources **3** and **4**. They were combined for this part"
   ]
  },
  {
   "cell_type": "markdown",
   "id": "112e99ec-7d8e-4f94-8b71-421647473c1d",
   "metadata": {},
   "source": [
    "## Conclusion\n",
    "\n",
    "Poetry is a powerful tool for managing dependencies in your Python projects. It simplifies the process of adding, removing, and updating dependencies, and ensures that your project is using the correct versions of each package. By using Poetry, you can save time and reduce the risk of conflicts and errors caused by dependency mismatches.\n",
    "\n",
    "Aditional sources:\n",
    "1. [Poetry docs](https://python-poetry.org/docs/cli/)\n",
    "1. [Dependency Management With Python Poetry - Real Python](https://realpython.com/dependency-management-python-poetry/)\n",
    "1. [How To Publish Python Packages to PyPI using Poetry on Ubuntu 22.04](https://www.digitalocean.com/community/tutorials/how-to-publish-python-packages-to-pypi-using-poetry-on-ubuntu-22-04)\n",
    "1. [Stack Overflow](https://stackoverflow.com/a/72524326)"
   ]
  }
 ],
 "metadata": {
  "kernelspec": {
   "display_name": "Python 3 (ipykernel)",
   "language": "python",
   "name": "python3"
  },
  "language_info": {
   "codemirror_mode": {
    "name": "ipython",
    "version": 3
   },
   "file_extension": ".py",
   "mimetype": "text/x-python",
   "name": "python",
   "nbconvert_exporter": "python",
   "pygments_lexer": "ipython3",
   "version": "3.10.5"
  }
 },
 "nbformat": 4,
 "nbformat_minor": 5
}
