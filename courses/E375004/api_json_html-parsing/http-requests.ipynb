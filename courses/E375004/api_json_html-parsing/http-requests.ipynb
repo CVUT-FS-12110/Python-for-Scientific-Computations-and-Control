{
 "cells": [
  {
   "cell_type": "markdown",
   "metadata": {},
   "source": [
    "# HTTP requests\n",
    "In this tutorial it is covered how to make requests via HTTP protocol. \n",
    "For more informations about related stuff see:\n",
    "* <a href=\"https://en.wikipedia.org/wiki/Hypertext_Transfer_Protocol\">Hypertext Transfer Protocol (HTTP)</a>\n",
    "* <a href=\"https://en.wikipedia.org/wiki/JSON\">JavaScript Object Notation</a>\n",
    "* <a href=\"https://en.wikipedia.org/wiki/HTML\">HyperText Markup Language (HTML)</a>\n",
    "\n",
    "Keep in mind, that in this tutorial we work only with a static content. How to obtain web dynamic content is not covered in this tutorial. If you want to deal with dynamic content, study <a href=\"http://selenium-python.readthedocs.io/\">Selenium Python Bindings</a>.\n",
    "\n",
    "## Get HTML page content\n",
    "In this section there are examples how to get HTTP response with two different libraries:\n",
    "* <a href=\"https://docs.python.org/3.4/library/urllib.html?highlight=urllib\">urllib</a> (standard library in Python 3)\n",
    "* <a href=\"http://docs.python-requests.org/en/master/\">Requests</a> (instalable through pip)\n",
    "\n",
    "In this tutorial is used the Requests library as a prefered option.\n",
    "\n",
    "### Urlib2 library\n",
    "Example how to get static content of web page with Urlib2 follows:"
   ]
  },
  {
   "cell_type": "code",
   "execution_count": 1,
   "metadata": {},
   "outputs": [
    {
     "name": "stdout",
     "output_type": "stream",
     "text": [
      "Status code: 200\n"
     ]
    }
   ],
   "source": [
    "from urllib.request import urlopen\n",
    "\n",
    "r = urlopen('https://www.python.org')\n",
    "data = r.read()\n",
    "\n",
    "print(\"Status code:\", r.getcode())"
   ]
  },
  {
   "cell_type": "markdown",
   "metadata": {},
   "source": [
    "The variable `data` contains returned HTML code (full page) as string. You can process it, save it, or do anything else you need.\n",
    "\n",
    "### Requests\n",
    "Example how to get static content of web page with Requests follows."
   ]
  },
  {
   "cell_type": "code",
   "execution_count": 2,
   "metadata": {},
   "outputs": [
    {
     "name": "stdout",
     "output_type": "stream",
     "text": [
      "Status code: 200\n"
     ]
    }
   ],
   "source": [
    "import requests\n",
    "\n",
    "r = requests.get(\"http://www.python.org/\")\n",
    "data = r.text\n",
    "\n",
    "print(\"Status code:\", r.status_code)"
   ]
  },
  {
   "cell_type": "markdown",
   "metadata": {},
   "source": [
    "## Get JSON data from an API\n",
    "This task is demonstrated on Open Notify - an open source project that provides a simple programming interface for some of NASA’s awesome data.\n",
    "\n",
    "The examples bellow cover how to obtain current possition of ISS. With Requests library it is possible to get the JSON from the API in the same way as HTML data."
   ]
  },
  {
   "cell_type": "code",
   "execution_count": 3,
   "metadata": {},
   "outputs": [
    {
     "data": {
      "text/plain": [
       "{'message': 'success',\n",
       " 'timestamp': 1665990183,\n",
       " 'iss_position': {'longitude': '-36.9248', 'latitude': '3.7565'}}"
      ]
     },
     "execution_count": 3,
     "metadata": {},
     "output_type": "execute_result"
    }
   ],
   "source": [
    "import requests\n",
    "\n",
    "r = requests.get(\"http://api.open-notify.org/iss-now.json\")\n",
    "obj = r.json()\n",
    "\n",
    "obj"
   ]
  },
  {
   "cell_type": "markdown",
   "metadata": {},
   "source": [
    "The Requests function `json()` convert the json response to Python dictionary. In next code block is demonstrated how to get data from obtained response.\n",
    "\n",
    "## Persistent session with Requests\n",
    "Session with Requests are handy for cases where you need to use same cookies (session cookies for example) or authentication for multiple requests."
   ]
  },
  {
   "cell_type": "code",
   "execution_count": 4,
   "metadata": {},
   "outputs": [
    {
     "name": "stdout",
     "output_type": "stream",
     "text": [
      "No cookies on start: \n",
      "{}\n",
      "\n",
      "A cookie from google: \n",
      "{'AEC': 'AakniGOK9g2vmWRndIlEIuYyh2uMn-pKpm8-JKP2351MVW27HmEKqpCfxEs'}\n",
      "\n",
      "The cookie is persistent:\n",
      "{'AEC': 'AakniGO1q_DugljoIIvZ2T44mWB9-OoIsbcQg-S9I4jKjqUsuQw3S_2HKgU'}\n"
     ]
    }
   ],
   "source": [
    "s = requests.Session()\n",
    "print(\"No cookies on start: \")\n",
    "print(dict(s.cookies))\n",
    "r = s.get('http://google.cz/')\n",
    "print(\"\\nA cookie from google: \")\n",
    "print(dict(s.cookies))\n",
    "r = s.get('http://google.cz/?q=cat')\n",
    "print(\"\\nThe cookie is persistent:\")\n",
    "print(dict(s.cookies))"
   ]
  },
  {
   "cell_type": "markdown",
   "metadata": {},
   "source": [
    "Compare the output of the code above, with the example bellow."
   ]
  },
  {
   "cell_type": "code",
   "execution_count": 5,
   "metadata": {},
   "outputs": [
    {
     "name": "stdout",
     "output_type": "stream",
     "text": [
      "\n",
      "A cookie from google: \n",
      "{'AEC': 'AakniGOeqOdRdTeVYeL8kAlgRGcICj76hHcY5WibZVgPxNsY9J4EtRVu0tc'}\n",
      "\n",
      "Different cookie:\n",
      "{'AEC': 'AakniGNO3iNUXKnIMMBGNOxFy4htU9mgIkf365lJNd6XAaYv6LZLZRRe3Q'}\n"
     ]
    }
   ],
   "source": [
    "r = requests.get('http://google.cz/')\n",
    "print(\"\\nA cookie from google: \")\n",
    "print(dict(r.cookies))\n",
    "r = requests.get('http://google.cz/?q=cat')\n",
    "print(\"\\nDifferent cookie:\")\n",
    "print(dict(r.cookies))"
   ]
  },
  {
   "cell_type": "markdown",
   "metadata": {},
   "source": [
    "## Custom headers\n",
    "Headers of the response are easy to check, example follows."
   ]
  },
  {
   "cell_type": "code",
   "execution_count": 6,
   "metadata": {},
   "outputs": [
    {
     "name": "stdout",
     "output_type": "stream",
     "text": [
      "{'Connection': 'keep-alive', 'Content-Length': '51141', 'Server': 'nginx', 'Content-Type': 'text/html; charset=utf-8', 'X-Frame-Options': 'DENY', 'Via': '1.1 vegur, 1.1 varnish, 1.1 varnish', 'Accept-Ranges': 'bytes', 'Date': 'Mon, 17 Oct 2022 07:03:04 GMT', 'Age': '2020', 'X-Served-By': 'cache-iad-kiad7000025-IAD, cache-vie6343-VIE', 'X-Cache': 'HIT, HIT', 'X-Cache-Hits': '448, 5', 'X-Timer': 'S1665990184.259434,VS0,VE0', 'Vary': 'Cookie', 'Strict-Transport-Security': 'max-age=63072000; includeSubDomains'}\n"
     ]
    }
   ],
   "source": [
    "r = requests.get(\"http://www.python.org/\")\n",
    "print(r.headers)"
   ]
  },
  {
   "cell_type": "markdown",
   "metadata": {},
   "source": [
    "The request headers can be modified in simple way as follows."
   ]
  },
  {
   "cell_type": "code",
   "execution_count": 7,
   "metadata": {},
   "outputs": [
    {
     "name": "stdout",
     "output_type": "stream",
     "text": [
      "200\n"
     ]
    }
   ],
   "source": [
    "headers = {\n",
    "    \"Accept\": \"text/plain\",\n",
    "}\n",
    "\n",
    "r = requests.get(\"http://www.python.org/\", headers=headers)\n",
    "print(r.status_code)"
   ]
  },
  {
   "cell_type": "markdown",
   "metadata": {},
   "source": [
    "More information about HTTP headers can be found at <a href=\"https://en.wikipedia.org/wiki/List_of_HTTP_header_fields\">List of HTTP header fields wikipedia page</a>."
   ]
  },
  {
   "cell_type": "markdown",
   "metadata": {},
   "source": [
    "## Cutom parameters\n",
    "\n",
    "The following example shows how make a request with custom parameters. For API documentation see: https://documenter.getpostman.com/view/11410028/TVCY5BQc"
   ]
  },
  {
   "cell_type": "code",
   "execution_count": 8,
   "metadata": {},
   "outputs": [
    {
     "data": {
      "text/plain": [
       "{'candles': [{'close': 0.066111,\n",
       "   'high': 0.06686,\n",
       "   'low': 0.062024,\n",
       "   'open': 0.062873,\n",
       "   'timestamp': 1634169600000.0,\n",
       "   'volume': 159665.5505},\n",
       "  {'close': 0.062732,\n",
       "   'high': 0.0662,\n",
       "   'low': 0.061943,\n",
       "   'open': 0.066112,\n",
       "   'timestamp': 1634256000000.0,\n",
       "   'volume': 155629.485},\n",
       "  {'close': 0.062912,\n",
       "   'high': 0.064524,\n",
       "   'low': 0.061925,\n",
       "   'open': 0.062727,\n",
       "   'timestamp': 1634342400000.0,\n",
       "   'volume': 109260.5606},\n",
       "  {'close': 0.062526,\n",
       "   'high': 0.06443,\n",
       "   'low': 0.061768,\n",
       "   'open': 0.062913,\n",
       "   'timestamp': 1634428800000.0,\n",
       "   'volume': 95679.664},\n",
       "  {'close': 0.060391,\n",
       "   'high': 0.062708,\n",
       "   'low': 0.0602,\n",
       "   'open': 0.062529,\n",
       "   'timestamp': 1634515200000.0,\n",
       "   'volume': 101631.5215}],\n",
       " 'last_update': 1659698302}"
      ]
     },
     "execution_count": 8,
     "metadata": {},
     "output_type": "execute_result"
    }
   ],
   "source": [
    "url = \"https://cryptocandledata.com/api/candles\"\n",
    "\n",
    "PAIR = \"ETHBTC\"\n",
    "\n",
    "payload = {\n",
    "    \"exchange\": \"binance\",\n",
    "    \"tradingPair\": PAIR,\n",
    "    \"interval\": \"1d\",\n",
    "    \"startDateTime\": 1634151628,\n",
    "    \"endDateTime\": 1634555628\n",
    "}\n",
    "\n",
    "r = requests.get(url, params=payload)\n",
    "r.json()"
   ]
  },
  {
   "cell_type": "code",
   "execution_count": null,
   "metadata": {},
   "outputs": [],
   "source": []
  }
 ],
 "metadata": {
  "kernelspec": {
   "display_name": "Python 3",
   "language": "python",
   "name": "python3"
  },
  "language_info": {
   "codemirror_mode": {
    "name": "ipython",
    "version": 3
   },
   "file_extension": ".py",
   "mimetype": "text/x-python",
   "name": "python",
   "nbconvert_exporter": "python",
   "pygments_lexer": "ipython3",
   "version": "3.9.13"
  }
 },
 "nbformat": 4,
 "nbformat_minor": 2
}
