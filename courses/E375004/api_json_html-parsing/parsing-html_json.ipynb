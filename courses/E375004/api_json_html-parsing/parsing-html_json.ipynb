{
 "cells": [
  {
   "cell_type": "markdown",
   "metadata": {},
   "source": [
    "# JSON and HTML Processing\n",
    "In this tutorial it is covered basic operations with HTML and JSON.\n",
    "\n",
    "For more informations about related stuff see:\n",
    "* <a href=\"https://en.wikipedia.org/wiki/JSON\">JavaScript Object Notation</a>\n",
    "* <a href=\"https://en.wikipedia.org/wiki/HTML\">HyperText Markup Language (HTML)</a>"
   ]
  },
  {
   "cell_type": "markdown",
   "metadata": {},
   "source": [
    "## HTML (XML) parsing\n",
    "There are to main approaches how to parse data\n",
    "\n",
    "* SAX (Simple API for XML) - it scan elements on the fly. This approach does not store anything in memory.\n",
    "\n",
    "* DOM (Document Object Model) - it creates model of all elements in memory. Allows higher functions.\n",
    "\n",
    "\n",
    "### HTML parsing with Python HTMLParser class\n",
    "In this section is introduced <a href=\"https://docs.python.org/2/library/htmlparser.html\">HTMLParser</a>. This is a SAX parser. In next examples is used following sample HTML content:"
   ]
  },
  {
   "cell_type": "code",
   "execution_count": 1,
   "metadata": {},
   "outputs": [],
   "source": [
    "sample_html =  \"\"\"\n",
    "<html>\n",
    "    <head>\n",
    "        <title>Test</title>\n",
    "    </head>\n",
    "    <body>\n",
    "        <h1>Heading!</h1>\n",
    "        <p class=\"major_content\">Some content.</p>\n",
    "        <p class=\"minor_content\">Some other content.</p>\n",
    "    </body>\n",
    "</html>\n",
    "\"\"\""
   ]
  },
  {
   "cell_type": "markdown",
   "metadata": {},
   "source": [
    "Simle example of usage follows. Following parser print out encountered tags and data."
   ]
  },
  {
   "cell_type": "code",
   "execution_count": 2,
   "metadata": {},
   "outputs": [
    {
     "name": "stdout",
     "output_type": "stream",
     "text": [
      "Tag data: \n",
      "\n",
      "Tag start: html\n",
      "Tag data: \n",
      "    \n",
      "Tag start: head\n",
      "Tag data: \n",
      "        \n",
      "Tag start: title\n",
      "Tag data: Test\n",
      "Tag end: title\n",
      "Tag data: \n",
      "    \n",
      "Tag end: head\n",
      "Tag data: \n",
      "    \n",
      "Tag start: body\n",
      "Tag data: \n",
      "        \n",
      "Tag start: h1\n",
      "Tag data: Heading!\n",
      "Tag end: h1\n",
      "Tag data: \n",
      "        \n",
      "Tag start: p\n",
      "Tag data: Some content.\n",
      "Tag end: p\n",
      "Tag data: \n",
      "        \n",
      "Tag start: p\n",
      "Tag data: Some other content.\n",
      "Tag end: p\n",
      "Tag data: \n",
      "    \n",
      "Tag end: body\n",
      "Tag data: \n",
      "\n",
      "Tag end: html\n",
      "Tag data: \n",
      "\n"
     ]
    }
   ],
   "source": [
    "# from HTMLParser import HTMLParser # Python 2.7\n",
    "from html.parser import HTMLParser\n",
    "\n",
    "class TestHTMLParser(HTMLParser):\n",
    "    \n",
    "    def handle_starttag(self, tag, attrs):\n",
    "        print(\"Tag start:\", tag)\n",
    "\n",
    "    def handle_endtag(self, tag):\n",
    "        print(\"Tag end:\", tag)\n",
    "\n",
    "    def handle_data(self, data):\n",
    "        print(\"Tag data:\", data)\n",
    "    \n",
    "# instantiate the parser and fed in some HTML\n",
    "parser = TestHTMLParser()\n",
    "parser.feed(sample_html)"
   ]
  },
  {
   "cell_type": "markdown",
   "metadata": {},
   "source": [
    "The goal of this second parser is to get content from paragraph with class: `major_content`."
   ]
  },
  {
   "cell_type": "code",
   "execution_count": 3,
   "metadata": {},
   "outputs": [
    {
     "name": "stdout",
     "output_type": "stream",
     "text": [
      "Some content.\n"
     ]
    }
   ],
   "source": [
    "class Test2HTMLParser(HTMLParser):\n",
    "\n",
    "    def __init__(self):\n",
    "        HTMLParser.__init__(self, convert_charrefs=True)\n",
    "        self.recording = False\n",
    "    \n",
    "    def handle_starttag(self, tag, attrs):\n",
    "        if tag == \"p\" and \"major_content\" in dict(attrs).values():\n",
    "            self.recording = True\n",
    "\n",
    "    def handle_endtag(self, tag):\n",
    "        self.recording = False\n",
    "\n",
    "    def handle_data(self, data):\n",
    "        if self.recording:\n",
    "            print(data)\n",
    "\n",
    "# instantiate the parser and fed in some HTML\n",
    "parser2 = Test2HTMLParser()\n",
    "parser2.feed(sample_html)"
   ]
  },
  {
   "cell_type": "markdown",
   "metadata": {},
   "source": [
    "### Examples with the ElementTree XML API\n",
    "\n",
    "See <a href=\"https://docs.python.org/2/library/xml.etree.elementtree.html\">ElementTree XML API</a> for more information. This library is designed for XML parsing, but it si possible to use it also for HTML parsing with various levels of success. This parser is DOM parser. Simple example that iterates over HTML tree (only first and second level) follows:"
   ]
  },
  {
   "cell_type": "code",
   "execution_count": 4,
   "metadata": {},
   "outputs": [
    {
     "name": "stdout",
     "output_type": "stream",
     "text": [
      "head\n",
      "\t title - Test\n",
      "body\n",
      "\t h1 - Heading!\n",
      "\t p - Some content.\n",
      "\t p - Some other content.\n"
     ]
    }
   ],
   "source": [
    "import xml.etree.ElementTree as ET\n",
    "\n",
    "tree = ET.fromstring(sample_html)\n",
    "\n",
    "for child1 in tree:\n",
    "    print(child1.tag)\n",
    "    for child2 in child1:\n",
    "        print(\"\\t\", child2.tag, \"-\", child2.text)"
   ]
  },
  {
   "cell_type": "markdown",
   "metadata": {},
   "source": [
    "Second example prints just content of paragraph with `major_content` class:"
   ]
  },
  {
   "cell_type": "code",
   "execution_count": 5,
   "metadata": {},
   "outputs": [
    {
     "data": {
      "text/plain": [
       "'Some content.'"
      ]
     },
     "execution_count": 5,
     "metadata": {},
     "output_type": "execute_result"
    }
   ],
   "source": [
    "import xml.etree.ElementTree as ET\n",
    "\n",
    "tree = ET.fromstring(sample_html)\n",
    "        \n",
    "tree.findall(\"./body/p[@class='major_content']\")[0].text"
   ]
  },
  {
   "cell_type": "markdown",
   "metadata": {},
   "source": [
    "### Examples with BeautifulSoup library\n",
    "The <a href=\"https://www.crummy.com/software/BeautifulSoup/\">BeautifulSoup</a> is library dedicated to simplify scraping information from HTML pages. It is an DOM parser. Sample data follows:"
   ]
  },
  {
   "cell_type": "code",
   "execution_count": 6,
   "metadata": {},
   "outputs": [],
   "source": [
    "SAMPLE_HTML = \"\"\"<html>\n",
    "    <head>\n",
    "        <title>Example webpage!</title>\n",
    "    </head>\n",
    "    <body>\n",
    "        <table id=\"main_table\">\n",
    "            <tr>\n",
    "                <th>Firstname</th>\n",
    "                <th>Lastname</th>\n",
    "                <th>Age</th>\n",
    "            </tr>\n",
    "            <tr>\n",
    "                <td class=\"first_name\">Alice</td>\n",
    "                <td class=\"last_name\">Smith</td>\n",
    "                <td class=\"age\">31</td>\n",
    "            </tr>\n",
    "            <tr>\n",
    "                <td class=\"first_name\">Bob</td>\n",
    "                <td class=\"last_name\">Stone</td>\n",
    "                <td class=\"age\">38</td>\n",
    "            </tr>\n",
    "            <tr>\n",
    "                <td class=\"first_name\">Narcissus</td>\n",
    "                <td class=\"last_name\">Hyacinth</td>\n",
    "                <td class=\"age\">34</td>\n",
    "            </tr>\n",
    "            <tr>\n",
    "                <td class=\"first_name\">Adelmar</td>\n",
    "                <td class=\"last_name\">Egino</td>\n",
    "                <td class=\"age\">50</td>\n",
    "            </tr>\n",
    "        </table> \n",
    "    </body>\n",
    "</html>\"\"\""
   ]
  },
  {
   "cell_type": "code",
   "execution_count": 7,
   "metadata": {},
   "outputs": [
    {
     "name": "stdout",
     "output_type": "stream",
     "text": [
      "Example webpage! \n",
      "\n",
      "Alice Smith is 31 years old.\n",
      "Bob Stone is 38 years old.\n",
      "Narcissus Hyacinth is 34 years old.\n",
      "Adelmar Egino is 50 years old.\n"
     ]
    }
   ],
   "source": [
    "from bs4 import BeautifulSoup\n",
    "\n",
    "# template for printing the output\n",
    "sentence = \"{} {} is {} years old.\"\n",
    "\n",
    "# create tree\n",
    "soup = BeautifulSoup(SAMPLE_HTML, \"html.parser\")\n",
    "\n",
    "# get title and print it\n",
    "title = soup.find(\"title\")\n",
    "print(title.text, \"\\n\")\n",
    "\n",
    "# select all rows in table\n",
    "table = soup.find(\"table\",  {\"id\": \"main_table\"})\n",
    "table_rows = table.findAll(\"tr\")  \n",
    "\n",
    "# iterate over table and print results\n",
    "for row in table_rows:\n",
    "    first_name = row.find(\"td\", {\"class\": \"first_name\"})\n",
    "    last_name = row.find(\"td\", {\"class\": \"last_name\"})\n",
    "    age = row.find(\"td\", {\"class\": \"age\"})\n",
    "    if first_name and last_name and age:\n",
    "        print(sentence.format(first_name.text, last_name.text, age.text))"
   ]
  },
  {
   "cell_type": "markdown",
   "metadata": {},
   "source": [
    "Attributes of the elements are accessible as simple as follows:"
   ]
  },
  {
   "cell_type": "code",
   "execution_count": 8,
   "metadata": {},
   "outputs": [
    {
     "name": "stdout",
     "output_type": "stream",
     "text": [
      "{'id': 'main_table'}\n"
     ]
    }
   ],
   "source": [
    "print(table.attrs)"
   ]
  },
  {
   "cell_type": "markdown",
   "metadata": {},
   "source": [
    "### Getting specific string from HTML (or other text)\n",
    "In some cases can be benefical to get the particular information from source without parsing. In next examples is used following source."
   ]
  },
  {
   "cell_type": "code",
   "execution_count": 9,
   "metadata": {},
   "outputs": [],
   "source": [
    "sample_html =  \"\"\"\n",
    "<html>\n",
    "    <head>\n",
    "        <title>Test</title>\n",
    "    </head>\n",
    "    <body>\n",
    "        <h1>Heading!</h1>\n",
    "        <p class=\"major_content\">Some content. And even more content.</p>\n",
    "        <p class=\"minor_content\">\n",
    "            Some other content.\n",
    "            Numbers related content.\n",
    "            The important information is, that the key number is 23.\n",
    "        </p>\n",
    "    </body>\n",
    "</html>\n",
    "\"\"\""
   ]
  },
  {
   "cell_type": "markdown",
   "metadata": {},
   "source": [
    "If you need just the <i>key number</i> value from the text. And it is sure that:\n",
    "\n",
    "* information appers only once in the text\n",
    "    \n",
    "* information will not change the form (words, word order ...)\n",
    "\n",
    "You can use following approach."
   ]
  },
  {
   "cell_type": "code",
   "execution_count": 10,
   "metadata": {},
   "outputs": [
    {
     "name": "stdout",
     "output_type": "stream",
     "text": [
      " 23\n"
     ]
    }
   ],
   "source": [
    "# unclean way\n",
    "target_start = sample_html.find(\"the key number is \") + len(\"the key number is\")\n",
    "target_end = sample_html[target_start:].find(\".\") + target_start\n",
    "print(sample_html[target_start:target_end])"
   ]
  },
  {
   "cell_type": "markdown",
   "metadata": {},
   "source": [
    "Or you can do the same thing, but more correctly with <a href= https://docs.python.org/2/library/re.html>Regex</a>."
   ]
  },
  {
   "cell_type": "code",
   "execution_count": 11,
   "metadata": {},
   "outputs": [
    {
     "name": "stdout",
     "output_type": "stream",
     "text": [
      "23\n"
     ]
    }
   ],
   "source": [
    "# much beter way (with regex)\n",
    "import re\n",
    "print(re.search('the key number is (.*).', sample_html).group(1))"
   ]
  },
  {
   "cell_type": "markdown",
   "metadata": {},
   "source": [
    "## Work with JSON\n",
    "In next piece of code is shown how to create JSON encoded message in Python with <a href=\"https://docs.python.org/2/library/json.html\">JSON library</a>.\n",
    "\n",
    "### Simple example"
   ]
  },
  {
   "cell_type": "code",
   "execution_count": 12,
   "metadata": {},
   "outputs": [
    {
     "name": "stdout",
     "output_type": "stream",
     "text": [
      "<class 'str'>\n",
      "[{\"time\": 123, \"value\": 5}, {\"time\": 124, \"value\": 6}, {\"status\": \"ok\", \"finish\": [true, false, false]}]\n"
     ]
    }
   ],
   "source": [
    "import json\n",
    "\n",
    "# sample data\n",
    "message = [\n",
    "    {\"time\": 123, \"value\": 5},\n",
    "    {\"time\": 124, \"value\": 6},\n",
    "    {\"status\": \"ok\", \"finish\": [True, False, False]}, \n",
    "]\n",
    "\n",
    "# pack message as json\n",
    "js_message = json.dumps(message)\n",
    "\n",
    "# show result\n",
    "print(type(js_message))\n",
    "print(js_message)"
   ]
  },
  {
   "cell_type": "markdown",
   "metadata": {},
   "source": [
    "Note, that the output is string. In similar way you can unpack the message back to Python standard list/dictionary. Example follows."
   ]
  },
  {
   "cell_type": "code",
   "execution_count": 13,
   "metadata": {},
   "outputs": [
    {
     "name": "stdout",
     "output_type": "stream",
     "text": [
      "<class 'list'>\n",
      "[{'time': 123, 'value': 5}, {'time': 124, 'value': 6}, {'status': 'ok', 'finish': [True, False, False]}]\n"
     ]
    }
   ],
   "source": [
    "# unpack message\n",
    "message = json.loads(js_message)\n",
    "\n",
    "# show result\n",
    "print(type(message))\n",
    "print(message)"
   ]
  },
  {
   "cell_type": "markdown",
   "metadata": {},
   "source": [
    "The json library can also make json dumps more readable for humans. See following example."
   ]
  },
  {
   "cell_type": "code",
   "execution_count": 14,
   "metadata": {},
   "outputs": [
    {
     "name": "stdout",
     "output_type": "stream",
     "text": [
      "[\n",
      "    {\n",
      "        \"time\": 123,\n",
      "        \"value\": 5\n",
      "    },\n",
      "    {\n",
      "        \"time\": 124,\n",
      "        \"value\": 6\n",
      "    },\n",
      "    {\n",
      "        \"finish\": [\n",
      "            true,\n",
      "            false,\n",
      "            false\n",
      "        ],\n",
      "        \"status\": \"ok\"\n",
      "    }\n",
      "]\n"
     ]
    }
   ],
   "source": [
    "nice_message = json.dumps(message, indent=4, sort_keys=True)\n",
    "print(nice_message)"
   ]
  },
  {
   "cell_type": "code",
   "execution_count": null,
   "metadata": {},
   "outputs": [],
   "source": []
  }
 ],
 "metadata": {
  "kernelspec": {
   "display_name": "Python 3",
   "language": "python",
   "name": "python3"
  },
  "language_info": {
   "codemirror_mode": {
    "name": "ipython",
    "version": 3
   },
   "file_extension": ".py",
   "mimetype": "text/x-python",
   "name": "python",
   "nbconvert_exporter": "python",
   "pygments_lexer": "ipython3",
   "version": "3.9.13"
  }
 },
 "nbformat": 4,
 "nbformat_minor": 2
}
