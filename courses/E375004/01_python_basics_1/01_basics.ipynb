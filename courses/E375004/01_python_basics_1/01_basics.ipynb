{
 "cells": [
  {
   "cell_type": "markdown",
   "id": "e00b6f35-189c-4024-b2a7-df5b033d2710",
   "metadata": {},
   "source": [
    "# 01 - Python basics\n",
    "\n",
    "For our fisrt lecture we will use IDLE (short for Integrated Development and Learning Environment). IDLE is an integrated development environment for Python. It is bundled with basic implementation of Python so it is one of the easiest ways to start with Python (but for future lectures it is strongly recommended to use some advanced IDEs such as Pycharm or VS code)."
   ]
  },
  {
   "cell_type": "markdown",
   "id": "af60478e-d8f7-4e10-bdbe-665510c2e029",
   "metadata": {},
   "source": [
    "### Hello world\n",
    "\n",
    "Let's start with basic example."
   ]
  },
  {
   "cell_type": "code",
   "execution_count": 2,
   "id": "ee7c5555-e382-45f4-b1cd-43bf12bcf66f",
   "metadata": {},
   "outputs": [
    {
     "name": "stdout",
     "output_type": "stream",
     "text": [
      "Hello world!\n"
     ]
    }
   ],
   "source": [
    "print('Hello world!')"
   ]
  },
  {
   "cell_type": "markdown",
   "id": "8b8b01e2-0158-4237-9506-f1405673b234",
   "metadata": {},
   "source": [
    "### Comments\n",
    "'#' code after this sign will not be executed"
   ]
  },
  {
   "cell_type": "code",
   "execution_count": 6,
   "id": "8011705e-e239-4b90-b8bb-4ca725f2c74c",
   "metadata": {},
   "outputs": [],
   "source": [
    "# if you run this nothing happens\n",
    "# print('Hello world!') "
   ]
  },
  {
   "cell_type": "markdown",
   "id": "d41acbaa-0191-452a-a956-333f27986769",
   "metadata": {},
   "source": [
    "### Variables - basic usage\n",
    "To assign value to a variable we can use '=' operator"
   ]
  },
  {
   "cell_type": "code",
   "execution_count": 9,
   "id": "b25163ac-e14a-4353-9918-265042340ff5",
   "metadata": {},
   "outputs": [],
   "source": [
    "a = 1\n",
    "b = 'Hello Python!'"
   ]
  },
  {
   "cell_type": "markdown",
   "id": "7cb552d2-33cf-4f22-98f2-a4630e86f191",
   "metadata": {},
   "source": [
    "Now we can check if the assignment worked. We can pass our variables into already known function ```print()``` and see what will be the output"
   ]
  },
  {
   "cell_type": "code",
   "execution_count": 11,
   "id": "4be989a4-405d-4250-98d7-a02e5d2b025b",
   "metadata": {},
   "outputs": [
    {
     "name": "stdout",
     "output_type": "stream",
     "text": [
      "1\n",
      "Hello Python!\n"
     ]
    }
   ],
   "source": [
    "print(a)\n",
    "print(b)"
   ]
  },
  {
   "cell_type": "markdown",
   "id": "625f17bb-5638-4470-b2f4-0326a0f35c86",
   "metadata": {},
   "source": [
    "As expected ```print()``` has printed out content of variables **a** and **b**"
   ]
  },
  {
   "cell_type": "markdown",
   "id": "fcbf506e-5666-4d98-99ab-99ee2595a8cb",
   "metadata": {},
   "source": [
    "### Variables - dumb calculator\n",
    "In IDLE we are using so called interactive Python (not for long thought). Thanks to that we can use the console for example as a basic interactive calculator. Let's try next example of adding two numbers"
   ]
  },
  {
   "cell_type": "code",
   "execution_count": 12,
   "id": "2584f4ea-3398-4a77-85f6-bea03e63282f",
   "metadata": {},
   "outputs": [
    {
     "data": {
      "text/plain": [
       "4"
      ]
     },
     "execution_count": 12,
     "metadata": {},
     "output_type": "execute_result"
    }
   ],
   "source": [
    "a = 1\n",
    "b = 3\n",
    "a + b"
   ]
  },
  {
   "cell_type": "markdown",
   "id": "18b1b78e-4c0c-4385-ae2b-34f62c6d5515",
   "metadata": {},
   "source": [
    "...other approach would be as follows..."
   ]
  },
  {
   "cell_type": "code",
   "execution_count": 13,
   "id": "8dec168a-bca1-41e2-97e5-db8ca6016b11",
   "metadata": {},
   "outputs": [
    {
     "name": "stdout",
     "output_type": "stream",
     "text": [
      "4\n"
     ]
    }
   ],
   "source": [
    "a = 1\n",
    "b = 3\n",
    "print(a + b)"
   ]
  },
  {
   "cell_type": "markdown",
   "id": "0c6a9f4e-0f28-439e-8b52-ac6c65930609",
   "metadata": {},
   "source": [
    "It may seem that there is litle to no difference but it isn't correct. We will look at this more in future."
   ]
  },
  {
   "cell_type": "markdown",
   "id": "7c0a17f8-b40c-4368-a157-f66b3b7093c7",
   "metadata": {},
   "source": [
    "### Data types\n",
    "For your information Python is **dynamicaly typed** language. It means that a data type is assigned to a value not to the variable. If you know what does it mean then there is nothing more to explain and if you don't then just take it as interesting fact.\n",
    "\n",
    "The more important thing for us at this time is which data types we have in Python. We can use another function called ```type()``` which tells us what data type is the value of given variable.\n",
    "#### Numeric\n",
    "Numeric types represent numbers in different ways."
   ]
  },
  {
   "cell_type": "code",
   "execution_count": 14,
   "id": "42719e83-0fcf-4c0d-9973-c580e0faa710",
   "metadata": {},
   "outputs": [
    {
     "name": "stdout",
     "output_type": "stream",
     "text": [
      "<class 'int'>\n",
      "<class 'float'>\n",
      "<class 'complex'>\n"
     ]
    }
   ],
   "source": [
    "i = 1            # int ~ \n",
    "f = 2.3          # float ~ real numbers\n",
    "c = 2.5 + 1.3j   # complex\n",
    "print(type(i))\n",
    "print(type(f))\n",
    "print(type(c))"
   ]
  },
  {
   "cell_type": "markdown",
   "id": "73cb4297-6c0b-4b2c-9a2b-47cd88579ef9",
   "metadata": {},
   "source": [
    "There is a special kind of Integer type called Boolean. This type has only two values: True and False. Because Boolean type is inherited from Integer, its two values are mapped to 1 and 0 respectively. You can use either way."
   ]
  },
  {
   "cell_type": "code",
   "execution_count": 18,
   "id": "3c5b7667-be26-40f6-b081-d5199eaa5ef6",
   "metadata": {},
   "outputs": [
    {
     "name": "stdout",
     "output_type": "stream",
     "text": [
      "<class 'bool'>\n"
     ]
    }
   ],
   "source": [
    "# Boolean\n",
    "b1 = True\n",
    "b2 = False\n",
    "print(type(b1))"
   ]
  },
  {
   "cell_type": "markdown",
   "id": "c655051d-4b97-4faa-a189-f6919c724127",
   "metadata": {},
   "source": [
    "Boolean type is specially useful for representing results of comparison of two values. For example we can compare if value ```False``` is really equal to value ```0```. We can achive that wit combination of ```print()``` and operator ```==``` (```==``` compares two values and returns ```True``` if they are equal, ```False``` otherwise). Let's try it."
   ]
  },
  {
   "cell_type": "code",
   "execution_count": 38,
   "id": "7ec86a61-dd9a-44fe-92d9-8d4b973f40c6",
   "metadata": {},
   "outputs": [
    {
     "name": "stdout",
     "output_type": "stream",
     "text": [
      "True\n"
     ]
    }
   ],
   "source": [
    "print(False == 0)"
   ]
  },
  {
   "cell_type": "markdown",
   "id": "83f197b5-be5a-4094-8f1e-069fac41511e",
   "metadata": {},
   "source": [
    "#### Text\n",
    "For representation of text there is type String. To assign string to a variable we need to wrap the value in pair of single or double quotes (```'text'``` or ```\"text\"```). "
   ]
  },
  {
   "cell_type": "code",
   "execution_count": 17,
   "id": "1e000d67-6ae1-4f0e-8056-b8899efd9adb",
   "metadata": {},
   "outputs": [
    {
     "name": "stdout",
     "output_type": "stream",
     "text": [
      "<class 'str'>\n",
      "<class 'str'>\n"
     ]
    }
   ],
   "source": [
    "s1 = 'hello'\n",
    "s2 = \"hello\"\n",
    "print(type(s1))\n",
    "print(type(s2))"
   ]
  },
  {
   "cell_type": "markdown",
   "id": "08773006-ab61-457d-a476-e2f232903851",
   "metadata": {},
   "source": [
    "Let's make it more complex-ish and combine everything we learned so far. We can check if both strings with ```hello``` are the same and if their types are really the same as we expect."
   ]
  },
  {
   "cell_type": "code",
   "execution_count": 20,
   "id": "5322b8cb-6c8a-4669-80b8-372cf43a7cb3",
   "metadata": {},
   "outputs": [
    {
     "name": "stdout",
     "output_type": "stream",
     "text": [
      "True\n",
      "True\n"
     ]
    }
   ],
   "source": [
    "print(s1 == s2)\n",
    "print(type(s1) == type(s2))"
   ]
  },
  {
   "cell_type": "markdown",
   "id": "28d0ed99-3650-4c52-9804-5e9ef31495aa",
   "metadata": {},
   "source": [
    "Note that ```1``` and ```'1'``` are not equal. First one is nomber and second is string."
   ]
  },
  {
   "cell_type": "code",
   "execution_count": 33,
   "id": "189b2792-ae66-4155-9369-a286ed78113a",
   "metadata": {},
   "outputs": [
    {
     "data": {
      "text/plain": [
       "False"
      ]
     },
     "execution_count": 33,
     "metadata": {},
     "output_type": "execute_result"
    }
   ],
   "source": [
    "1 == '1'"
   ]
  },
  {
   "cell_type": "markdown",
   "id": "76eed58c-bdfe-4231-a37b-d6dbdad1c507",
   "metadata": {},
   "source": [
    "##### Formated string\n",
    "\n",
    "This is additional feature for the strings that allows us to insert values of variables inside them. You can use it by typing ```f``` at the beggining of the string (before the leading quotes) and then put your variables into ```{}``` whenever you want to have them in the text. See example."
   ]
  },
  {
   "cell_type": "code",
   "execution_count": 29,
   "id": "21cab3fa-8452-4c7c-a0cd-596b5758719e",
   "metadata": {},
   "outputs": [
    {
     "name": "stdout",
     "output_type": "stream",
     "text": [
      "This is text where i want to have multiplication of two numbers: 2 * 3 = 6\n"
     ]
    }
   ],
   "source": [
    "x = 2\n",
    "y = 3\n",
    "text = f'This is text where i want to have multiplication of two numbers: {x} * {y} = {x*y}'\n",
    "print(text)"
   ]
  },
  {
   "cell_type": "markdown",
   "id": "cb6957d0-4a2e-4659-9911-6664f2ae9807",
   "metadata": {},
   "source": [
    "#### List and Tuple\n",
    "\n",
    "These two types are useful for storing of multiple elements under one variable. Main difference between list and tuple is that tuple is immutable. It means that after a tuple is created, elements can't be added, changed or removed. On the other hand list can be changed anytime. For creation of list we use ```[]``` brackets with each element separated by `,` thus ```[elem1, elem2, ...]```. For the tuple we switch from ```[]``` to ```()``` and rest is the same thus```(elem1, elem2, ...)```. See examples\n",
    "##### List"
   ]
  },
  {
   "cell_type": "code",
   "execution_count": 63,
   "id": "5456b170-efcc-463a-a1a5-5059e9e55813",
   "metadata": {},
   "outputs": [
    {
     "name": "stdout",
     "output_type": "stream",
     "text": [
      "[1, 2.3, 'Hello']\n",
      "Hello\n",
      "[1, 2.3, 'Hello world!']\n",
      "[1, 2.3, 'Hello world!', (0.1+0.2j)]\n",
      "[1, 2.3, 'Hello world!']\n",
      "[1, 2.3, 'inserted element', 'Hello world!']\n",
      "[1, 2.3, 'Hello world!']\n"
     ]
    }
   ],
   "source": [
    "lst = [1, 2.3, 'Hello']\n",
    "print(lst) # list can be printed\n",
    "\n",
    "# to read a value we can use [] operator with index of the element, indexes are counted from 0\n",
    "print(lst[2])\n",
    "\n",
    "# similarly we can change the value\n",
    "lst[2] = 'Hello world!'\n",
    "print(lst)\n",
    "\n",
    "# we can add element to end of list by using method append (more on methods later on)\n",
    "lst.append(0.1 + 0.2j)\n",
    "print(lst)\n",
    "\n",
    "# we can remove element from end of list by using method pop\n",
    "lst.pop()\n",
    "print(lst)\n",
    "\n",
    "# we can insert on specific index\n",
    "lst.insert(2, 'inserted element')\n",
    "print(lst)\n",
    "\n",
    "# and we can delete from specific index\n",
    "del lst[2]\n",
    "print(lst)"
   ]
  },
  {
   "cell_type": "markdown",
   "id": "8767e407-fe74-4035-8c22-031474710687",
   "metadata": {},
   "source": [
    "##### Tuple ~ read only list"
   ]
  },
  {
   "cell_type": "code",
   "execution_count": 65,
   "id": "e7a44ca3-4cbc-4096-a7af-dda1d4255fd0",
   "metadata": {},
   "outputs": [
    {
     "name": "stdout",
     "output_type": "stream",
     "text": [
      "(1, 2.3, 'Hello')\n",
      "Hello\n"
     ]
    }
   ],
   "source": [
    "tpl = (1, 2.3, 'Hello')\n",
    "print(tpl) # tuples can also be printed\n",
    "\n",
    "# and we can read specific values the same way as for the lists\n",
    "print(tpl[2])\n"
   ]
  },
  {
   "cell_type": "code",
   "execution_count": 66,
   "id": "17a8191b-2c38-4a67-b2ab-5ed488127b4c",
   "metadata": {},
   "outputs": [
    {
     "ename": "TypeError",
     "evalue": "'tuple' object does not support item assignment",
     "output_type": "error",
     "traceback": [
      "\u001b[1;31m---------------------------------------------------------------------------\u001b[0m",
      "\u001b[1;31mTypeError\u001b[0m                                 Traceback (most recent call last)",
      "Input \u001b[1;32mIn [66]\u001b[0m, in \u001b[0;36m<module>\u001b[1;34m\u001b[0m\n\u001b[0;32m      1\u001b[0m \u001b[38;5;66;03m# but we cant modify them\u001b[39;00m\n\u001b[1;32m----> 2\u001b[0m tpl[\u001b[38;5;241m2\u001b[39m] \u001b[38;5;241m=\u001b[39m \u001b[38;5;124m'\u001b[39m\u001b[38;5;124mHello world!\u001b[39m\u001b[38;5;124m'\u001b[39m\n\u001b[0;32m      3\u001b[0m \u001b[38;5;28mprint\u001b[39m(tpl)\n",
      "\u001b[1;31mTypeError\u001b[0m: 'tuple' object does not support item assignment"
     ]
    }
   ],
   "source": [
    "# but we cant modify them\n",
    "tpl[2] = 'Hello world!'\n",
    "print(tpl)"
   ]
  },
  {
   "cell_type": "code",
   "execution_count": 67,
   "id": "b91a2672-942f-4a3a-bdae-2d908051ebc2",
   "metadata": {},
   "outputs": [
    {
     "ename": "TypeError",
     "evalue": "'tuple' object doesn't support item deletion",
     "output_type": "error",
     "traceback": [
      "\u001b[1;31m---------------------------------------------------------------------------\u001b[0m",
      "\u001b[1;31mTypeError\u001b[0m                                 Traceback (most recent call last)",
      "Input \u001b[1;32mIn [67]\u001b[0m, in \u001b[0;36m<module>\u001b[1;34m\u001b[0m\n\u001b[0;32m      1\u001b[0m \u001b[38;5;66;03m# nor modify the list\u001b[39;00m\n\u001b[1;32m----> 2\u001b[0m \u001b[38;5;28;01mdel\u001b[39;00m tpl[\u001b[38;5;241m2\u001b[39m]\n\u001b[0;32m      3\u001b[0m \u001b[38;5;28mprint\u001b[39m(tpl)\n",
      "\u001b[1;31mTypeError\u001b[0m: 'tuple' object doesn't support item deletion"
     ]
    }
   ],
   "source": [
    "# nor modify the tuple\n",
    "del tpl[2]\n",
    "print(tpl)"
   ]
  },
  {
   "cell_type": "markdown",
   "id": "c213ad26-77bd-4473-82ed-a5389017fccb",
   "metadata": {},
   "source": [
    "### Dictionary (map)\n",
    "\n",
    "Dictionary is an unordered container for storing multiple values. But it is different from the list and tuple. It uses pairs of key and value. Every key is unique because it is used to find its associated value (just like in normal dictionary). It is also called a mapping type because it maps keys to the values for easy searching. From syntatic point of view dictionary is initialized by ```{}``` with each pair separated by ```,```. Every pair has structure of ```key : value```. All together ```{key1 : value1, key2 : value2, ...}```"
   ]
  },
  {
   "cell_type": "code",
   "execution_count": 1,
   "id": "7e146f02-b6b4-4937-a3d4-ea1c99db00c0",
   "metadata": {},
   "outputs": [
    {
     "name": "stdout",
     "output_type": "stream",
     "text": [
      "{0: '1000', 'a': True, 2: 'Hello'}\n",
      "True\n",
      "{0: '1000', 'a': True, 2: 'Hello', 3: 'world'}\n",
      "{0: '1000', 'a': True, 2: 'Hello', 3: False}\n",
      "{0: '1000', 'a': True, 2: 'Hello'}\n",
      "dict_keys([0, 'a', 2])\n",
      "dict_values(['1000', True, 'Hello'])\n"
     ]
    }
   ],
   "source": [
    "dic = {\n",
    "    0 : '1000',\n",
    "    'a' : True,\n",
    "    2 : 'Hello',\n",
    "}\n",
    "\n",
    "# we can print dict\n",
    "print(dic)\n",
    "\n",
    "# we can access specific values with operator [] and the value's key\n",
    "print(dic['a'])\n",
    "\n",
    "# we can add a key-value pair\n",
    "dic[3] = 'world'\n",
    "print(dic)\n",
    "\n",
    "# we can change specific value \n",
    "dic[3] = False\n",
    "print(dic)\n",
    "\n",
    "# we can remove specific key-value pair\n",
    "del dic[3]\n",
    "print(dic)\n",
    "\n",
    "# we can get list of keys\n",
    "print(dic.keys())\n",
    "\n",
    "# and also list of values\n",
    "print(dic.values())"
   ]
  },
  {
   "cell_type": "markdown",
   "id": "2e0f7aa8-3afb-4fc7-8819-22616da5a642",
   "metadata": {},
   "source": [
    "### Casting\n",
    "\n",
    "Casting means changing the data type of a piece of data from one type to another. For the basic types you can cast usin functions ```int()```, ```float()```, ```str()``` and others. We can try few examples."
   ]
  },
  {
   "cell_type": "code",
   "execution_count": 26,
   "id": "b73c5567-d7c7-402e-aeed-f37605eb441c",
   "metadata": {},
   "outputs": [
    {
     "name": "stdout",
     "output_type": "stream",
     "text": [
      "<class 'int'>\n",
      "<class 'int'>\n",
      "<class 'float'>\n",
      "<class 'str'>\n"
     ]
    }
   ],
   "source": [
    "x = 1\n",
    "print(type(x))\n",
    "print(type(int(x)))\n",
    "print(type(float(x)))\n",
    "print(type(str(x)))"
   ]
  },
  {
   "cell_type": "markdown",
   "id": "a46e888a-4d5d-424f-aeb9-b06949d4de34",
   "metadata": {},
   "source": [
    "We can use that to get an integer falue from the text where a float is written (remember that this is not the best way to do this)."
   ]
  },
  {
   "cell_type": "code",
   "execution_count": 37,
   "id": "5147da95-117f-4b5b-b33b-0502f297bfa6",
   "metadata": {},
   "outputs": [
    {
     "name": "stdout",
     "output_type": "stream",
     "text": [
      "<class 'str'>\n",
      "<class 'float'>\n",
      "<class 'int'>\n",
      "12\n"
     ]
    }
   ],
   "source": [
    "y = '12.345'\n",
    "print(type(y))\n",
    "f = float(y)\n",
    "print(type(f))\n",
    "i = int(f)\n",
    "print(type(i))\n",
    "print(i)"
   ]
  },
  {
   "cell_type": "markdown",
   "id": "d7d914b7-3cb4-4fb4-9a2b-b4c560eeaa4f",
   "metadata": {},
   "source": [
    "### Operators - arithmetic, assigment, comparison and logical\n",
    "\n",
    "It may look complicated but it is mostly pretty simple. Arithmetic operators are used for basic arithmetic operations such as adding, substracting, multiplaying and dividing of numbers."
   ]
  },
  {
   "cell_type": "code",
   "execution_count": 42,
   "id": "a5ba7724-4ac4-45c4-9065-61f54e586911",
   "metadata": {},
   "outputs": [
    {
     "name": "stdout",
     "output_type": "stream",
     "text": [
      "6\n",
      "2\n",
      "8\n",
      "2.0\n",
      "Exponentiation\n",
      "16\n",
      "Special divisions\n",
      "2\n",
      "1\n"
     ]
    }
   ],
   "source": [
    "# Basic arithmetics\n",
    "x = 4\n",
    "y = 2\n",
    "print(x + y)\n",
    "print(x - y)\n",
    "print(x * y)\n",
    "print(x / y)\n",
    "\n",
    "# Exponentiation\n",
    "print('Exponentiation')\n",
    "print(x**y) # x^y\n",
    "\n",
    "# Modulos and floor division\n",
    "z = 5\n",
    "w = 3\n",
    "print('Special divisions')\n",
    "print(z % w)  # modulos\n",
    "print(z // w) # floor"
   ]
  },
  {
   "cell_type": "markdown",
   "id": "1ad28881-91ec-458b-849d-ecd8a3ab935b",
   "metadata": {},
   "source": [
    "##### Assignment operators\n",
    "For the assignment operators we already know ```=```. It is used to assign values to variables. "
   ]
  },
  {
   "cell_type": "code",
   "execution_count": 44,
   "id": "29ee601d-9e6a-4ae7-899a-ed6f2c0f7127",
   "metadata": {},
   "outputs": [
    {
     "name": "stdout",
     "output_type": "stream",
     "text": [
      "1\n"
     ]
    }
   ],
   "source": [
    "i = 1\n",
    "print(i)"
   ]
  },
  {
   "cell_type": "markdown",
   "id": "78f6c443-9a09-4c53-b375-0682ca52bbe1",
   "metadata": {},
   "source": [
    "In addition there are several \"upgraded\" assignment operators. They are made by accompanying another operator to the ```=```. For example ```+=``` or ```**=``` and so on. In case we use one of these special operators, then the (additional) operation is applied to left and right operator and the result is assigned to the left operand. See examples."
   ]
  },
  {
   "cell_type": "code",
   "execution_count": 48,
   "id": "b5e8cce4-0b50-4891-8457-ba28d741742f",
   "metadata": {},
   "outputs": [
    {
     "name": "stdout",
     "output_type": "stream",
     "text": [
      "6\n",
      "36\n"
     ]
    }
   ],
   "source": [
    "x = 4\n",
    "y = 2\n",
    "x += y\n",
    "print(x)\n",
    "\n",
    "x **= y\n",
    "print(x)"
   ]
  },
  {
   "cell_type": "markdown",
   "id": "834d9c3b-6062-4c3d-af49-3338da37b7be",
   "metadata": {},
   "source": [
    "##### Comparison operators\n",
    "Comparison operators as their name suggest are mostly used for comparison of values. We have already encountered ```==``` operator which chekcs if its operands are equal. Comparison operators in general returns ```True``` as a result if comparared operands fulfill predicament given by operator, otherwise the result is ```False```."
   ]
  },
  {
   "cell_type": "code",
   "execution_count": 2,
   "id": "e5446c48-9291-4e02-94a4-366dc2c7b62e",
   "metadata": {},
   "outputs": [
    {
     "data": {
      "text/plain": [
       "True"
      ]
     },
     "execution_count": 2,
     "metadata": {},
     "output_type": "execute_result"
    }
   ],
   "source": [
    "# Basic example - True\n",
    "print(3 == 3)"
   ]
  },
  {
   "cell_type": "code",
   "execution_count": 4,
   "id": "a8ff4ddb-f868-469a-beac-4059aa153f7f",
   "metadata": {},
   "outputs": [
    {
     "name": "stdout",
     "output_type": "stream",
     "text": [
      "False\n"
     ]
    }
   ],
   "source": [
    "# Basic example - False\n",
    "print(3 == 4)"
   ]
  },
  {
   "cell_type": "markdown",
   "id": "4458e0c9-c353-48de-a76a-414bcb19ac7d",
   "metadata": {},
   "source": [
    "We have six basic comparison operators. They work exactly the same way as they do in math :-)\n",
    "* ```==``` equal\n",
    "* ```!=``` not equal\n",
    "* ```>``` greater than\n",
    "* ```<``` less than\n",
    "* ```>=``` greater than or equal\n",
    "* ```<=``` less than or equal"
   ]
  },
  {
   "cell_type": "markdown",
   "id": "42366a7e-5e3e-4cd0-afa8-ec95a721eeb3",
   "metadata": {},
   "source": [
    "##### Logical operators\n",
    "\n",
    "We have 3 logical operators: ```and```, ```or``` and ```not```. These are used to combine conditions like those from te previous section."
   ]
  },
  {
   "cell_type": "code",
   "execution_count": 11,
   "id": "a3880ea2-ec19-4a5e-bbc9-517479454af0",
   "metadata": {},
   "outputs": [
    {
     "data": {
      "text/plain": [
       "True"
      ]
     },
     "execution_count": 11,
     "metadata": {},
     "output_type": "execute_result"
    }
   ],
   "source": [
    "(3 < 5) and (True != False)"
   ]
  },
  {
   "cell_type": "code",
   "execution_count": 13,
   "id": "b2dd0f35-9e99-4109-bad6-2df2a72458f4",
   "metadata": {},
   "outputs": [
    {
     "data": {
      "text/plain": [
       "True"
      ]
     },
     "execution_count": 13,
     "metadata": {},
     "output_type": "execute_result"
    }
   ],
   "source": [
    "(True == (not False))"
   ]
  },
  {
   "cell_type": "markdown",
   "id": "47980c5b-e44e-4468-a577-cc6e0fab251c",
   "metadata": {},
   "source": [
    "We will make better usage of this in following sections"
   ]
  },
  {
   "cell_type": "markdown",
   "id": "127c8921-9473-4c1f-8da8-464c0107c058",
   "metadata": {},
   "source": [
    "### Statement if-else\n",
    "\n",
    "Finally we get to something more interesting. If we combine all what we learned so far we can save values to variables, do some basic math on them, compare the results and print out what we get. It is nice but it wouldn not be really good program. To be able to do more advanced stuff we need to have tools to control flow of the program. That is the reason to learn about **if-else statement**. It allows our program to fork into different ways according to some conditions.\n",
    "\n",
    "Let's make an example. "
   ]
  },
  {
   "cell_type": "code",
   "execution_count": 7,
   "id": "53057ed2-ca82-41be-b1b4-2c2195f67d84",
   "metadata": {},
   "outputs": [
    {
     "name": "stdout",
     "output_type": "stream",
     "text": [
      "I will go outside\n"
     ]
    }
   ],
   "source": [
    "# If-else statement - positive result\n",
    "\n",
    "wheather_is_sunny = True # assignment, we are setting the value\n",
    "\n",
    "if wheather_is_sunny == True: # if and comparison, we are asking IF the condition was fulfilled\n",
    "    print('I will go outside') # because the outcome is be positive program continues to the first branch\n",
    "else:\n",
    "    print('I will stay inside') # if the outcome was negative the program would have continued in the second branch"
   ]
  },
  {
   "cell_type": "code",
   "execution_count": 8,
   "id": "2eeaf95b-c7ef-425e-b4fb-35d89005f51b",
   "metadata": {},
   "outputs": [
    {
     "name": "stdout",
     "output_type": "stream",
     "text": [
      "I will stay inside\n"
     ]
    }
   ],
   "source": [
    "# If-else statement - negative result\n",
    "\n",
    "wheather_is_sunny = False\n",
    "\n",
    "if wheather_is_sunny == True:\n",
    "    print('I will go outside')\n",
    "else:\n",
    "    print('I will stay inside')"
   ]
  },
  {
   "cell_type": "markdown",
   "id": "29aebddf-41c0-460b-a3cf-e81948cf0520",
   "metadata": {},
   "source": [
    "In case we would want more then two branches we can use key word ```elif```. Which has to be putted between if and else branch. See example."
   ]
  },
  {
   "cell_type": "code",
   "execution_count": 10,
   "id": "b7c73b64-ba5a-4a3a-b18c-a394c01df4d5",
   "metadata": {},
   "outputs": [
    {
     "name": "stdout",
     "output_type": "stream",
     "text": [
      "Positive\n"
     ]
    }
   ],
   "source": [
    "num = 1\n",
    "\n",
    "if num == 0:\n",
    "    print('Zero')\n",
    "elif num < 0:\n",
    "    print('Negative')\n",
    "else:\n",
    "    print('Positive')"
   ]
  },
  {
   "cell_type": "markdown",
   "id": "a2666a4f-d7dd-475d-9dc7-8ff9a6347929",
   "metadata": {},
   "source": [
    "Note that ```else``` branch is for the rest of the cases which don't satisfy any of the conditions above.\n",
    "\n",
    "With the usage of logical operators we can combine many conditions in one if statement."
   ]
  },
  {
   "cell_type": "code",
   "execution_count": 25,
   "id": "083657d5-2d6c-4af1-b258-a35404a3c784",
   "metadata": {},
   "outputs": [
    {
     "name": "stdout",
     "output_type": "stream",
     "text": [
      "I will go outside\n"
     ]
    }
   ],
   "source": [
    "# If-else statement - negative result\n",
    "\n",
    "my_mood = 1\n",
    "wheather_is_sunny = True\n",
    "\n",
    "if wheather_is_sunny == True and my_mood > 0:\n",
    "    print('I will go outside')\n",
    "elif wheather_is_sunny != True or my_mood < 0:\n",
    "    print('I will stay inside')\n",
    "else:\n",
    "    print('I don\\'t know')"
   ]
  },
  {
   "cell_type": "markdown",
   "id": "b09ae413-a776-4782-a63e-c2de75fcdfd2",
   "metadata": {},
   "source": [
    "### Loops - for and while\n",
    "\n",
    "Loops are another tool to control flow of our program. We have ```for``` and ```while```. They allow us to execute a part of our code more than once without actually writting it there more than once. So how does it work. We can start with while loop. It is executing its code in cycles as long as its condition is ```True``` (remeber **if-else** statement). The condition is checked every time the program gets to beggining of cycle. See the example"
   ]
  },
  {
   "cell_type": "code",
   "execution_count": 32,
   "id": "fe7f71c0-f6a8-4805-933a-dd075ede5460",
   "metadata": {},
   "outputs": [
    {
     "name": "stdout",
     "output_type": "stream",
     "text": [
      "Go by bus. Only 3 coins left\n",
      "Go by bus. Only 2 coins left\n",
      "Go by bus. Only 1 coins left\n",
      "No coins remaining\n"
     ]
    }
   ],
   "source": [
    "coins = 3\n",
    "\n",
    "while coins > 0:\n",
    "    print(f'Go by bus. Only {coins} coins left')\n",
    "    coins -= 1\n",
    "\n",
    "print('No coins remaining')"
   ]
  },
  {
   "cell_type": "markdown",
   "id": "9aa323b5-4d0b-490b-85a0-906e11260830",
   "metadata": {},
   "source": [
    "The for loop works a bit differetly. We can let it run over some iteration. For example over a list of values. We may use two new functions ```range``` which makes a serie of numbers between given limits and ```len``` which tells us the length of a list. If we combine it we can get serie of numbers between 0 and MAX length of list. That serie actually includes all numbers which could be indexes in current list. Thus we can approach every single item by its index (if you dont know how, see List section)"
   ]
  },
  {
   "cell_type": "code",
   "execution_count": 38,
   "id": "2743b63c-210e-4d00-a4db-134cdb5de302",
   "metadata": {},
   "outputs": [
    {
     "name": "stdout",
     "output_type": "stream",
     "text": [
      "There is a Box in the storage\n",
      "There is a Car in the storage\n",
      "There is a Dog in the storage\n",
      "There is a Cat in the storage\n"
     ]
    }
   ],
   "source": [
    "storage = ['Box','Car','Dog','Cat']\n",
    "\n",
    "for i in range(0, len(storage)):\n",
    "    print(f'There is a {storage[i]} in the storage')"
   ]
  },
  {
   "cell_type": "markdown",
   "id": "371da338-e5af-4b37-b860-76de8489ded0",
   "metadata": {},
   "source": [
    "It seems it is working, but it was said that Python is nice language to code with and this was not a best way to do it. Lets try a more Pythonic way."
   ]
  },
  {
   "cell_type": "code",
   "execution_count": 39,
   "id": "711d0e59-1e91-4aaf-b815-a7e1a32da544",
   "metadata": {},
   "outputs": [
    {
     "name": "stdout",
     "output_type": "stream",
     "text": [
      "There is a Box in the storage\n",
      "There is a Car in the storage\n",
      "There is a Dog in the storage\n",
      "There is a Cat in the storage\n"
     ]
    }
   ],
   "source": [
    "storage = ['Box','Car','Dog','Cat']\n",
    "\n",
    "for item in storage:\n",
    "    print(f'There is a {item} in the storage')"
   ]
  },
  {
   "cell_type": "markdown",
   "id": "5142abaa-11f6-43df-bb31-a47ed303e4fd",
   "metadata": {},
   "source": [
    "Much better right? :-)\n",
    "\n",
    "Of course you could argue that now we don't have index wchich could be useful if we wanted to know which item we are printing. For that we can use ```enumerate``` which makes that for us. We just need to add a second variable to the for loop to unpack our indexes."
   ]
  },
  {
   "cell_type": "code",
   "execution_count": 45,
   "id": "ab02de00-94f0-4fdd-bbcc-4231115a8679",
   "metadata": {},
   "outputs": [
    {
     "name": "stdout",
     "output_type": "stream",
     "text": [
      "There is a Box in the storage -> 1/4\n",
      "There is a Car in the storage -> 2/4\n",
      "There is a Dog in the storage -> 3/4\n",
      "There is a Cat in the storage -> 4/4\n"
     ]
    }
   ],
   "source": [
    "storage = ['Box','Car','Dog','Cat']\n",
    "\n",
    "for index, item in enumerate(storage):\n",
    "    print(f'There is a {item} in the storage -> {index+1}/{len(storage)}') # the reason why we add +1 to index is that basic indexing goes from 0"
   ]
  },
  {
   "cell_type": "markdown",
   "id": "0681a564-9f17-4787-b731-d5a8403c76dc",
   "metadata": {},
   "source": [
    "### Function\n",
    "\n",
    "To understand what is function in programing remember what it means in mathematics. It is some \"black box\" that for each input yields a corresponding output according to it's inner formula. In programming it is similar. We have same input values, we send them to the function and it returns us some output. Example of such function is ```print()``` which we already know. It takes some variable or value and prints it out. Another one is ```type()``` function which returns the type of given input. We can also make out own functions. There is key word ```def``` for that. Than the name of function follows with pair of ```()``` and the line is ended with ```:``` (all together ```def function_name():```). On the other line body of function follows. To call the function we use its name and ```()```. See example:"
   ]
  },
  {
   "cell_type": "code",
   "execution_count": 2,
   "id": "bb52802b-c0e6-4f19-b91c-8328edc074c5",
   "metadata": {},
   "outputs": [
    {
     "name": "stdout",
     "output_type": "stream",
     "text": [
      "I am a fucntion\n"
     ]
    }
   ],
   "source": [
    "# Definition of function\n",
    "def function_name():\n",
    "    favourite_number = 8\n",
    "    print(f'My favourite number is {favourite_number}') # function body\n",
    "    \n",
    "function_name() # function calling"
   ]
  },
  {
   "cell_type": "markdown",
   "id": "a8ea92ad-0e30-451e-bdec-9f645522bd82",
   "metadata": {},
   "source": [
    "If you want to be able to pass some arguments to function you need to add them to ```()``` in its definition. Arguments must be separated with ```,```. To call the function with these arguments you can put arguments to the ```()``` in the function call. See the next example and compere it with first one."
   ]
  },
  {
   "cell_type": "code",
   "execution_count": 5,
   "id": "50b4cf5d-5e29-40af-a2c9-50b022c60c48",
   "metadata": {},
   "outputs": [
    {
     "name": "stdout",
     "output_type": "stream",
     "text": [
      "My favourite number is 8\n"
     ]
    }
   ],
   "source": [
    "# Definition of function\n",
    "def function_name(argument1, argument2):\n",
    "    favourite_number = argument1 + argument2  # function body\n",
    "    print(f'My favourite number is {favourite_number}')\n",
    "\n",
    "x = 5 # preparing input parameters\n",
    "y = 3\n",
    "function_name(x, y) # function calling with additional parameters"
   ]
  },
  {
   "cell_type": "markdown",
   "id": "9befb224-34d8-4fd2-b0ee-58cab1505a2e",
   "metadata": {},
   "source": [
    "We can also ask function to return us something back. Key word ```return``` serves for that purpose.  So lets modify function only to count result and return it to us. We can print it ourselfs later on."
   ]
  },
  {
   "cell_type": "code",
   "execution_count": 9,
   "id": "856cf5ea-1fab-49b8-9b6f-f8fbb6ab71c7",
   "metadata": {},
   "outputs": [
    {
     "name": "stdout",
     "output_type": "stream",
     "text": [
      "My favourite number is 8\n"
     ]
    }
   ],
   "source": [
    "# Definition of function\n",
    "def function_name(argument1, argument2):\n",
    "    favourite_number = argument1 + argument2  # function body\n",
    "    return favourite_number # retruning the result to the place from where the function was called\n",
    "\n",
    "x = 5 # preparing input parameters\n",
    "y = 3\n",
    "result = function_name(x, y) # function calling with additional parameters and assignment of returned value\n",
    "print(f'My favourite number is {result}') # printing out returned result"
   ]
  },
  {
   "cell_type": "markdown",
   "id": "37febcd8-0053-4daa-b3c3-db3b0af071ba",
   "metadata": {},
   "source": [
    "At last we can clean the code a bit. We will put the adding operation into return clause and function calling into the outer print function."
   ]
  },
  {
   "cell_type": "code",
   "execution_count": 8,
   "id": "441a5ad5-d533-41da-833d-fc470630a19e",
   "metadata": {},
   "outputs": [
    {
     "name": "stdout",
     "output_type": "stream",
     "text": [
      "My favourite number is 8\n"
     ]
    }
   ],
   "source": [
    "# Definition of function\n",
    "def function_name(argument1, argument2):\n",
    "    return argument1 + argument2  # function body\n",
    "\n",
    "x = 5 # preparing input parameters\n",
    "y = 3\n",
    "print(f'My favourite number is {function_name(x, y)}') # print using result of function calling with additional parameters"
   ]
  },
  {
   "cell_type": "markdown",
   "id": "41b456d1-e1f1-4783-a884-58f2cc7966d5",
   "metadata": {},
   "source": [
    "Function allows us to move to a higher level of programming. You can see that the same result might be achieved with different ways. Some of them are better than others but it really depends on situation. So keep this in mind. Next time we will look into advanced usage of functions and also some basics of object oriented programming."
   ]
  }
 ],
 "metadata": {
  "kernelspec": {
   "display_name": "Python 3 (ipykernel)",
   "language": "python",
   "name": "python3"
  },
  "language_info": {
   "codemirror_mode": {
    "name": "ipython",
    "version": 3
   },
   "file_extension": ".py",
   "mimetype": "text/x-python",
   "name": "python",
   "nbconvert_exporter": "python",
   "pygments_lexer": "ipython3",
   "version": "3.9.7"
  }
 },
 "nbformat": 4,
 "nbformat_minor": 5
}
