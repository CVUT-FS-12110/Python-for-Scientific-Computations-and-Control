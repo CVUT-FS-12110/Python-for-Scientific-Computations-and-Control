{
 "cells": [
  {
   "cell_type": "markdown",
   "metadata": {},
   "source": [
    "# Threading"
   ]
  },
  {
   "cell_type": "code",
   "execution_count": 1,
   "metadata": {},
   "outputs": [],
   "source": [
    "import threading\n",
    "import time"
   ]
  },
  {
   "cell_type": "markdown",
   "metadata": {},
   "source": [
    "## Example with simple function"
   ]
  },
  {
   "cell_type": "code",
   "execution_count": 2,
   "metadata": {},
   "outputs": [],
   "source": [
    "def worker(): #This function prints two messages with 1 second break\n",
    "    print(\"Worker start sleeping.\")\n",
    "    time.sleep(1)\n",
    "    print(\"Worker stop sleeping.\")"
   ]
  },
  {
   "cell_type": "code",
   "execution_count": 3,
   "metadata": {},
   "outputs": [
    {
     "name": "stdout",
     "output_type": "stream",
     "text": [
      "Worker start sleeping.\n",
      "Worker stop sleeping.\n"
     ]
    }
   ],
   "source": [
    "worker()"
   ]
  },
  {
   "cell_type": "markdown",
   "metadata": {},
   "source": [
    "### Sequential call of a function"
   ]
  },
  {
   "cell_type": "code",
   "execution_count": 4,
   "metadata": {},
   "outputs": [
    {
     "name": "stdout",
     "output_type": "stream",
     "text": [
      "Worker start sleeping.\n",
      "Worker stop sleeping.\n",
      "Worker start sleeping.\n",
      "Worker stop sleeping.\n",
      "Finished in 2 seconds\n"
     ]
    }
   ],
   "source": [
    "start_measure = time.time() #Measuring of function duration\n",
    "\n",
    "worker() #call the function twice (sequentially)\n",
    "worker()\n",
    "\n",
    "stop_measure = time.time()\n",
    "\n",
    "print('Finished in {} seconds'.format(round(stop_measure-start_measure),2))\n"
   ]
  },
  {
   "cell_type": "markdown",
   "metadata": {},
   "source": [
    "### Paralel call of a function"
   ]
  },
  {
   "cell_type": "code",
   "execution_count": 5,
   "metadata": {},
   "outputs": [
    {
     "name": "stdout",
     "output_type": "stream",
     "text": [
      "Worker start sleeping.\n",
      "Worker start sleeping.\n",
      "Finished in 0 seconds\n",
      "Worker stop sleeping.\n",
      "Worker stop sleeping.\n"
     ]
    }
   ],
   "source": [
    "start_measure = time.time()\n",
    "\n",
    "#Create two threads. \n",
    "#Target is only a name of a function. Don't call it as worker()\n",
    "t1 = threading.Thread(target=worker) \n",
    "t2 = threading.Thread(target=worker)\n",
    "#Start the threads\n",
    "t1.start()\n",
    "t2.start()\n",
    "\n",
    "stop_measure = time.time()\n",
    "print('Finished in {} seconds'.format(round(stop_measure-start_measure),2))\n"
   ]
  },
  {
   "cell_type": "markdown",
   "metadata": {},
   "source": [
    "#### Notice that \"Finished in 0 seconds\"\n",
    "Measuring and printing were executed immediately after t1.start() and t2.start().  \n",
    "If you want to execute something after the threads are killed,  \n",
    "you have to use join() method as follows:"
   ]
  },
  {
   "cell_type": "code",
   "execution_count": 10,
   "metadata": {},
   "outputs": [
    {
     "name": "stdout",
     "output_type": "stream",
     "text": [
      "Worker start sleeping.\n",
      "Worker start sleeping.\n",
      "Worker stop sleeping.Worker stop sleeping.\n",
      "\n",
      "Finished in 1 seconds\n"
     ]
    }
   ],
   "source": [
    "start_measure = time.time()\n",
    "\n",
    "t1 = threading.Thread(target=worker)\n",
    "t2 = threading.Thread(target=worker)\n",
    "t1.start()\n",
    "t2.start()\n",
    "t1.join()\n",
    "t2.join()\n",
    "\n",
    "stop_measure = time.time()\n",
    "print('Finished in {} seconds'.format(round(stop_measure-start_measure),2))"
   ]
  },
  {
   "cell_type": "markdown",
   "metadata": {},
   "source": [
    "### Lock\n",
    "Sometimes in paralel threads a collision can occurre.  \n",
    "e.g.: Worker stop sleeping.Worker stop sleeping. in one line could happen (see multiple threads section)  \n",
    "The simpliest method to avoid this collisions is threading.Lock()  \n",
    "Lock allows to exectue the function only one thread"
   ]
  },
  {
   "cell_type": "code",
   "execution_count": 11,
   "metadata": {},
   "outputs": [],
   "source": [
    "lock = threading.Lock()\n",
    "def worker():\n",
    "    with lock: #locks the printing\n",
    "        print(\"Worker start sleeping.\")\n",
    "    time.sleep(1) #sleeping is out of the lock\n",
    "    with lock:\n",
    "        print(\"Worker stop sleeping.\") #locks the printing"
   ]
  },
  {
   "cell_type": "code",
   "execution_count": 12,
   "metadata": {},
   "outputs": [
    {
     "name": "stdout",
     "output_type": "stream",
     "text": [
      "Worker start sleeping.\n",
      "Worker start sleeping.\n",
      "Worker stop sleeping.\n",
      "Worker stop sleeping.\n",
      "Finished in 1 seconds\n"
     ]
    }
   ],
   "source": [
    "start_measure = time.time()\n",
    "\n",
    "t1 = threading.Thread(target=worker)\n",
    "t2 = threading.Thread(target=worker)\n",
    "t1.start()\n",
    "t2.start()\n",
    "t1.join()\n",
    "t2.join()\n",
    "\n",
    "stop_measure = time.time()\n",
    "print('Finished in {} seconds'.format(round(stop_measure-start_measure),2))"
   ]
  },
  {
   "cell_type": "markdown",
   "metadata": {},
   "source": [
    "## Multiple paralel threads"
   ]
  },
  {
   "cell_type": "code",
   "execution_count": 13,
   "metadata": {},
   "outputs": [],
   "source": [
    "lock = threading.Lock()\n",
    "def worker(number): #worker with a number\n",
    "    with lock:\n",
    "        print(\"Worker number {} starts sleeping.\".format(number))\n",
    "    time.sleep(1)\n",
    "    with lock:\n",
    "        print(\"Worker number {} stops sleeping.\".format(number))"
   ]
  },
  {
   "cell_type": "code",
   "execution_count": 14,
   "metadata": {},
   "outputs": [
    {
     "name": "stdout",
     "output_type": "stream",
     "text": [
      "Worker number 0 starts sleeping.\n",
      "Worker number 1 starts sleeping.\n",
      "Worker number 2 starts sleeping.\n",
      "Worker number 3 starts sleeping.\n",
      "Worker number 4 starts sleeping.\n",
      "Worker number 5 starts sleeping.\n",
      "Worker number 6 starts sleeping.\n",
      "Worker number 7 starts sleeping.\n",
      "Worker number 8 starts sleeping.\n",
      "Worker number 9 starts sleeping.\n",
      "Worker number 1 stops sleeping.\n",
      "Worker number 0 stops sleeping.\n",
      "Worker number 3 stops sleeping.\n",
      "Worker number 2 stops sleeping.\n",
      "Worker number 5 stops sleeping.\n",
      "Worker number 4 stops sleeping.\n",
      "Worker number 7 stops sleeping.\n",
      "Worker number 6 stops sleeping.\n",
      "Worker number 8 stops sleeping.\n",
      "Worker number 9 stops sleeping.\n"
     ]
    }
   ],
   "source": [
    "for numbers in range(10): #starting 10 threads\n",
    "    t = threading.Thread(target=worker, args=[numbers]) #notice the argument\n",
    "    t.start()"
   ]
  },
  {
   "cell_type": "markdown",
   "metadata": {},
   "source": [
    "### Example without the lock\n",
    "#### Notice the printed lines"
   ]
  },
  {
   "cell_type": "code",
   "execution_count": 15,
   "metadata": {},
   "outputs": [],
   "source": [
    "def worker(number):\n",
    "    print(\"Worker number {} starts sleeping.\".format(number))\n",
    "    time.sleep(1)\n",
    "    print(\"Worker number {} stops sleeping.\".format(number))"
   ]
  },
  {
   "cell_type": "code",
   "execution_count": 16,
   "metadata": {},
   "outputs": [
    {
     "name": "stdout",
     "output_type": "stream",
     "text": [
      "Worker number 0 starts sleeping.\n",
      "Worker number 1 starts sleeping.\n",
      "Worker number 2 starts sleeping.\n",
      "Worker number 3 starts sleeping.\n",
      "Worker number 4 starts sleeping.\n",
      "Worker number 5 starts sleeping.\n",
      "Worker number 6 starts sleeping.\n",
      "Worker number 7 starts sleeping.\n",
      "Worker number 8 starts sleeping.\n",
      "Worker number 9 starts sleeping.\n",
      "Worker number 2 stops sleeping.Worker number 1 stops sleeping.\n",
      "Worker number 0 stops sleeping.\n",
      "\n",
      "Worker number 4 stops sleeping.Worker number 3 stops sleeping.\n",
      "\n",
      "Worker number 6 stops sleeping.Worker number 5 stops sleeping.Worker number 7 stops sleeping.\n",
      "\n",
      "\n",
      "Worker number 8 stops sleeping.Worker number 9 stops sleeping.\n",
      "\n"
     ]
    }
   ],
   "source": [
    "for numbers in range(10):\n",
    "    t = threading.Thread(target=worker, args=[numbers])\n",
    "    t.start()"
   ]
  },
  {
   "cell_type": "markdown",
   "metadata": {},
   "source": [
    "### Bring back the lock"
   ]
  },
  {
   "cell_type": "code",
   "execution_count": 17,
   "metadata": {},
   "outputs": [],
   "source": [
    "lock = threading.Lock()\n",
    "def worker(number):\n",
    "    with lock:\n",
    "        print(\"Worker number {} starts sleeping.\".format(number))\n",
    "    time.sleep(1)\n",
    "    with lock:\n",
    "        print(\"Worker number {} stops sleeping.\".format(number))"
   ]
  },
  {
   "cell_type": "markdown",
   "metadata": {},
   "source": [
    "### join() method for multiple threads"
   ]
  },
  {
   "cell_type": "code",
   "execution_count": 18,
   "metadata": {},
   "outputs": [
    {
     "name": "stdout",
     "output_type": "stream",
     "text": [
      "Worker number 0 starts sleeping.\n",
      "Worker number 1 starts sleeping.\n",
      "Worker number 2 starts sleeping.\n",
      "Worker number 3 starts sleeping.\n",
      "Worker number 4 starts sleeping.\n",
      "Worker number 5 starts sleeping.\n",
      "Worker number 6 starts sleeping.\n",
      "Worker number 7 starts sleeping.\n",
      "Worker number 8 starts sleeping.\n",
      "Worker number 9 starts sleeping.\n",
      "Worker number 0 stops sleeping.\n",
      "Worker number 2 stops sleeping.\n",
      "Worker number 3 stops sleeping.\n",
      "Worker number 4 stops sleeping.\n",
      "Worker number 1 stops sleeping.\n",
      "Worker number 5 stops sleeping.\n",
      "Worker number 6 stops sleeping.\n",
      "Worker number 7 stops sleeping.\n",
      "Worker number 8 stops sleeping.\n",
      "Worker number 9 stops sleeping.\n",
      "Finished in 1 seconds\n"
     ]
    }
   ],
   "source": [
    "start_measure = time.time()\n",
    "\n",
    "threads = [] #prepare a list for future threads\n",
    "for numbers in range(10):\n",
    "    t = threading.Thread(target=worker, args=[numbers])\n",
    "    t.start()\n",
    "    threads.append(t)\n",
    "    \n",
    "for thread in threads: #join method for all threads\n",
    "    thread.join()\n",
    "    \n",
    "stop_measure = time.time()\n",
    "print('Finished in {} seconds'.format(round(stop_measure-start_measure),2))\n",
    "    \n",
    "    "
   ]
  },
  {
   "cell_type": "markdown",
   "metadata": {},
   "source": [
    "## Example: downloading images\n",
    "It is faster to download multiple images in paralell than sequentially"
   ]
  },
  {
   "cell_type": "code",
   "execution_count": 33,
   "metadata": {},
   "outputs": [
    {
     "name": "stdout",
     "output_type": "stream",
     "text": [
      "photo-1516117172878-fd2c41f4a759.jpg was downloaded...\n",
      "photo-1507143550189-fed454f93097.jpg was downloaded...\n",
      "photo-1564135624576-c5c88640f235.jpg was downloaded...\n",
      "photo-1549692520-acc6669e2f0c.jpg was downloaded...\n",
      "photo-1516972810927-80185027ca84.jpg was downloaded...\n",
      "photo-1530122037265-a5f1f91d3b99.jpg was downloaded...\n",
      "photo-1504198453319-5ce911bafcde.jpg was downloaded...\n",
      "photo-1524429656589-6633a470097c.jpg was downloaded...\n",
      "photo-1530224264768-7ff8c1789d79.jpg was downloaded...\n",
      "photo-1513938709626-033611b8cc03.jpg was downloaded...\n",
      "photo-1532009324734-20a7a5813719.jpg was downloaded...\n",
      "photo-1522364723953-452d3431c267.jpg was downloaded...\n",
      "photo-1550439062-609e1531270e.jpg was downloaded...\n",
      "photo-1541698444083-023c97d3f4b6.jpg was downloaded...\n",
      "photo-1493976040374-85c8e12f0c0e.jpg was downloaded...\n",
      "Finished in 2.0433380603790283 seconds\n"
     ]
    }
   ],
   "source": [
    "import requests\n",
    "\n",
    "# image urls for download\n",
    "img_urls = [\n",
    "    'https://images.unsplash.com/photo-1516117172878-fd2c41f4a759',\n",
    "    'https://images.unsplash.com/photo-1532009324734-20a7a5813719',\n",
    "    'https://images.unsplash.com/photo-1524429656589-6633a470097c',\n",
    "    'https://images.unsplash.com/photo-1530224264768-7ff8c1789d79',\n",
    "    'https://images.unsplash.com/photo-1564135624576-c5c88640f235',\n",
    "    'https://images.unsplash.com/photo-1541698444083-023c97d3f4b6',\n",
    "    'https://images.unsplash.com/photo-1522364723953-452d3431c267',\n",
    "    'https://images.unsplash.com/photo-1513938709626-033611b8cc03',\n",
    "    'https://images.unsplash.com/photo-1507143550189-fed454f93097',\n",
    "    'https://images.unsplash.com/photo-1493976040374-85c8e12f0c0e',\n",
    "    'https://images.unsplash.com/photo-1504198453319-5ce911bafcde',\n",
    "    'https://images.unsplash.com/photo-1530122037265-a5f1f91d3b99',\n",
    "    'https://images.unsplash.com/photo-1516972810927-80185027ca84',\n",
    "    'https://images.unsplash.com/photo-1550439062-609e1531270e',\n",
    "    'https://images.unsplash.com/photo-1549692520-acc6669e2f0c'\n",
    "]\n",
    "\n",
    "start_measure = time.time()\n",
    "\n",
    "# Function for downloading\n",
    "def download_image(img_url):\n",
    "    img_bytes = requests.get(img_url).content\n",
    "    img_name = img_url.split('/')[3] #a way how to name the picture\n",
    "    img_name = '{}.jpg'.format(img_name)\n",
    "    with open(img_name, 'wb') as img_file:\n",
    "        img_file.write(img_bytes)\n",
    "        print('{} was downloaded...'.format(img_name))\n",
    "        \n",
    "threads = [] #prepare a list for future threads\n",
    "\n",
    "for url in img_urls:\n",
    "    t = threading.Thread(target=download_image, args=[url])\n",
    "    t.start()\n",
    "    threads.append(t)\n",
    "    \n",
    "for thread in threads: #join method for all threads\n",
    "    thread.join()\n",
    "\n",
    "stop_measure = time.time()\n",
    "\n",
    "print('Finished in {} seconds'.format(stop_measure-start_measure))"
   ]
  },
  {
   "cell_type": "code",
   "execution_count": null,
   "metadata": {},
   "outputs": [],
   "source": []
  }
 ],
 "metadata": {
  "kernelspec": {
   "display_name": "Python 3",
   "language": "python",
   "name": "python3"
  },
  "language_info": {
   "codemirror_mode": {
    "name": "ipython",
    "version": 3
   },
   "file_extension": ".py",
   "mimetype": "text/x-python",
   "name": "python",
   "nbconvert_exporter": "python",
   "pygments_lexer": "ipython3",
   "version": "3.8.8"
  }
 },
 "nbformat": 4,
 "nbformat_minor": 2
}
