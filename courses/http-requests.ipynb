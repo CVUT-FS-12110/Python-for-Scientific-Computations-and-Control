{
 "cells": [
  {
   "cell_type": "markdown",
   "metadata": {},
   "source": [
    "# HTTP requests\n",
    "In this tutorial it is covered how to make requests via HTTP protocol. \n",
    "For more informations about related stuff see:\n",
    "* <a href=\"https://en.wikipedia.org/wiki/Hypertext_Transfer_Protocol\">Hypertext Transfer Protocol (HTTP)</a>\n",
    "* <a href=\"https://en.wikipedia.org/wiki/JSON\">JavaScript Object Notation</a>\n",
    "* <a href=\"https://en.wikipedia.org/wiki/HTML\">HyperText Markup Language (HTML)</a>\n",
    "\n",
    "Keep in mind, that in this tutorial we work only with a static content. How to obtain web dynamic content is not covered in this tutorial. If you want to deal with dynamic content, study <a href=\"http://selenium-python.readthedocs.io/\">Selenium Python Bindings</a>.\n",
    "\n",
    "## Get HTML page content\n",
    "In this section there are examples how to get HTTP response with two different libraries:\n",
    "* <a href=\"https://docs.python.org/3.4/library/urllib.html?highlight=urllib\">urllib</a> (standard library in Python 3)\n",
    "* <a href=\"http://docs.python-requests.org/en/master/\">Requests</a> (instalable through pip)\n",
    "\n",
    "In this tutorial is used the Requests library as a prefered option.\n",
    "\n",
    "### Urlib2 library\n",
    "Example how to get static content of web page with Urlib2 follows:"
   ]
  },
  {
   "cell_type": "code",
   "execution_count": 1,
   "metadata": {},
   "outputs": [
    {
     "name": "stdout",
     "output_type": "stream",
     "text": [
      "Status code: 200\n"
     ]
    }
   ],
   "source": [
    "from urllib.request import urlopen\n",
    "\n",
    "r = urlopen('https://www.python.org')\n",
    "data = r.read()\n",
    "\n",
    "print(\"Status code:\", r.getcode())"
   ]
  },
  {
   "cell_type": "markdown",
   "metadata": {},
   "source": [
    "The variable `data` contains returned HTML code (full page) as string. You can process it, save it, or do anything else you need.\n",
    "\n",
    "### Requests\n",
    "Example how to get static content of web page with Requests follows."
   ]
  },
  {
   "cell_type": "code",
   "execution_count": 2,
   "metadata": {},
   "outputs": [
    {
     "name": "stdout",
     "output_type": "stream",
     "text": [
      "Status code: 200\n"
     ]
    }
   ],
   "source": [
    "import requests\n",
    "\n",
    "r = requests.get(\"http://www.python.org/\")\n",
    "data = r.text\n",
    "\n",
    "print(\"Status code:\", r.status_code)"
   ]
  },
  {
   "cell_type": "markdown",
   "metadata": {},
   "source": [
    "## Get JSON data from an API\n",
    "This task is demonstrated on Open Notify - an open source project that provides a simple programming interface for some of NASA’s awesome data.\n",
    "\n",
    "The examples bellow cover how to obtain current possition of ISS. With Requests library it is possible to get the JSON from the API in the same way as HTML data."
   ]
  },
  {
   "cell_type": "code",
   "execution_count": 3,
   "metadata": {},
   "outputs": [
    {
     "data": {
      "text/plain": [
       "{'timestamp': 1634555668,\n",
       " 'iss_position': {'latitude': '40.9206', 'longitude': '-59.2874'},\n",
       " 'message': 'success'}"
      ]
     },
     "execution_count": 3,
     "metadata": {},
     "output_type": "execute_result"
    }
   ],
   "source": [
    "import requests\n",
    "\n",
    "r = requests.get(\"http://api.open-notify.org/iss-now.json\")\n",
    "obj = r.json()\n",
    "\n",
    "obj"
   ]
  },
  {
   "cell_type": "markdown",
   "metadata": {},
   "source": [
    "The Requests function `json()` convert the json response to Python dictionary. In next code block is demonstrated how to get data from obtained response.\n",
    "\n",
    "## Persistent session with Requests\n",
    "Session with Requests are handy for cases where you need to use same cookies (session cookies for example) or authentication for multiple requests."
   ]
  },
  {
   "cell_type": "code",
   "execution_count": 4,
   "metadata": {},
   "outputs": [
    {
     "name": "stdout",
     "output_type": "stream",
     "text": [
      "No cookies on start: \n",
      "{}\n",
      "\n",
      "A cookie from google: \n",
      "{'NID': '511=H0fjPJtZgci--uQUAfV-rQpEIrrwbQcxd6qjQ258rbZWixKavt4Xfio1SeUyCRSzRAM_Gb9XUuS9qRFwsl4fQUss08FCzNLZctP5dZoVCIod1zrK8j_k4aSZihfgh0FnyQacby7z81_v2kuscM3dNPcn5klhHfwqAN4zoyBFc2s'}\n",
      "\n",
      "The cookie is perstent:\n",
      "{'NID': '511=H0fjPJtZgci--uQUAfV-rQpEIrrwbQcxd6qjQ258rbZWixKavt4Xfio1SeUyCRSzRAM_Gb9XUuS9qRFwsl4fQUss08FCzNLZctP5dZoVCIod1zrK8j_k4aSZihfgh0FnyQacby7z81_v2kuscM3dNPcn5klhHfwqAN4zoyBFc2s'}\n"
     ]
    }
   ],
   "source": [
    "s = requests.Session()\n",
    "print(\"No cookies on start: \")\n",
    "print(dict(s.cookies))\n",
    "r = s.get('http://google.cz/')\n",
    "print(\"\\nA cookie from google: \")\n",
    "print(dict(s.cookies))\n",
    "r = s.get('http://google.cz/?q=cat')\n",
    "print(\"\\nThe cookie is perstent:\")\n",
    "print(dict(s.cookies))"
   ]
  },
  {
   "cell_type": "markdown",
   "metadata": {},
   "source": [
    "Compare the output of the code above, with the example bellow."
   ]
  },
  {
   "cell_type": "code",
   "execution_count": 5,
   "metadata": {},
   "outputs": [
    {
     "name": "stdout",
     "output_type": "stream",
     "text": [
      "\n",
      "A cookie from google: \n",
      "{'NID': '511=G014Nv324rOwZWqh2dhkEKeNkUJzMoJP9-6ASLdjKVHRjT4Unsf7im4nqn95qYVZThTua7iCafXG5BqZ1H0DeZ7uRbrGZe-_R-WnufIwoEHDhB0KEWoyW6XsJRoLi8pUIbcqB4QqdNOAIPZrH4BVEEsrRv7gz4vdH89Ysr0Ygwg'}\n",
      "\n",
      "Different cookie:\n",
      "{'NID': '511=auK58rh_oXN7sQ48u4tKqL7t0aGuYnJwTjp4PpJqqobiJh0A7sx0N6_ODz0FeH8zNN9qSyhNpPwdqQF883tyQaQBwCgHQLieREXbZhSL2i7wury5c8rKWweYq7WOY-f2Dqx50FLdoT6vC8mlWkzh6LIMScLZFK81lU2zlgHztcA'}\n"
     ]
    }
   ],
   "source": [
    "r = requests.get('http://google.cz/')\n",
    "print(\"\\nA cookie from google: \")\n",
    "print(dict(r.cookies))\n",
    "r = requests.get('http://google.cz/?q=cat')\n",
    "print(\"\\nDifferent cookie:\")\n",
    "print(dict(r.cookies))"
   ]
  },
  {
   "cell_type": "markdown",
   "metadata": {},
   "source": [
    "## Custom headers\n",
    "Headers of the response are easy to check, example follows."
   ]
  },
  {
   "cell_type": "code",
   "execution_count": 6,
   "metadata": {},
   "outputs": [
    {
     "name": "stdout",
     "output_type": "stream",
     "text": [
      "{'Connection': 'keep-alive', 'Content-Length': '49822', 'Server': 'nginx', 'Content-Type': 'text/html; charset=utf-8', 'X-Frame-Options': 'DENY', 'Via': '1.1 vegur, 1.1 varnish, 1.1 varnish', 'Accept-Ranges': 'bytes', 'Date': 'Mon, 18 Oct 2021 11:14:30 GMT', 'Age': '2845', 'X-Served-By': 'cache-bwi5152-BWI, cache-fra19181-FRA', 'X-Cache': 'HIT, HIT', 'X-Cache-Hits': '1, 14', 'X-Timer': 'S1634555670.035343,VS0,VE0', 'Vary': 'Cookie', 'Strict-Transport-Security': 'max-age=63072000; includeSubDomains'}\n"
     ]
    }
   ],
   "source": [
    "r = requests.get(\"http://www.python.org/\")\n",
    "print(r.headers)"
   ]
  },
  {
   "cell_type": "markdown",
   "metadata": {},
   "source": [
    "The request headers can be modified in simple way as follows."
   ]
  },
  {
   "cell_type": "code",
   "execution_count": 7,
   "metadata": {},
   "outputs": [
    {
     "name": "stdout",
     "output_type": "stream",
     "text": [
      "200\n"
     ]
    }
   ],
   "source": [
    "headers = {\n",
    "    \"Accept\": \"text/plain\",\n",
    "}\n",
    "\n",
    "r = requests.get(\"http://www.python.org/\", headers=headers)\n",
    "print(r.status_code)"
   ]
  },
  {
   "cell_type": "markdown",
   "metadata": {},
   "source": [
    "More information about HTTP headers can be found at <a href=\"https://en.wikipedia.org/wiki/List_of_HTTP_header_fields\">List of HTTP header fields wikipedia page</a>."
   ]
  },
  {
   "cell_type": "markdown",
   "metadata": {},
   "source": [
    "## Cutom parameters"
   ]
  },
  {
   "cell_type": "code",
   "execution_count": 8,
   "metadata": {},
   "outputs": [
    {
     "data": {
      "text/plain": [
       "{'candles': [{'close': 0.062871,\n",
       "   'high': 0.063237,\n",
       "   'low': 0.0612,\n",
       "   'open': 0.06234,\n",
       "   'timestamp': 1634083200000,\n",
       "   'volume': 92339.9961},\n",
       "  {'close': 0.066111,\n",
       "   'high': 0.06686,\n",
       "   'low': 0.062024,\n",
       "   'open': 0.062873,\n",
       "   'timestamp': 1634169600000,\n",
       "   'volume': 159665.5505},\n",
       "  {'close': 0.062732,\n",
       "   'high': 0.0662,\n",
       "   'low': 0.061943,\n",
       "   'open': 0.066112,\n",
       "   'timestamp': 1634256000000,\n",
       "   'volume': 155629.485},\n",
       "  {'close': 0.062912,\n",
       "   'high': 0.064524,\n",
       "   'low': 0.061925,\n",
       "   'open': 0.062727,\n",
       "   'timestamp': 1634342400000,\n",
       "   'volume': 109260.5606},\n",
       "  {'close': 0.062526,\n",
       "   'high': 0.06443,\n",
       "   'low': 0.061768,\n",
       "   'open': 0.062913,\n",
       "   'timestamp': 1634428800000,\n",
       "   'volume': 95679.664}]}"
      ]
     },
     "execution_count": 8,
     "metadata": {},
     "output_type": "execute_result"
    }
   ],
   "source": [
    "url = \"https://cryptocandledata.com/api/candles\"\n",
    "\n",
    "PAIR = \"ETHBTC\"\n",
    "\n",
    "payload = {\n",
    "    \"exchange\": \"binance\",\n",
    "    \"tradingPair\": PAIR,\n",
    "    \"interval\": \"1d\",\n",
    "    \"startDateTime\": 1634151628,\n",
    "    \"endDateTime\": 1634555628\n",
    "}\n",
    "\n",
    "r = requests.get(url, params=payload)\n",
    "r.json()"
   ]
  },
  {
   "cell_type": "code",
   "execution_count": null,
   "metadata": {},
   "outputs": [],
   "source": []
  }
 ],
 "metadata": {
  "kernelspec": {
   "display_name": "Python 3 (ipykernel)",
   "language": "python",
   "name": "python3"
  },
  "language_info": {
   "codemirror_mode": {
    "name": "ipython",
    "version": 3
   },
   "file_extension": ".py",
   "mimetype": "text/x-python",
   "name": "python",
   "nbconvert_exporter": "python",
   "pygments_lexer": "ipython3",
   "version": "3.8.10"
  }
 },
 "nbformat": 4,
 "nbformat_minor": 2
}
