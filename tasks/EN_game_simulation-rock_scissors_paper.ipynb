{
 "cells": [
  {
   "cell_type": "markdown",
   "metadata": {},
   "source": [
    "# Game simulation: \"Rock, scissors, paper\" (https://en.wikipedia.org/wiki/Rock_paper_scissors)"
   ]
  },
  {
   "cell_type": "markdown",
   "metadata": {},
   "source": [
    "Create simple program that simulates `N` number of games. The players are defined with dictionary of probabilites (how often) they play specific \"finger forming\". Data input have to be as follows:"
   ]
  },
  {
   "cell_type": "code",
   "execution_count": 1,
   "metadata": {},
   "outputs": [],
   "source": [
    "N = 1000\n",
    "\n",
    "PLAYER_A = {\n",
    "    \"paper\": 0.8,\n",
    "    \"scissors\": 0.1,\n",
    "    \"rock\": 0.1,\n",
    "}\n",
    "\n",
    "PLAYER_B = {\n",
    "    \"paper\": 0.1,\n",
    "    \"scissors\": 0.8,\n",
    "    \"rock\": 0.1,\n",
    "}"
   ]
  },
  {
   "cell_type": "markdown",
   "metadata": {},
   "source": [
    "Notes:\n",
    "\n",
    "* sum of all probabilites for a player should be always 1\n",
    "* user can change the `N` and players strategy (probabilites defining player)\n",
    "* output of the program should be human understandable, for example: \"Player A wins x games, Player B wins y games, leftover z games were ties\"\n",
    "* you can use functions and classes (it is optional)\n",
    "* the program input (`N`, `PLAYER_A`, `PLAYER_B`) should be provided in the same way as in the example here\n",
    "* see test cases (A = player A, B = player B, T - tie) to understand what should be output of your program\n",
    "\n",
    "Hint - use Python random library to generate the rolls. For example:"
   ]
  },
  {
   "cell_type": "code",
   "execution_count": 2,
   "metadata": {},
   "outputs": [],
   "source": [
    "import random\n",
    "\n",
    "prob = random.uniform(0, 1) # return float 0-1\n",
    "\n",
    "# or\n",
    "\n",
    "case = random.randint(1, 3) # return: 1, 2, 3"
   ]
  },
  {
   "cell_type": "markdown",
   "metadata": {},
   "source": [
    "## Test case 1"
   ]
  },
  {
   "cell_type": "code",
   "execution_count": 3,
   "metadata": {},
   "outputs": [],
   "source": [
    "N = 1000\n",
    "\n",
    "PLAYER_A = {\n",
    "    \"paper\": 0.8,\n",
    "    \"scissors\": 0.1,\n",
    "    \"rock\": 0.1,\n",
    "}\n",
    "\n",
    "PLAYER_B = {\n",
    "    \"paper\": 0.1,\n",
    "    \"scissors\": 0.8,\n",
    "    \"rock\": 0.1,\n",
    "}"
   ]
  },
  {
   "cell_type": "markdown",
   "metadata": {},
   "source": [
    "Approximate output (could vary slightly because of the randomness):"
   ]
  },
  {
   "cell_type": "markdown",
   "metadata": {},
   "source": [
    "A: 172  \n",
    "\n",
    "B: 641\n",
    "\n",
    "T: 187"
   ]
  },
  {
   "cell_type": "markdown",
   "metadata": {},
   "source": [
    "## Test case 2"
   ]
  },
  {
   "cell_type": "code",
   "execution_count": 1,
   "metadata": {},
   "outputs": [],
   "source": [
    "N = 100\n",
    "\n",
    "PLAYER_A = {\n",
    "    \"paper\": 0,\n",
    "    \"scissors\": 1,\n",
    "    \"rock\": 0,\n",
    "}\n",
    "\n",
    "PLAYER_B = {\n",
    "    \"paper\": 0,\n",
    "    \"scissors\": 0,\n",
    "    \"rock\": 1,\n",
    "}"
   ]
  },
  {
   "cell_type": "markdown",
   "metadata": {},
   "source": [
    "This output is quite exact:\n",
    "\n",
    "A: 0\n",
    "\n",
    "B: 100\n",
    "\n",
    "T: 0"
   ]
  },
  {
   "cell_type": "code",
   "execution_count": null,
   "metadata": {},
   "outputs": [],
   "source": []
  }
 ],
 "metadata": {
  "kernelspec": {
   "display_name": "Python 3",
   "language": "python",
   "name": "python3"
  },
  "language_info": {
   "codemirror_mode": {
    "name": "ipython",
    "version": 3
   },
   "file_extension": ".py",
   "mimetype": "text/x-python",
   "name": "python",
   "nbconvert_exporter": "python",
   "pygments_lexer": "ipython3",
   "version": "3.9.1"
  }
 },
 "nbformat": 4,
 "nbformat_minor": 2
}
