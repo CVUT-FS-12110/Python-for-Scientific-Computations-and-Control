{
 "cells": [
  {
   "cell_type": "markdown",
   "metadata": {},
   "source": [
    "# Task - NumPy a Matplotlib\n",
    "## Discrete solver of LTI systems using state space representation:\n",
    "\n",
    "<ol>\n",
    "   <li>State space representation: <a href=\"https://en.wikipedia.org/wiki/State-space_representation\">https://en.wikipedia.org/wiki/State-space_representation</a></li>    \n",
    "  <li>Discrete state space representation:\n",
    "      $$\\boldsymbol{x}(k+1) = \\boldsymbol{Ax}(k) + \\boldsymbol{Bu}(k)$$<br>\n",
    "  <li>Make a function or class of LTI system simulator. <br>\n",
    "    Input is: matrices $\\boldsymbol{A, B}$, the initial condition vector $\\boldsymbol{x}(0)$, time vector and input (control) vector $\\boldsymbol{u}(k)$. <br>\n",
    "    Output is: State variables vector $\\boldsymbol{x}(k)$ and time.\n",
    " \n",
    "</li>\n",
    "  <li>Choose any LTI system you want (at least second order system) and make a simulation using your class or function.\n",
    "  </li>\n",
    "  <li>Make a simulation of the same LTI system using one of Scipy solvers.\n",
    "  </li>\n",
    "  <li>Make a visualization of comparison of your solver with Scipy solver.<br>\n",
    "    Figures should contain labels, title, legend etc.\n",
    "    </li>\n",
    "   <li><strong>For your LTI solver you can use only Numpy package. Do not forget to comment your steps properly</strong></li>\n",
    "</ol>"
   ]
  },
  {
   "cell_type": "code",
   "execution_count": null,
   "metadata": {},
   "outputs": [],
   "source": []
  }
 ],
 "metadata": {
  "kernelspec": {
   "display_name": "Python 3",
   "language": "python",
   "name": "python3"
  },
  "language_info": {
   "codemirror_mode": {
    "name": "ipython",
    "version": 3
   },
   "file_extension": ".py",
   "mimetype": "text/x-python",
   "name": "python",
   "nbconvert_exporter": "python",
   "pygments_lexer": "ipython3",
   "version": "3.8.8"
  }
 },
 "nbformat": 4,
 "nbformat_minor": 2
}
