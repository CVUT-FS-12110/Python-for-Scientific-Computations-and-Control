{
 "cells": [
  {
   "cell_type": "markdown",
   "metadata": {},
   "source": [
    "# Class representing image"
   ]
  },
  {
   "cell_type": "markdown",
   "metadata": {},
   "source": [
    "Implement logic in `constructor` all `class methods` and `properties` in class `ImageBR` based on names and docstrings."
   ]
  },
  {
   "cell_type": "code",
   "execution_count": 3,
   "metadata": {},
   "outputs": [],
   "source": [
    "import numpy as np\n",
    "import cv2 as cv"
   ]
  },
  {
   "cell_type": "code",
   "execution_count": 4,
   "metadata": {},
   "outputs": [
    {
     "ename": "SyntaxError",
     "evalue": "invalid syntax (<ipython-input-4-f4b51545edb7>, line 56)",
     "output_type": "error",
     "traceback": [
      "\u001b[0;36m  File \u001b[0;32m\"<ipython-input-4-f4b51545edb7>\"\u001b[0;36m, line \u001b[0;32m56\u001b[0m\n\u001b[0;31m    def histogram(self): -> np.ndarray:\u001b[0m\n\u001b[0m                          ^\u001b[0m\n\u001b[0;31mSyntaxError\u001b[0m\u001b[0;31m:\u001b[0m invalid syntax\n"
     ]
    }
   ],
   "source": [
    "class ImageBGR:\n",
    "\n",
    "    def __init__(self, file: str = None, image: np.ndarray = None):\n",
    "        if file:\n",
    "            self.__image = None  # load the image from file -- your code here\n",
    "        elif image:\n",
    "            self.__image = None # load the image from ndarray -- your code here\n",
    "        else:\n",
    "            raise AttributeError(\"\") # add your code for the case of the error\n",
    "        \n",
    "    def gray(self) -> np.ndarray:\n",
    "        \"\"\"\n",
    "        Returns the image in grayscale\n",
    "        \"\"\"\n",
    "        \n",
    "        return None #your code here\n",
    "        \n",
    "    def lab(self) -> np.ndarray:\n",
    "        \"\"\"\n",
    "        Returns the image in Lab color format\n",
    "        \"\"\"\n",
    "       \n",
    "        return None #your code here\n",
    "    \n",
    "        \n",
    "    def rgb(self) -> np.ndarray:\n",
    "        \"\"\"\n",
    "        Returns the image in RGB color format\n",
    "        \"\"\"\n",
    "\n",
    "        return None #your code here\n",
    "        \n",
    "    def bgr(self) -> np.ndarray:\n",
    "        \"\"\"\n",
    "        Returns the image in BGR color format\n",
    "        \"\"\"\n",
    "        \n",
    "        return None #your code here\n",
    "        \n",
    "    def resize(self, width: int, height: int) -> 'ImageBGR':\n",
    "        \"\"\"\n",
    "        Returns a new instance of ImageBGR class but with a new image shape that is gotten by OpenCV resize function\n",
    "        \"\"\"\n",
    "                \n",
    "        return None #your code here\n",
    "        \n",
    "    def rotate(self, angle: int, keep_ratio: bool) -> 'ImageBGR':\n",
    "        \"\"\"\n",
    "        Returns a new instance of ImageBGR class containing the image from the original instance of the ImageBGR class but rotated by the given angle.\n",
    "        If keep_ratio is set to True, the new image must be the same size as the original. If set to False, the new image must contain the entire image information \n",
    "        from the original image.\n",
    "        \"\"\"\n",
    "        \n",
    "        return None #your code here\n",
    "        \n",
    "    def histogram(self): -> np.ndarray:\n",
    "        \"\"\"\n",
    "        Returns the histogram of the image from its grayscale version.\n",
    "        \"\"\"\n",
    "        \n",
    "        return None #your code here\n",
    "        \n",
    "    @property\n",
    "    def shape(self) -> tuple:\n",
    "        \"\"\"\n",
    "        A function decorated as an attribute that returns the dimensions of the stored image.\n",
    "        \"\"\"\n",
    "        \n",
    "        return (None, None, None) #your code here\n",
    "    \n",
    "    @property\n",
    "    def size(self) -> int:\n",
    "        \"\"\"\n",
    "        A function decorated as an attribute that returns the memory occupied by the image (purely the field in which the image is stored). \n",
    "        \"\"\"\n",
    "        \n",
    "        return None #your code here\n",
    "    "
   ]
  },
  {
   "cell_type": "code",
   "execution_count": null,
   "metadata": {},
   "outputs": [],
   "source": []
  }
 ],
 "metadata": {
  "kernelspec": {
   "display_name": "Python 3",
   "language": "python",
   "name": "python3"
  },
  "language_info": {
   "codemirror_mode": {
    "name": "ipython",
    "version": 3
   },
   "file_extension": ".py",
   "mimetype": "text/x-python",
   "name": "python",
   "nbconvert_exporter": "python",
   "pygments_lexer": "ipython3",
   "version": "3.5.5"
  }
 },
 "nbformat": 4,
 "nbformat_minor": 2
}
