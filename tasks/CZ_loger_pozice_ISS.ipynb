{
 "cells": [
  {
   "cell_type": "markdown",
   "metadata": {},
   "source": [
    "# Logger pozice Mezinárodní vesmírné stanice\n",
    "\n",
    "Napište program, který bude ukládat do CSV souboru polohu ISS. Vlastnosti programu:\n",
    "    \n",
    "- **pokud soubor nexistuje, měl by být vytvořen**. Pokud existuje, informace by měly být přidávány nakonec jako nové řádky\n",
    "- **na začátku souboru by měl být header** (informace o sloupcích)\n",
    "- v případě pádu/ukončení programu by nemělo dojít ke ztrátě dat\n",
    "- soubor by měl být validní CSV (jeden řádek header, ostatní řádky data, každý řádek jeden záznam)\n",
    "- vzorkování ~5s (nemusí být přesné)\n",
    "- jako zdroj informací použijte Open Notify API - http://open-notify.org/Open-Notify-API/ISS-Location-Now/\n",
    "- soubor by měl obsahovat následující sloupce:\n",
    "    * timestamp\n",
    "    * lidsky čitelné datum a čas\n",
    "    * zeměpisná šířka (ve stupních, minutách a sekundách)\n",
    "    * zeměpisná délka (ve stupních, minutách a sekundách)\n",
    "    \n",
    "Poznámky:\n",
    "\n",
    "- pozor na konverzi stupňů v desetiných číslech na stupně, minuty a sekundy\n",
    "- pro převod timestamp do lidsky čitelného datumu použijte lokální časovou zónu a čas vašeho počítače\n",
    "    "
   ]
  }
 ],
 "metadata": {
  "kernelspec": {
   "display_name": "Python 3",
   "language": "python",
   "name": "python3"
  },
  "language_info": {
   "codemirror_mode": {
    "name": "ipython",
    "version": 3
   },
   "file_extension": ".py",
   "mimetype": "text/x-python",
   "name": "python",
   "nbconvert_exporter": "python",
   "pygments_lexer": "ipython3",
   "version": "3.6.7"
  }
 },
 "nbformat": 4,
 "nbformat_minor": 2
}
