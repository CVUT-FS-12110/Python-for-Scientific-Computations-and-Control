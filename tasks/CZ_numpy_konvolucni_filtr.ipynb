{
 "cells": [
  {
   "cell_type": "markdown",
   "metadata": {},
   "source": [
    "# Úkol - NumPy and Matplotlib\n",
    "## Konvoluční filtr:\n",
    "\n",
    "<ol>\n",
    "  <li>Konvoluční filtr: <a href=\"https://en.wikipedia.org/wiki/Kernel_(image_processing)\">https://en.wikipedia.org/wiki/Kernel_(image_processing)</a></li>\n",
    "  <li>Naprogramujte funkci, která aplikuje konvoluční filtr na 2D obrázek</li>\n",
    "  <li>Vstupem by měl být obrázek a konvoluční filtr (n x n). Výstupem by měl být filtrovaný obrázek</li>\n",
    "  <li>Vizualizujte výsledek: Vizualizace by měla obsahovat obrázek \"před\" a \"po\" filtraci. Dále by měla obsahovat popisky, titulek atd.</li>\n",
    "  <li><strong>K řešení můžete použít pouze NumPy a Matplotlib. Nezapomeňte vše řádně okomentovat</strong></li>\n",
    "</ol>"
   ]
  },
  {
   "cell_type": "code",
   "execution_count": null,
   "metadata": {},
   "outputs": [],
   "source": []
  }
 ],
 "metadata": {
  "kernelspec": {
   "display_name": "Python 3",
   "language": "python",
   "name": "python3"
  },
  "language_info": {
   "codemirror_mode": {
    "name": "ipython",
    "version": 3
   },
   "file_extension": ".py",
   "mimetype": "text/x-python",
   "name": "python",
   "nbconvert_exporter": "python",
   "pygments_lexer": "ipython3",
   "version": "3.5.5"
  }
 },
 "nbformat": 4,
 "nbformat_minor": 2
}
