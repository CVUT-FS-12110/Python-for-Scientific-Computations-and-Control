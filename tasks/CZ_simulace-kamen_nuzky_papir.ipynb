{
 "cells": [
  {
   "cell_type": "markdown",
   "metadata": {},
   "source": [
    "# Simulace hry \"Kámen, nůžky, papír\""
   ]
  },
  {
   "cell_type": "markdown",
   "metadata": {},
   "source": [
    "Vytvořte jednoduchý program, který realizuje `N` počet her dvou hráčů definovaných pomocí pravěpodobnosti. Na konci simulace by program měl vrátit výsledek her. Program by měl akceptovat následující vstupy:"
   ]
  },
  {
   "cell_type": "code",
   "execution_count": 1,
   "metadata": {},
   "outputs": [],
   "source": [
    "N = 1000\n",
    "\n",
    "PLAYER_A = {\n",
    "    \"paper\": 0.8,\n",
    "    \"scissors\": 0.1,\n",
    "    \"rock\": 0.1,\n",
    "}\n",
    "\n",
    "PLAYER_B = {\n",
    "    \"paper\": 0.1,\n",
    "    \"scissors\": 0.8,\n",
    "    \"rock\": 0.1,\n",
    "}"
   ]
  },
  {
   "cell_type": "markdown",
   "metadata": {},
   "source": [
    "Poznámky:\n",
    "\n",
    "    - očkávajte, že pravděpodobností každého hráče budou zadány vždy správně (součet = 1)\n",
    "    - program musí fungovat pro libovolného hráče a libovolný počet simulací\n",
    "    - výstup z programu může být libovolná dobře čitelná textová rerpezentace výsledků simulace\n",
    "    - můžete použít třídy a/nebo funkce, případně nemusíte"
   ]
  }
 ],
 "metadata": {
  "kernelspec": {
   "display_name": "Python 3",
   "language": "python",
   "name": "python3"
  },
  "language_info": {
   "codemirror_mode": {
    "name": "ipython",
    "version": 3
   },
   "file_extension": ".py",
   "mimetype": "text/x-python",
   "name": "python",
   "nbconvert_exporter": "python",
   "pygments_lexer": "ipython3",
   "version": "3.6.7"
  }
 },
 "nbformat": 4,
 "nbformat_minor": 2
}
