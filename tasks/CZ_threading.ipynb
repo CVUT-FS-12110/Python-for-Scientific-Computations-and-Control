{
 "cells": [
  {
   "cell_type": "markdown",
   "metadata": {},
   "source": [
    "# Task - Multithreading\n",
    "## Použijte multithreading na některý z předchozích úkolů\n",
    "\n",
    "<ol>\n",
    "  <li>Vyberte si jeden úkol</li>\n",
    "  <li>Změřte kolik času zabralo jeho vykonání</li>\n",
    "  <li>Aplikujte multithreading</li>\n",
    "  <li>Porovnejte časy vykonání programu před a po multithredingu</li>\n",
    "</ol>\n",
    "Jedna z možností je aplikace na konvoluční filtr. Například konvoluce pro každou barvu (RGB) může být vykonána nezávisle."
   ]
  },
  {
   "cell_type": "code",
   "execution_count": null,
   "metadata": {},
   "outputs": [],
   "source": []
  }
 ],
 "metadata": {
  "kernelspec": {
   "display_name": "Python 3",
   "language": "python",
   "name": "python3"
  },
  "language_info": {
   "codemirror_mode": {
    "name": "ipython",
    "version": 3
   },
   "file_extension": ".py",
   "mimetype": "text/x-python",
   "name": "python",
   "nbconvert_exporter": "python",
   "pygments_lexer": "ipython3",
   "version": "3.5.5"
  }
 },
 "nbformat": 4,
 "nbformat_minor": 2
}
