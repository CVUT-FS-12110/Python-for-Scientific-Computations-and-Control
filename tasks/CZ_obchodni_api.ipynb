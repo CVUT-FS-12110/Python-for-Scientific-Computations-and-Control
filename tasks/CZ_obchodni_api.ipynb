{
 "cells": [
  {
   "cell_type": "markdown",
   "metadata": {},
   "source": [
    "# Převody měn\n",
    "\n",
    "Vytvořte jednoduchý program:\n",
    "\n",
    "- uživatel poskytne měnový pár z listu `CURRENCIES` - například `GBPCHF` (britská libra na švýcarský frank)\n",
    "- program spočítá převodní poměr pomocí poskytnutého API FOREX směnárny (přes USD (americký dolar) - takže prvně `GBPUSD` a následně `USDCHF`)\n",
    "- program spočítá převodní poměr přes poskytnutné API směnárny s kryptoměnamy (přes BTC (bitcoin))\n",
    "- výstup bude lidsky čitelný text popisující převodní cenu přes USD a BTC\n",
    "\n",
    "## Rady a instrukce"
   ]
  },
  {
   "cell_type": "markdown",
   "metadata": {},
   "source": [
    "Povolené měny (z kterých může uživatel volit):"
   ]
  },
  {
   "cell_type": "code",
   "execution_count": 1,
   "metadata": {},
   "outputs": [],
   "source": [
    "import requests\n",
    "\n",
    "CURRENCIES = (\"EUR\", \"GBP\", \"CHF\", \"CAD\", \"JPY\")"
   ]
  },
  {
   "cell_type": "markdown",
   "metadata": {},
   "source": [
    "Cena v BTC - použijte poslední cenu, buy/sell ceny můžete ignorovat:"
   ]
  },
  {
   "cell_type": "code",
   "execution_count": 2,
   "metadata": {},
   "outputs": [
    {
     "data": {
      "text/plain": [
       "{'USD': {'15m': 5157.92,\n",
       "  'last': 5157.92,\n",
       "  'buy': 5157.92,\n",
       "  'sell': 5157.92,\n",
       "  'symbol': '$'},\n",
       " 'AUD': {'15m': 8640.55,\n",
       "  'last': 8640.55,\n",
       "  'buy': 8640.55,\n",
       "  'sell': 8640.55,\n",
       "  'symbol': '$'},\n",
       " 'BRL': {'15m': 25847.88,\n",
       "  'last': 25847.88,\n",
       "  'buy': 25847.88,\n",
       "  'sell': 25847.88,\n",
       "  'symbol': 'R$'},\n",
       " 'CAD': {'15m': 7352.47,\n",
       "  'last': 7352.47,\n",
       "  'buy': 7352.47,\n",
       "  'sell': 7352.47,\n",
       "  'symbol': '$'},\n",
       " 'CHF': {'15m': 4962.86,\n",
       "  'last': 4962.86,\n",
       "  'buy': 4962.86,\n",
       "  'sell': 4962.86,\n",
       "  'symbol': 'CHF'},\n",
       " 'CLP': {'15m': 4375458.23,\n",
       "  'last': 4375458.23,\n",
       "  'buy': 4375458.23,\n",
       "  'sell': 4375458.23,\n",
       "  'symbol': '$'},\n",
       " 'CNY': {'15m': 36222.52,\n",
       "  'last': 36222.52,\n",
       "  'buy': 36222.52,\n",
       "  'sell': 36222.52,\n",
       "  'symbol': '¥'},\n",
       " 'DKK': {'15m': 35142.99,\n",
       "  'last': 35142.99,\n",
       "  'buy': 35142.99,\n",
       "  'sell': 35142.99,\n",
       "  'symbol': 'kr'},\n",
       " 'EUR': {'15m': 4732.49,\n",
       "  'last': 4732.49,\n",
       "  'buy': 4732.49,\n",
       "  'sell': 4732.49,\n",
       "  'symbol': '€'},\n",
       " 'GBP': {'15m': 4288.2,\n",
       "  'last': 4288.2,\n",
       "  'buy': 4288.2,\n",
       "  'sell': 4288.2,\n",
       "  'symbol': '£'},\n",
       " 'HKD': {'15m': 40060.63,\n",
       "  'last': 40060.63,\n",
       "  'buy': 40060.63,\n",
       "  'sell': 40060.63,\n",
       "  'symbol': '$'},\n",
       " 'INR': {'15m': 383549.32,\n",
       "  'last': 383549.32,\n",
       "  'buy': 383549.32,\n",
       "  'sell': 383549.32,\n",
       "  'symbol': '₹'},\n",
       " 'ISK': {'15m': 723294.93,\n",
       "  'last': 723294.93,\n",
       "  'buy': 723294.93,\n",
       "  'sell': 723294.93,\n",
       "  'symbol': 'kr'},\n",
       " 'JPY': {'15m': 558301.25,\n",
       "  'last': 558301.25,\n",
       "  'buy': 558301.25,\n",
       "  'sell': 558301.25,\n",
       "  'symbol': '¥'},\n",
       " 'KRW': {'15m': 6453123.87,\n",
       "  'last': 6453123.87,\n",
       "  'buy': 6453123.87,\n",
       "  'sell': 6453123.87,\n",
       "  'symbol': '₩'},\n",
       " 'NZD': {'15m': 8732.68,\n",
       "  'last': 8732.68,\n",
       "  'buy': 8732.68,\n",
       "  'sell': 8732.68,\n",
       "  'symbol': '$'},\n",
       " 'PLN': {'15m': 21092.11,\n",
       "  'last': 21092.11,\n",
       "  'buy': 21092.11,\n",
       "  'sell': 21092.11,\n",
       "  'symbol': 'zł'},\n",
       " 'RUB': {'15m': 400606.31,\n",
       "  'last': 400606.31,\n",
       "  'buy': 400606.31,\n",
       "  'sell': 400606.31,\n",
       "  'symbol': 'RUB'},\n",
       " 'SEK': {'15m': 51321.99,\n",
       "  'last': 51321.99,\n",
       "  'buy': 51321.99,\n",
       "  'sell': 51321.99,\n",
       "  'symbol': 'kr'},\n",
       " 'SGD': {'15m': 7402.02,\n",
       "  'last': 7402.02,\n",
       "  'buy': 7402.02,\n",
       "  'sell': 7402.02,\n",
       "  'symbol': '$'},\n",
       " 'THB': {'15m': 167546.19,\n",
       "  'last': 167546.19,\n",
       "  'buy': 167546.19,\n",
       "  'sell': 167546.19,\n",
       "  'symbol': '฿'},\n",
       " 'TRY': {'15m': 33303.47,\n",
       "  'last': 33303.47,\n",
       "  'buy': 33303.47,\n",
       "  'sell': 33303.47,\n",
       "  'symbol': '₺'},\n",
       " 'TWD': {'15m': 156284.95,\n",
       "  'last': 156284.95,\n",
       "  'buy': 156284.95,\n",
       "  'sell': 156284.95,\n",
       "  'symbol': 'NT$'}}"
      ]
     },
     "execution_count": 2,
     "metadata": {},
     "output_type": "execute_result"
    }
   ],
   "source": [
    "r = requests.get(\"https://blockchain.info/ticker\")\n",
    "r.json()"
   ]
  },
  {
   "cell_type": "markdown",
   "metadata": {},
   "source": [
    "Ceny USD z FOREXu můžete získat následujícím způsobem - všimněte si že USD je vždy na prvním místě (`USDxxx`), pokud potřebujete opačný poměr `xxxUSD` tak ho musíte invertovat."
   ]
  },
  {
   "cell_type": "code",
   "execution_count": 3,
   "metadata": {},
   "outputs": [
    {
     "data": {
      "text/plain": [
       "{'rates': {'USDEUR': {'rate': 0.91215, 'timestamp': 1584521764},\n",
       "  'USDGBP': {'rate': 0.83232, 'timestamp': 1584521764},\n",
       "  'USDCHF': {'rate': 0.96232, 'timestamp': 1584521764},\n",
       "  'USDCAD': {'rate': 1.428315, 'timestamp': 1584521764},\n",
       "  'USDJPY': {'rate': 107.590981, 'timestamp': 1584521764}},\n",
       " 'code': 200}"
      ]
     },
     "execution_count": 3,
     "metadata": {},
     "output_type": "execute_result"
    }
   ],
   "source": [
    "PAIRS = [\"USD\" + currency for currency in CURRENCIES]\n",
    "pairs = \",\".join(PAIRS)\n",
    "r = requests.get(\"https://www.freeforexapi.com/api/live?pairs=\" + pairs)\n",
    "r.json()"
   ]
  },
  {
   "cell_type": "markdown",
   "metadata": {},
   "source": [
    "## Shrnutí\n",
    "Uživatel zadá něco jako:"
   ]
  },
  {
   "cell_type": "code",
   "execution_count": null,
   "metadata": {},
   "outputs": [],
   "source": [
    "FROM = \"EUR\"\n",
    "TO = \"JPY\""
   ]
  },
  {
   "cell_type": "markdown",
   "metadata": {},
   "source": [
    "A váš program by měl odpovědět:"
   ]
  },
  {
   "cell_type": "markdown",
   "metadata": {},
   "source": [
    "`At the time: xx.xx.xxxx-xx:xx:xx\n",
    "Conversion rate from EUR to JPY trough USD: 117.89610331138917\n",
    "Conversion rate from EUR to JPY trough BTC: 117.94862593456268`"
   ]
  },
  {
   "cell_type": "markdown",
   "metadata": {},
   "source": [
    "Mějte na paměti že ty převodní poměry takto získané jsou přibližné. Pro přesné poměry by bylo potřeba zahrnout poplatky a spread použitých směnáren pro aktuální čas."
   ]
  },
  {
   "cell_type": "code",
   "execution_count": null,
   "metadata": {},
   "outputs": [],
   "source": []
  }
 ],
 "metadata": {
  "kernelspec": {
   "display_name": "Python 3",
   "language": "python",
   "name": "python3"
  },
  "language_info": {
   "codemirror_mode": {
    "name": "ipython",
    "version": 3
   },
   "file_extension": ".py",
   "mimetype": "text/x-python",
   "name": "python",
   "nbconvert_exporter": "python",
   "pygments_lexer": "ipython3",
   "version": "3.6.7"
  }
 },
 "nbformat": 4,
 "nbformat_minor": 2
}
