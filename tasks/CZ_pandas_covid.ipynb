{
 "cells": [
  {
   "cell_type": "markdown",
   "metadata": {},
   "source": [
    "# Úkol - Pandas\n",
    "## Koronavirus:\n",
    "\n",
    "<ol>\n",
    "  <li>Importujte data o COVID-19 (např. z tohoto <a href=\"https://raw.githubusercontent.com/CSSEGISandData/COVID-19/master/csse_covid_19_data/csse_covid_19_time_series/time_series_covid19_confirmed_global.csv\">odkazu</a>)</li>\n",
    "  <li>Aproximujte časovou řadu všech potvrzených případů exponenciální funkcí</li>\n",
    "  <li>Vizualizujte průběh potvrzených případů i s vaší aproximací včetně rovnice</li>\n",
    "  <li>Vizualizujte počet nakažených pomocí souřadnic (Longitude, Latitude viz. odkaz na data). Čím větší počet nakažených, tím větší marker. Jako pozadí stáhněte libovolnou mapu světa (případně kdo chce, může použít: <a href=\"https://matplotlib.org/basemap/\">Basemap</a>).</li>\n",
    "</ol>"
   ]
  },
  {
   "cell_type": "code",
   "execution_count": null,
   "metadata": {},
   "outputs": [],
   "source": []
  }
 ],
 "metadata": {
  "kernelspec": {
   "display_name": "Python 3",
   "language": "python",
   "name": "python3"
  },
  "language_info": {
   "codemirror_mode": {
    "name": "ipython",
    "version": 3
   },
   "file_extension": ".py",
   "mimetype": "text/x-python",
   "name": "python",
   "nbconvert_exporter": "python",
   "pygments_lexer": "ipython3",
   "version": "3.5.5"
  }
 },
 "nbformat": 4,
 "nbformat_minor": 2
}
