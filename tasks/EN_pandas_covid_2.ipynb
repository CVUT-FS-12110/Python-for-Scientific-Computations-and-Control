{
 "cells": [
  {
   "cell_type": "markdown",
   "metadata": {},
   "source": [
    "# Task - Pandas\n",
    "## Data processing and visualization:\n",
    "\n",
    "<ol>\n",
    "  <li>Import data about COVID-19 (e.g.: <a href=\"https://raw.githubusercontent.com/CSSEGISandData/COVID-19/master/csse_covid_19_data/csse_covid_19_time_series/time_series_covid19_confirmed_global.csv\">link</a> but you can find other)</li>\n",
    "  <li>Filter 4 countries of your choice</li>\n",
    "  <li> Filter the data to have only dates between 8.11.2021 - 8.11.2022</li>\n",
    "  <li>Calculate day-to-day difference of total cases</li>\n",
    "  <li>Plot those day-to-day differences in one figure (4 labeled subplots)</li>\n",
    "  <li>Calculate correlation matrix for those 4 countires (od day-to-day difference)</li>\n",
    "  <li>Plot correlation matrix</li>\n",
    "  <li>Save your filtered dataframe as .xlsx or .csv (your prefered)</li>\n",
    "</ol>"
   ]
  },
  {
   "cell_type": "code",
   "execution_count": null,
   "metadata": {},
   "outputs": [],
   "source": []
  }
 ],
 "metadata": {
  "kernelspec": {
   "display_name": "Python 3 (ipykernel)",
   "language": "python",
   "name": "python3"
  },
  "vscode": {
   "interpreter": {
    "hash": "7c55eeb7f840fce544881ebebb31edebac3603c95a83ad07a8c739587d41ab49"
   }
  }
 },
 "nbformat": 4,
 "nbformat_minor": 2
}
