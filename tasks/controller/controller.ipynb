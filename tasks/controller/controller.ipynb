{
 "cells": [
  {
   "cell_type": "markdown",
   "id": "858265b5",
   "metadata": {},
   "source": [
    "# Task - Control simulation\n",
    "## Design a controller:\n",
    "\n",
    "<ol>\n",
    "  <li>Use the Control course files and run \"simulator.py\". There is a rocket flying against a wind, you can press left or right key to adjust a force of the rocket and you can move against the wind. There is also an updating graph of the rocket x position in time</li>\n",
    "  <li>Add a line or thin rectangle to pygame screen, which will represent desired position, where we want to keep the rocket. You can choose the desired x position (but it has to be inside the pygame screen)</li>\n",
    "  <li>Add an arrow to pygame screen which will represent how strong is the wind force (use the \"force_disturbance\" variable). the lenght of the arrow will be proportional to the \"force_disturbance\"</li>\n",
    "  <li>Design a controller function, which will try to keep the rocket in the desired position. Input should be the desired position and the x position of the rocket (and also your additional parameters of the controller). Output of the controller will be a force, which is added to the disturbance</li>\n",
    "  <li>Add a desired position to the updating graph of x position.</li>\n",
    "  <li>Add a new graph of the controller output force in time</li>\n",
    "</ol>"
   ]
  },
  {
   "cell_type": "code",
   "execution_count": null,
   "id": "6ba76641",
   "metadata": {},
   "outputs": [],
   "source": [
    "|"
   ]
  }
 ],
 "metadata": {
  "kernelspec": {
   "display_name": "Python 3 (ipykernel)",
   "language": "python",
   "name": "python3"
  },
  "language_info": {
   "codemirror_mode": {
    "name": "ipython",
    "version": 3
   },
   "file_extension": ".py",
   "mimetype": "text/x-python",
   "name": "python",
   "nbconvert_exporter": "python",
   "pygments_lexer": "ipython3",
   "version": "3.7.6"
  }
 },
 "nbformat": 4,
 "nbformat_minor": 5
}