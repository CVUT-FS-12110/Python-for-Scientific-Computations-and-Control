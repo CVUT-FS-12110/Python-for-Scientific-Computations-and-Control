{
 "cells": [
  {
   "cell_type": "markdown",
   "metadata": {},
   "source": [
    "# Task - NumPy and Matplotlib\n",
    "## Convolutional filter:\n",
    "\n",
    "<ol>\n",
    "  <li>See <a href=\"https://en.wikipedia.org/wiki/Kernel_(image_processing)\">https://en.wikipedia.org/wiki/Kernel_(image_processing)</a></li>\n",
    "  <li>Program a class or function, which applies a convolutional filter for 2D image.</li>\n",
    "  <li>Input should be an image and convolutional filter (n x n). Output should be filtered image</li>\n",
    "  <li>Visualize the result: Visualization should consist of two images \"before\" and \"after\" filtering. It should also have labels and title.</li>\n",
    "  <li><strong>You can use only NumPy and Matplotlib package! Do not forget to comment your steps</strong></li>\n",
    "</ol>\n",
    "\n",
    "Hint: https://youtu.be/YgtModJ-4cw"
   ]
  },
  {
   "cell_type": "code",
   "execution_count": null,
   "metadata": {},
   "outputs": [],
   "source": []
  }
 ],
 "metadata": {
  "kernelspec": {
   "display_name": "Python 3",
   "language": "python",
   "name": "python3"
  },
  "language_info": {
   "codemirror_mode": {
    "name": "ipython",
    "version": 3
   },
   "file_extension": ".py",
   "mimetype": "text/x-python",
   "name": "python",
   "nbconvert_exporter": "python",
   "pygments_lexer": "ipython3",
   "version": "3.5.5"
  }
 },
 "nbformat": 4,
 "nbformat_minor": 2
}