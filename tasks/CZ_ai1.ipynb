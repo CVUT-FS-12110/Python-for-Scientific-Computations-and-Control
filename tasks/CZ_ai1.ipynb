{
 "cells": [
  {
   "cell_type": "markdown",
   "metadata": {},
   "source": [
    "# Úkol - umělá inteligence 1\n",
    "\n",
    "Pomalu končí docela divoký semestr, jsem si jistý, že máte na práci jiné důležité věci. Někdo možná odevzdává projekt, někdo dokonce závěrečnou práci.\n",
    "\n",
    "Domácí úkol tento týden je najít a podívat se alespoň na jeden článek, pythoní knihovnu nebo video s tématikou **umělá inteligence**. Tento zdroj mi pošlete do emailu, abych se pro změnu něco nového naučil tento týden já."
   ]
  },
  {
   "cell_type": "code",
   "execution_count": null,
   "metadata": {},
   "outputs": [],
   "source": []
  }
 ],
 "metadata": {
  "language_info": {
   "codemirror_mode": {
    "name": "ipython",
    "version": 3
   },
   "file_extension": ".py",
   "mimetype": "text/x-python",
   "name": "python",
   "nbconvert_exporter": "python",
   "pygments_lexer": "ipython3",
   "version": 3
  },
  "orig_nbformat": 2
 },
 "nbformat": 4,
 "nbformat_minor": 2
}