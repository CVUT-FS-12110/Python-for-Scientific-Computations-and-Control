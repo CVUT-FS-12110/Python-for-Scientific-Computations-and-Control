{
 "cells": [
  {
   "cell_type": "markdown",
   "metadata": {},
   "source": [
    "# Activation Functions\n",
    "\n",
    "Explanation: https://en.wikipedia.org/wiki/Activation_function\n",
    "\n",
    "        "
   ]
  },
  {
   "cell_type": "markdown",
   "metadata": {},
   "source": [
    "Create function for for each given activation function below. \n",
    "- **(Do not rename the function names!)**:\n",
    "- **Imports are forbidden**\n"
   ]
  },
  {
   "cell_type": "code",
   "execution_count": null,
   "metadata": {},
   "outputs": [],
   "source": []
  },
  {
   "cell_type": "code",
   "execution_count": 1,
   "metadata": {},
   "outputs": [],
   "source": [
    "def sigmoid(x: float) -> float:\n",
    "    \"\"\"\n",
    "    Compute the sigmoid function for the given input.\n",
    "\n",
    "    Args:\n",
    "        x (float): The input value.\n",
    "\n",
    "    Returns:\n",
    "        float: The sigmoid value of the input.\n",
    "    \"\"\"\n",
    "    return\n",
    "\n",
    "def relu(x: float) -> float:\n",
    "    \"\"\"\n",
    "    Computes the Rectified Linear Unit (ReLU) activation function.\n",
    "\n",
    "    The ReLU function returns the input value if it is positive, and 0 otherwise.\n",
    "\n",
    "    Parameters:\n",
    "    x (float): The input value.\n",
    "\n",
    "    Returns:\n",
    "    float: The output value after applying the ReLU function.\n",
    "    \"\"\"\n",
    "    return \n",
    "\n",
    "def leaky_relu(x: float, alpha=0.01) -> float:\n",
    "    \"\"\"\n",
    "    Applies the leaky ReLU activation function to the input.\n",
    "\n",
    "    Parameters:\n",
    "    - x (float): The input value.\n",
    "    - alpha (float): The slope of the negative part of the function (default: 0.01).\n",
    "\n",
    "    Returns:\n",
    "    - float: The output value after applying the leaky ReLU function.\n",
    "    \"\"\"\n",
    "    return \n",
    "\n",
    "def tanh(x: float) -> float:\n",
    "    \"\"\"\n",
    "    Compute the hyperbolic tangent of a given input.\n",
    "\n",
    "    Parameters:\n",
    "    x (float): The input value.\n",
    "\n",
    "    Returns:\n",
    "    float: The hyperbolic tangent of the input value.\n",
    "    \"\"\"\n",
    "    return \n",
    "\n",
    "def softmax(x: list[float]) -> list[float]:\n",
    "    \"\"\"\n",
    "    Compute the softmax function for a list of values.\n",
    "\n",
    "    Parameters:\n",
    "    x (list[float]): The input list of values.\n",
    "\n",
    "    Returns:\n",
    "    list[float]: The softmax values for the input list.\n",
    "\n",
    "    \"\"\"\n",
    "\n",
    "    return \n"
   ]
  }
 ],
 "metadata": {
  "kernelspec": {
   "display_name": "Python 3",
   "language": "python",
   "name": "python3"
  },
  "language_info": {
   "codemirror_mode": {
    "name": "ipython",
    "version": 3
   },
   "file_extension": ".py",
   "mimetype": "text/x-python",
   "name": "python",
   "nbconvert_exporter": "python",
   "pygments_lexer": "ipython3",
   "version": "3.7.4"
  }
 },
 "nbformat": 4,
 "nbformat_minor": 2
}
