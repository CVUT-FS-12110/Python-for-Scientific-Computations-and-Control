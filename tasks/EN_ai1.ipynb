{
 "cells": [
  {
   "cell_type": "markdown",
   "metadata": {},
   "source": [
    "# Task - Artificial Intelligence\n",
    "\n",
    "The end of a pretty wild semester is almost here. I'm sure you have other important things to do. Some may submit a project, some even a thesis.\n",
    "\n",
    "This week's homework is to find and/or watch at least one article, python library or video on **artificial intelligence**. Email me this resource (or submit it via MS Teams) so We can learn something new this week for a change.\n",
    "\n",
    "The source should be unique and new. :)"
   ]
  },
  {
   "cell_type": "code",
   "execution_count": null,
   "metadata": {},
   "outputs": [],
   "source": []
  }
 ],
 "metadata": {
  "language_info": {
   "codemirror_mode": {
    "name": "ipython",
    "version": 3
   },
   "file_extension": ".py",
   "mimetype": "text/x-python",
   "name": "python",
   "nbconvert_exporter": "python",
   "pygments_lexer": "ipython3",
   "version": 3
  },
  "orig_nbformat": 2
 },
 "nbformat": 4,
 "nbformat_minor": 2
}