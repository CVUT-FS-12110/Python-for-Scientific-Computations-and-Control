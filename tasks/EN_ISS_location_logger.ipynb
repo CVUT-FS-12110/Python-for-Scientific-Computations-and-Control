{
 "cells": [
  {
   "cell_type": "markdown",
   "metadata": {},
   "source": [
    "# International space station (ISS) position logger\n",
    "\n",
    "Write a program that store location of ISS in a [**CSV file**](https://en.wikipedia.org/wiki/Comma-separated_values) in a real time. The program should do:\n",
    "\n",
    "\n",
    "- **it should create CSV file, if it does not exists already**. If the file exists, the program should append new informations at the end of the file.\n",
    "- **first line of the CSV file should be the header** - it should contain names of the columns:\n",
    "  `timestmap, datetime, latitude, longitude`\n",
    "- if program crash/stop, the csv file should reamain uncorrupted\n",
    "- the otput file should be valid CSV (every line is one log, first line is header)\n",
    "- the sampling frequency should be around 5s (how often the data our downloaded and saved in file)\n",
    "- as a source of informations use Open Notify API - http://open-notify.org/Open-Notify-API/ISS-Location-Now/\n",
    "- the file should containt the following columns:\n",
    "    * timestamp\n",
    "    * human readable time and date\n",
    "    * latitude (in degrees, minutes and seconds)\n",
    "    * longitude (in degrees, minutes and seconds)\n",
    "- the csv file path should be provide at the begining of your code as `FILE_PATH = \"data.csv\"` (or any other filename you choose)\n",
    "    \n",
    "    \n",
    "Notes:\n",
    "\n",
    "- beware of the conversion of floating point degees to degress, minutes and seconds\n",
    "- for human readable time and date you can use local time zone of your machine\n",
    "- request sampling does not need to be exactly 5s. If you keep it in +- 0.5s it is good enough.\n",
    "- İMPORTANT: you need to store data into to the file with every new sample - to prevent data lost in case of program/machine crash"
   ]
  },
  {
   "cell_type": "code",
   "execution_count": null,
   "metadata": {},
   "outputs": [],
   "source": []
  }
 ],
 "metadata": {
  "kernelspec": {
   "display_name": "Python 3",
   "language": "python",
   "name": "python3"
  },
  "language_info": {
   "codemirror_mode": {
    "name": "ipython",
    "version": 3
   },
   "file_extension": ".py",
   "mimetype": "text/x-python",
   "name": "python",
   "nbconvert_exporter": "python",
   "pygments_lexer": "ipython3",
   "version": "3.9.1"
  }
 },
 "nbformat": 4,
 "nbformat_minor": 2
}
