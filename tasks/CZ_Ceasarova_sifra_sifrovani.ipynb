{
 "cells": [
  {
   "cell_type": "markdown",
   "metadata": {},
   "source": [
    "# Ceasar cipher (Ceasarova šifra)\n",
    "\n",
    "Vysvětlení: https://en.wikipedia.org/wiki/Caesar_cipher\n",
    "        \n",
    "Online testovací nástroj: https://cryptii.com/pipes/caesar-cipher"
   ]
  },
  {
   "cell_type": "markdown",
   "metadata": {},
   "source": [
    "Napište program který vezme jakoukoliv rozumnou zprávu `MESSAGE` a zašifruje jí pomocí tabulky`TABLE` a libovolně vybraného klíče."
   ]
  },
  {
   "cell_type": "code",
   "execution_count": 1,
   "metadata": {},
   "outputs": [],
   "source": [
    "MESSAGE = \"do not eat all my oranges\"\n",
    "TABLE = 'abcdefghijklmnopqrstuvwxyz '\n",
    "KEY = 1"
   ]
  },
  {
   "cell_type": "markdown",
   "metadata": {},
   "source": [
    "Poznámky:\n",
    "\n",
    "* `KEY` klíč může být jakékoliv rozumně velké celé číslo (-1000 ... 1000)\n",
    "*  korektní řešení pro příklad výše je: `epaopuafbuabmmanzapsbohft`\n"
   ]
  }
 ],
 "metadata": {
  "kernelspec": {
   "display_name": "Python 3",
   "language": "python",
   "name": "python3"
  },
  "language_info": {
   "codemirror_mode": {
    "name": "ipython",
    "version": 3
   },
   "file_extension": ".py",
   "mimetype": "text/x-python",
   "name": "python",
   "nbconvert_exporter": "python",
   "pygments_lexer": "ipython3",
   "version": "3.6.7"
  }
 },
 "nbformat": 4,
 "nbformat_minor": 2
}
