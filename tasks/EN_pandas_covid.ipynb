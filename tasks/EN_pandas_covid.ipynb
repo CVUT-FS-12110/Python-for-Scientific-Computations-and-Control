{
 "cells": [
  {
   "cell_type": "markdown",
   "metadata": {},
   "source": [
    "# Task - Pandas\n",
    "## Data processing and visualization:\n",
    "\n",
    "<ol>\n",
    "  <li>Import data about COVID-19 (e.g.: <a href=\"https://raw.githubusercontent.com/CSSEGISandData/COVID-19/master/csse_covid_19_data/csse_covid_19_time_series/time_series_covid19_confirmed_global.csv\">link</a> but you can find other)</li>\n",
    "  <li>Try to fit imported data from chosen country (last 14 days). You can use SIR model (optional) or simple exponential function for the approximation</li>\n",
    "  <li> Exponential fucntion: $\\a \\cdot e^{b \\cdot t + c}$ </li>\n",
    "  <li>SIR model (optional):  <a href=\"https://scipython.com/book/chapter-8-scipy/additional-examples/the-sir-epidemic-model/\">link</a>   </li>\n",
    "  <li>Visualize chosen data and its approximation using SIR model or exponential function. Visualize also a prediction for next 7 days</li>\n",
    "</ol>"
   ]
  },
  {
   "cell_type": "code",
   "execution_count": null,
   "metadata": {},
   "outputs": [],
   "source": []
  }
 ],
 "metadata": {
  "kernelspec": {
   "display_name": "Python 3",
   "language": "python",
   "name": "python3"
  },
  "language_info": {
   "codemirror_mode": {
    "name": "ipython",
    "version": 3
   },
   "file_extension": ".py",
   "mimetype": "text/x-python",
   "name": "python",
   "nbconvert_exporter": "python",
   "pygments_lexer": "ipython3",
   "version": "3.8.8"
  }
 },
 "nbformat": 4,
 "nbformat_minor": 2
}