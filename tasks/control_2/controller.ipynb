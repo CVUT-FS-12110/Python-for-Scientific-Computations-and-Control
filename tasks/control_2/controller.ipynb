{
 "cells": [
  {
   "cell_type": "markdown",
   "id": "858265b5",
   "metadata": {},
   "source": [
    "# Task - Control simulation\n",
    "## Design a controller:\n",
    "\n",
    "<ol>\n",
    "  <li>Use the Control course files and run \"simulator.py\" (folder:  <a href=\"https://github.com/CVUT-FS-12110/Python-for-Scientific-Computations-and-Control/tree/master/courses/E375004/control2\">here</a>). There is a pendulum on a cart simulation, you can press left or right key to adjust a force applied to cart in x direction.</li>\n",
    "  <li>During the lecture, we controlled the pendulum hanging down. Your goal is to design your controller which can stabilize the inverted pendulum</li>\n",
    "  <li>Add a small random distrubance, which is added to the total force applied to a cart. Add also an arrow to pygame screen which will represent the disturbance. The lenght of the arrow will be proportional to the disturbance force.\n",
    "    <img src=\"control_scheme_pendulum.png\"/>\n",
    "    </li>\n",
    "  <li>Make graphs of x (one sublplot) and theta (second sublplot), and applied force (third subplot). Do not forget to add labels, title, grid, legend</li>\n",
    "</ol>\n",
    "\n",
    "## Bonus Points (+5)\n",
    "\n",
    "You can earn **+5 extra points** (for a total of **15 points**) if you extend the simulation and control design to stabilize a **double inverted pendulum**.\n",
    "\n",
    "To complete this challenge, you must:\n",
    "- Adjust the equations of motion for a **cart with two linked pendulums**\n",
    "- Design a more advanced controller (e.g. hierarchical PID, nested loops, LQR or other creative strategies)\n",
    "- Demonstrate that both pendulums remain balanced **upright**\n",
    "\n",
    "This is a difficult but rewarding extension — go for it if you're feeling confident!\n"
   ]
  },
  {
   "cell_type": "code",
   "execution_count": null,
   "id": "2cf23b8c",
   "metadata": {},
   "outputs": [],
   "source": []
  }
 ],
 "metadata": {
  "kernelspec": {
   "display_name": "Python 3 (ipykernel)",
   "language": "python",
   "name": "python3"
  },
  "language_info": {
   "codemirror_mode": {
    "name": "ipython",
    "version": 3
   },
   "file_extension": ".py",
   "mimetype": "text/x-python",
   "name": "python",
   "nbconvert_exporter": "python",
   "pygments_lexer": "ipython3",
   "version": "3.7.6"
  }
 },
 "nbformat": 4,
 "nbformat_minor": 5
}
