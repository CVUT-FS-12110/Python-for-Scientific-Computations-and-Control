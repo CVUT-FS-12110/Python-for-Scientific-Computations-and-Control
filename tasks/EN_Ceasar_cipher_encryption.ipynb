{
 "cells": [
  {
   "cell_type": "markdown",
   "metadata": {},
   "source": [
    "# Ceasar cipher encryption\n",
    "\n",
    "Explanation: https://en.wikipedia.org/wiki/Caesar_cipher\n",
    "        \n",
    "Online test tool: https://cryptii.com/pipes/caesar-cipher"
   ]
  },
  {
   "cell_type": "markdown",
   "metadata": {},
   "source": [
    "Create program that crypt any `MESSAGE` according to any `TABLE` with any given KEY using Ceasar cipher. Use following variables (their names)"
   ]
  },
  {
   "cell_type": "code",
   "execution_count": 1,
   "metadata": {},
   "outputs": [],
   "source": [
    "MESSAGE = \"do not eat all my oranges\"\n",
    "TABLE = 'abcdefghijklmnopqrstuvwxyz '\n",
    "KEY = 1"
   ]
  },
  {
   "cell_type": "markdown",
   "metadata": {},
   "source": [
    "Notes:\n",
    "\n",
    "* `KEY` can be positive or negative number of any reasonable size (-1000 ... 1000)\n",
    "* correct solution for default given values is `epaopuafbuabmmanzapsbohft`\n",
    "* keep in mind that you (or user) have to provide custiom crypting TABLE, do not use all characters or something like that\n",
    "* once again: your file MUST start with constants: `MESSAGE`, `TABLE`, `KEY`. Do not rename them! Do not ask for user input! Just process these variables and print output\n",
    "\n",
    "FAQ:\n",
    "\n",
    "* **What about spaces?** - spaces should be handled as any other character - if the space character is in `TABLE`, it can be in `MESSAGE` also\n",
    "* **What about capital letters?** - the same rule applies for capital letter, if user provide `TABLE` with capital letters, it is possible to use them also in `MESSAGE`\n",
    "\n",
    "## Test cases\n",
    "\n",
    "### Test case 1"
   ]
  },
  {
   "cell_type": "code",
   "execution_count": 2,
   "metadata": {},
   "outputs": [],
   "source": [
    "MESSAGE = \"do not eat all my oranges\"\n",
    "TABLE = 'abcdefghijklmnopqrstuvwxyz ' # see the space at the end\n",
    "KEY = 1"
   ]
  },
  {
   "cell_type": "markdown",
   "metadata": {},
   "source": [
    "output: epaopuafbuabmmanzapsbohft"
   ]
  },
  {
   "cell_type": "markdown",
   "metadata": {},
   "source": [
    "### Test case 2"
   ]
  },
  {
   "cell_type": "code",
   "execution_count": 3,
   "metadata": {},
   "outputs": [],
   "source": [
    "MESSAGE = \"hello\"\n",
    "TABLE = 'helo' # there is not many messages you can crypt with this table...\n",
    "KEY = -5"
   ]
  },
  {
   "cell_type": "markdown",
   "metadata": {},
   "source": [
    "output: oheel"
   ]
  },
  {
   "cell_type": "code",
   "execution_count": null,
   "metadata": {},
   "outputs": [],
   "source": []
  }
 ],
 "metadata": {
  "kernelspec": {
   "display_name": "Python 3",
   "language": "python",
   "name": "python3"
  },
  "language_info": {
   "codemirror_mode": {
    "name": "ipython",
    "version": 3
   },
   "file_extension": ".py",
   "mimetype": "text/x-python",
   "name": "python",
   "nbconvert_exporter": "python",
   "pygments_lexer": "ipython3",
   "version": "3.7.4"
  }
 },
 "nbformat": 4,
 "nbformat_minor": 2
}
