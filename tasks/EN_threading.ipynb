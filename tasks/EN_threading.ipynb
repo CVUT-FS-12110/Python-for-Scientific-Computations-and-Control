{
 "cells": [
  {
   "cell_type": "markdown",
   "metadata": {},
   "source": [
    "# ISS logger with multithreading\n",
    "\n",
    "This task is extension (total rework) of the ISS logger task.\n",
    "\n",
    "## ISS logger requirements\n",
    "\n",
    "\n",
    "* Reading ISS position will be in one thread\n",
    "\n",
    "* Writing to csv will be in another thread\n",
    "\n",
    "* Make a real-time printing function for the ISS position (x = longitude, y = latitutude). Printing will be also in different thread\n",
    "\n",
    "* Read, write and visualize with different frequencies\n",
    "\n",
    "  * read every 2 seconds\n",
    "\n",
    "  * write data into CSV file every 5 seconds\n",
    "  \n",
    "  * print data every second\n"
   ]
  },
  {
   "cell_type": "markdown",
   "metadata": {},
   "source": [
    "## Hints\n",
    "\n",
    "- You will need shared resource (for example a variable protected with a lock) that could be access with all threads.\n",
    "\n",
    "- Every thread should make a copy of the shared resources during execution (see snippet bellow) to minimize time the shared resource is blocked via lock (or other mechanism you choose)."
   ]
  },
  {
   "cell_type": "code",
   "execution_count": null,
   "metadata": {},
   "outputs": [],
   "source": [
    "shared_data = ...\n",
    "\n",
    "def getting_data():\n",
    "    with lock:\n",
    "        shared_data = ... # get data from remote server\n",
    "\n",
    "def using_data():\n",
    "    with lock:\n",
    "        data = shared_data\n",
    "    # do something with data (write, print, ...)"
   ]
  }
 ],
 "metadata": {
  "kernelspec": {
   "display_name": "Python 3",
   "language": "python",
   "name": "python3"
  },
  "language_info": {
   "codemirror_mode": {
    "name": "ipython",
    "version": 3
   },
   "file_extension": ".py",
   "mimetype": "text/x-python",
   "name": "python",
   "nbconvert_exporter": "python",
   "pygments_lexer": "ipython3",
   "version": "3.9.13"
  }
 },
 "nbformat": 4,
 "nbformat_minor": 2
}
