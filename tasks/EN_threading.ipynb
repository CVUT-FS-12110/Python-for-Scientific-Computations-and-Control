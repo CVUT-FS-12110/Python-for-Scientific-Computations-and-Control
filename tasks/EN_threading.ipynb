{
 "cells": [
  {
   "cell_type": "markdown",
   "metadata": {},
   "source": [
    "# ISS logger with multithreading\n",
    "\n",
    "This task is extension (total rework) of the ISS logger task.\n",
    "\n",
    "## ISS logger requirements\n",
    "\n",
    "\n",
    "* Reading ISS position will be in one thread\n",
    "\n",
    "* Writing to csv will be in another thread\n",
    "\n",
    "* Make a printing function for the ISS position (printed message could have custom format, but it should be nice). Printing will be also in a different thread\n",
    "\n",
    "* Read, write and print data with different frequencies:\n",
    "\n",
    "  * read (fetch from remote server) every 2 seconds\n",
    "\n",
    "  * write data into CSV file every 5 seconds\n",
    "  \n",
    "  * print data every second\n"
   ]
  },
  {
   "cell_type": "markdown",
   "metadata": {},
   "source": [
    "## Hints\n",
    "\n",
    "- You will need a shared resource (for example a variable protected with a lock) that could be accessed with all threads.\n",
    "\n",
    "- Every thread should make a copy of the shared resources during execution (see snippet bellow) to minimize time the shared resource is blocked via lock (or other mechanism you choose).\n",
    "\n",
    "- There can be an infinite while loop in the script to keep the program running - You can understand it pretty much like an another thread (the default thread/process)"
   ]
  },
  {
   "cell_type": "code",
   "execution_count": null,
   "metadata": {},
   "outputs": [],
   "source": [
    "# snippet with few examples (consider it as a pseudocode hint for some aspects of the possible solution)\n",
    "\n",
    "shared_data = ...\n",
    "\n",
    "def getting_data():\n",
    "    with lock:\n",
    "        shared_data = ... # get data from remote server\n",
    "\n",
    "def using_data():\n",
    "    with lock:\n",
    "        data = shared_data\n",
    "    # do something with data (write, print, ...)\n",
    "    \n",
    "    \n",
    "# make all thread running    \n",
    "    \n",
    "while True: # keep the program running in background all the time\n",
    "    sleep.sleep(10) # it does not matter how long it sleep, this is just placeholder to keep the program running"
   ]
  }
 ],
 "metadata": {
  "kernelspec": {
   "display_name": "Python 3",
   "language": "python",
   "name": "python3"
  },
  "language_info": {
   "codemirror_mode": {
    "name": "ipython",
    "version": 3
   },
   "file_extension": ".py",
   "mimetype": "text/x-python",
   "name": "python",
   "nbconvert_exporter": "python",
   "pygments_lexer": "ipython3",
   "version": "3.9.13"
  }
 },
 "nbformat": 4,
 "nbformat_minor": 2
}
