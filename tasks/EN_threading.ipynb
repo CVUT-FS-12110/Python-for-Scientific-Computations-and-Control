{
 "cells": [
  {
   "cell_type": "markdown",
   "metadata": {},
   "source": [
    "# Task - Multithreading\n",
    "## Apply multithreading to one of previous tasks\n",
    "### For example ISS logger:\n",
    "\n",
    "<ol>\n",
    "  <li>Reading ISS position will be in one thread</li>\n",
    "  <li>Writing to csv will be in another thread</li>\n",
    "  <li>Make a real-time plot visualizing the ISS position (x = longitude, y = latitutude). Plotting will be also in different thread</li>\n",
    "  <li>Read, write and visualize with different frequencies (eg. read every second, write every 5 seconds, visualize every 3 seconds) </li>\n",
    "    \n",
    "</ol>\n"
   ]
  },
  {
   "cell_type": "markdown",
   "metadata": {},
   "source": [
    "### Very basic updating plot example:\n",
    "You can try  <a href=\"https://matplotlib.org/api/animation_api.html\">matplotlib animation</a>\n"
   ]
  },
  {
   "cell_type": "code",
   "execution_count": 1,
   "metadata": {},
   "outputs": [
    {
     "data": {
      "image/png": "[encoded data removed]",
      "text/plain": [
       "<Figure size 432x288 with 1 Axes>"
      ]
     },
     "metadata": {
      "needs_background": "light"
     },
     "output_type": "display_data"
    },
    {
     "data": {
      "text/plain": [
       "<Figure size 432x288 with 0 Axes>"
      ]
     },
     "metadata": {},
     "output_type": "display_data"
    },
    {
     "data": {
      "text/plain": [
       "<Figure size 432x288 with 0 Axes>"
      ]
     },
     "metadata": {},
     "output_type": "display_data"
    },
    {
     "data": {
      "text/plain": [
       "<Figure size 432x288 with 0 Axes>"
      ]
     },
     "metadata": {},
     "output_type": "display_data"
    },
    {
     "data": {
      "text/plain": [
       "<Figure size 432x288 with 0 Axes>"
      ]
     },
     "metadata": {},
     "output_type": "display_data"
    },
    {
     "data": {
      "text/plain": [
       "<Figure size 432x288 with 0 Axes>"
      ]
     },
     "metadata": {},
     "output_type": "display_data"
    },
    {
     "data": {
      "text/plain": [
       "<Figure size 432x288 with 0 Axes>"
      ]
     },
     "metadata": {},
     "output_type": "display_data"
    },
    {
     "data": {
      "text/plain": [
       "<Figure size 432x288 with 0 Axes>"
      ]
     },
     "metadata": {},
     "output_type": "display_data"
    },
    {
     "data": {
      "text/plain": [
       "<Figure size 432x288 with 0 Axes>"
      ]
     },
     "metadata": {},
     "output_type": "display_data"
    },
    {
     "data": {
      "text/plain": [
       "<Figure size 432x288 with 0 Axes>"
      ]
     },
     "metadata": {},
     "output_type": "display_data"
    }
   ],
   "source": [
    "# This won't work in jupyter notebook\n",
    "import matplotlib.pyplot as plt\n",
    "import numpy\n",
    "%matplotlib inline\n",
    "\n",
    "hl, = plt.plot([], []) #empty plot\n",
    "plt.ylim(0, 150)       # set axis limits\n",
    "plt.xlim(0, 15)\n",
    "\n",
    "def update_line(hl, new_data):\n",
    "    hl.set_xdata(numpy.append(hl.get_xdata(), new_data[0]))\n",
    "    hl.set_ydata(numpy.append(hl.get_ydata(), new_data[1]))\n",
    "    plt.draw()        # draw new data\n",
    "    plt.pause(0.5)    # update graph every 0.5 second\n",
    "\n",
    "new_data= [0,0]\n",
    "\n",
    "# basic data generation for visualization\n",
    "for i in range(10):\n",
    "    new_data[0] = i     # x data\n",
    "    new_data[1] = i*10  # y data\n",
    "    update_line(hl, new_data)"
   ]
  },
  {
   "cell_type": "code",
   "execution_count": null,
   "metadata": {},
   "outputs": [],
   "source": []
  }
 ],
 "metadata": {
  "kernelspec": {
   "display_name": "Python 3",
   "language": "python",
   "name": "python3"
  },
  "language_info": {
   "codemirror_mode": {
    "name": "ipython",
    "version": 3
   },
   "file_extension": ".py",
   "mimetype": "text/x-python",
   "name": "python",
   "nbconvert_exporter": "python",
   "pygments_lexer": "ipython3",
   "version": "3.8.8"
  }
 },
 "nbformat": 4,
 "nbformat_minor": 2
}
