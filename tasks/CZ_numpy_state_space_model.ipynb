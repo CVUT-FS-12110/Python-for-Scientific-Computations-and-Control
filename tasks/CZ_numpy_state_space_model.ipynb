{
 "cells": [
  {
   "cell_type": "markdown",
   "metadata": {},
   "source": [
    "# Úkol - NumPy a Matplotlib\n",
    "## Diskrétní řešič lineárních dynamických systémů:\n",
    "\n",
    "<ol>\n",
    "   <li>Stavová formulace: <a href=\"https://en.wikipedia.org/wiki/State-space_representation\">https://en.wikipedia.org/wiki/State-space_representation</a></li>    \n",
    "  <li>Uvažujte obecný diskrétní lineární systém ve stavové formulaci:\n",
    "      $$\\boldsymbol{x}(k+1) = \\boldsymbol{Ax}(k) + \\boldsymbol{Bu}(k)$$<br>\n",
    "      $$\\boldsymbol{y}(k) = \\boldsymbol{Cx}(k) + \\boldsymbol{Du}(k)$$</li> \n",
    "  <li>Naprogramujte simulátor jehož vstupem jsou matice A, B, C, D, vektor počátečních podmínek x(0), časový vektor a vektor vstupů u. Výstupem je vektor stavových proměnných x, výstupní vektor y a časový vektor. </li>\n",
    "  <li>Zvolte si libovolný dynamický systém druhého nebo třetího řádu, vyšetřete stabilitu a simulujte pomocí vámi stvořené funkce </li>\n",
    "  <li>Vizualizujte závislost stavových proměnných x. Dále vizualizujte časový průběh vstupů u a výstupů y. Grafy by měly obsahovat popisky os, název, legendu atd.</li>\n",
    "   <li><strong>K řešení můžete použít pouze NumPy a Matplotlib. Nezapomeňte vše řádně okomentovat</strong></li>\n",
    "</ol>"
   ]
  },
  {
   "cell_type": "code",
   "execution_count": null,
   "metadata": {},
   "outputs": [],
   "source": []
  }
 ],
 "metadata": {
  "kernelspec": {
   "display_name": "Python 3",
   "language": "python",
   "name": "python3"
  },
  "language_info": {
   "codemirror_mode": {
    "name": "ipython",
    "version": 3
   },
   "file_extension": ".py",
   "mimetype": "text/x-python",
   "name": "python",
   "nbconvert_exporter": "python",
   "pygments_lexer": "ipython3",
   "version": "3.5.5"
  }
 },
 "nbformat": 4,
 "nbformat_minor": 2
}
