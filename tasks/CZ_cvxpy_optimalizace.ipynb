{
 "nbformat": 4,
 "nbformat_minor": 2,
 "metadata": {
  "language_info": {
   "name": "python",
   "codemirror_mode": {
    "name": "ipython",
    "version": 3
   },
   "version": "3.6.8-final"
  },
  "orig_nbformat": 2,
  "file_extension": ".py",
  "mimetype": "text/x-python",
  "name": "python",
  "npconvert_exporter": "python",
  "pygments_lexer": "ipython3",
  "version": 3,
  "kernelspec": {
   "name": "python36864bitvenvvenv58f594475b00410ba3d468097e646b70",
   "display_name": "Python 3.6.8 64-bit ('.venv': venv)"
  }
 },
 "cells": [
  {
   "cell_type": "markdown",
   "metadata": {},
   "source": [
    "# Úkol cvxpy\n",
    "\n",
    "Pomocí knihovny cvxpy napiště kód pro nalezení řešení následující úlohy:\n",
    "\n",
    "Naše továrna vyrábí tři typy mobilů (označme je *A, B, C*).\n",
    "- zisk za kus mobilu typu A bude každý měsíc konstantní (proměnná *price_a*)\n",
    "- zisk za kus mobilu typu B se bude snižovat, protože o něj nebude zájem a bude se muset snižovat i jeho cena. Zisk za kus je uložený v proměné *price_b*\n",
    "- zisk za kus mobilu typu C se naopak bude zvyšovat. Jedná se o nový model a očekává se rapidní zlepšení technologie výroby (hlavně zlevnění pomocí velkosériové výroby)\n",
    "\n",
    "Omezení továrny:\n",
    "- Továrna není schopna vyrobit více, než 10000 kusů mobilů za měsíc\n",
    "- Každá linka je trochu jiná, takže se každý měsíc musí vyrobit minimálně 2000 kusů od každého typu mobilu\n",
    "- V druhé polovině roku nesmí být počet vyrobených modilů typu C více než 5000\n",
    "- Výroba mobilů typu B nikdy nesmí překročit 4500 za měsíc\n",
    "- V první polovině roku nesmí být počet vyrobených mobilů typu A více než 4000\n",
    "\n",
    "Naplánujte výrobu pro každý typ mobilu pro každý měsíc abyste maximalizovali celkový zisk továrny za rok. Řešení tedy bude, že pro každý měsíc budete mít 3 čísla (počty kusů) pro mobily typu A, B a C.\n",
    "\n",
    "Jaký bude celkový zisk továrny v CZK?"
   ]
  },
  {
   "cell_type": "code",
   "execution_count": 1,
   "metadata": {},
   "outputs": [],
   "source": [
    "import cvxpy as cp\n",
    "import matplotlib.pyplot as plt\n",
    "import numpy as np"
   ]
  },
  {
   "cell_type": "code",
   "execution_count": 91,
   "metadata": {},
   "outputs": [],
   "source": [
    "price_a = np.full(12, 325.)\n",
    "price_b = np.array([300, 300, 290, 275, 275, 280,\n",
    "                    260, 250, 230, 200, 210, 190.])\n",
    "price_c = np.array([100, 110, 98, 115, 200, 220,\n",
    "                    210, 500, 500, 490, 487, 550.])"
   ]
  },
  {
   "cell_type": "code",
   "execution_count": null,
   "metadata": {},
   "outputs": [],
   "source": []
  }
 ]
}