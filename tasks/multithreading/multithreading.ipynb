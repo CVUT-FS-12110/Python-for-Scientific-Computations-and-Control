{
 "cells": [
  {
   "cell_type": "markdown",
   "id": "0a3af42d",
   "metadata": {},
   "source": [
    "# Task - multithreading\n",
    "\n",
    "<ol>\n",
    "<li>Program for example any math function you want, which has some input and returns some result</li>\n",
    "<li>Visualize the results of your function in graph using for example matplotlib</li>\n",
    "<li>Write the result of your function to csv file</li>\n",
    "<li>Finally split these three operations into three threads. Every thread should work with different frequency. For example call your math function every 1 second, update your graph every 2 seconds and write to csv every 3 seconds. Pay attention to using matplotlib - matplotlib has to be used in the main thread</li>\n",
    "</ol>\n"
   ]
  },
  {
   "cell_type": "markdown",
   "id": "18a41962",
   "metadata": {},
   "source": [
    "### Updating graph example:"
   ]
  },
  {
   "cell_type": "code",
   "execution_count": null,
   "id": "814c6f5e",
   "metadata": {},
   "outputs": [],
   "source": [
    "# This won't work in jupyter notebook\n",
    "import matplotlib.pyplot as plt\n",
    "import numpy\n",
    "\n",
    "plot, = plt.plot([], []) #empty plot\n",
    "plt.ylim(0, 150)       # set axis limits\n",
    "plt.xlim(0, 15)\n",
    "\n",
    "def update_line(plot, new_data):\n",
    "    plot.set_xdata(numpy.append(plot.get_xdata(), new_data[0]))\n",
    "    plot.set_ydata(numpy.append(plot.get_ydata(), new_data[1]))\n",
    "    plt.draw()        # draw new data\n",
    "    plt.pause(0.5)    # update graph every 0.5 second\n",
    "\n",
    "new_data= [0,0]\n",
    "\n",
    "# basic data generation for visualization\n",
    "for i in range(10):\n",
    "    new_data[0] = i     # x data\n",
    "    new_data[1] = i*10  # y data\n",
    "    update_line(plot, new_data)"
   ]
  }
 ],
 "metadata": {
  "kernelspec": {
   "display_name": "Python 3 (ipykernel)",
   "language": "python",
   "name": "python3"
  },
  "language_info": {
   "codemirror_mode": {
    "name": "ipython",
    "version": 3
   },
   "file_extension": ".py",
   "mimetype": "text/x-python",
   "name": "python",
   "nbconvert_exporter": "python",
   "pygments_lexer": "ipython3",
   "version": "3.7.6"
  }
 },
 "nbformat": 4,
 "nbformat_minor": 5
}
