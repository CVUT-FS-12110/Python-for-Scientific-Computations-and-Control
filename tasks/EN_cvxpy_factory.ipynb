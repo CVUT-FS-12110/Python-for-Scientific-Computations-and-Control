{
 "nbformat": 4,
 "nbformat_minor": 2,
 "metadata": {
  "language_info": {
   "name": "python",
   "codemirror_mode": {
    "name": "ipython",
    "version": 3
   },
   "version": "3.6.8-final"
  },
  "orig_nbformat": 2,
  "file_extension": ".py",
  "mimetype": "text/x-python",
  "name": "python",
  "npconvert_exporter": "python",
  "pygments_lexer": "ipython3",
  "version": 3,
  "kernelspec": {
   "name": "python36864bitvenvvenv58f594475b00410ba3d468097e646b70",
   "display_name": "Python 3.6.8 64-bit ('.venv': venv)"
  }
 },
 "cells": [
  {
   "cell_type": "markdown",
   "metadata": {},
   "source": [
    "# Task cvxpy\n",
    "\n",
    "Using cvxpy library, write a scrit for finding solution to a following problem:\n",
    "\n",
    "Our mobile factory makes three types of phones (lets call them *A, B, C*).\n",
    "- profit per phone type A will be constant for every following month (variable *price_a*)\n",
    "- profit per phone type B will be lowering every month, because it is an old model and people will be buying less so the overall price will have to be lower. Profit per phone type B is in variable *price_b*.\n",
    "- profit per phone type C on the other hand will go up. It is new model and company expect to rapid improvement in technology (mostly lowering the manufacturing costs), variable *price_c*\n",
    "\n",
    "Factory limitations:\n",
    "- factory is not able to produce more then 10000 mobile phones per month\n",
    "- every production line is different. Thus every month at least 2000 of mobile phone of each type has to be made\n",
    "- I the second half of the year, manufactured mobile phones of type C can NOT be more than 5000 per month\n",
    "- mobile phones type B can NOT be greater than 4500 per month\n",
    "- in the first half of the year quantity of mobile phones of type A can NOT exceed 4000 per month\n",
    "\n",
    "Your task is to make a schedule for every type of mobile phone for every month in the followting year to maximize profit of a whole factory. That mean you will have 3 numbers (type A, B and C) for every month (12 months).\n",
    "\n",
    "What will be the profit of a whole factory next year?"
   ]
  },
  {
   "cell_type": "code",
   "execution_count": 1,
   "metadata": {},
   "outputs": [],
   "source": [
    "import cvxpy as cp\n",
    "import matplotlib.pyplot as plt\n",
    "import numpy as np"
   ]
  },
  {
   "cell_type": "code",
   "execution_count": 91,
   "metadata": {},
   "outputs": [],
   "source": [
    "price_a = np.full(12, 325.)\n",
    "price_b = np.array([300, 300, 290, 275, 275, 280,\n",
    "                    260, 250, 230, 200, 210, 190.])\n",
    "price_c = np.array([100, 110, 98, 115, 200, 220,\n",
    "                    210, 500, 500, 490, 487, 550.])"
   ]
  },
  {
   "cell_type": "code",
   "execution_count": null,
   "metadata": {},
   "outputs": [],
   "source": []
  }
 ]
}